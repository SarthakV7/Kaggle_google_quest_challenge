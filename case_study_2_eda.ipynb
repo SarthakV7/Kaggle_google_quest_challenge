{
  "nbformat": 4,
  "nbformat_minor": 0,
  "metadata": {
    "colab": {
      "name": "case_study_2_eda.ipynb",
      "provenance": [],
      "mount_file_id": "1tvOFpI9EitoUfpljllPXI8bP22hNr5Kq",
      "authorship_tag": "ABX9TyOqzhfo9tIm/ou3DCbfdufX",
      "include_colab_link": true
    },
    "kernelspec": {
      "name": "python3",
      "display_name": "Python 3"
    },
    "accelerator": "GPU",
    "widgets": {
      "application/vnd.jupyter.widget-state+json": {
        "a535dff749234e0a87ba37f6f93337fa": {
          "model_module": "@jupyter-widgets/controls",
          "model_name": "HBoxModel",
          "state": {
            "_view_name": "HBoxView",
            "_dom_classes": [],
            "_model_name": "HBoxModel",
            "_view_module": "@jupyter-widgets/controls",
            "_model_module_version": "1.5.0",
            "_view_count": null,
            "_view_module_version": "1.5.0",
            "box_style": "",
            "layout": "IPY_MODEL_e237c14e1a6d46c9b4757e9517a9bd21",
            "_model_module": "@jupyter-widgets/controls",
            "children": [
              "IPY_MODEL_ac35446f57ba45efaef7e6752f9f25a7",
              "IPY_MODEL_41e7f31c0cc14e42b98e3f40c6ed9943"
            ]
          }
        },
        "e237c14e1a6d46c9b4757e9517a9bd21": {
          "model_module": "@jupyter-widgets/base",
          "model_name": "LayoutModel",
          "state": {
            "_view_name": "LayoutView",
            "grid_template_rows": null,
            "right": null,
            "justify_content": null,
            "_view_module": "@jupyter-widgets/base",
            "overflow": null,
            "_model_module_version": "1.2.0",
            "_view_count": null,
            "flex_flow": null,
            "width": null,
            "min_width": null,
            "border": null,
            "align_items": null,
            "bottom": null,
            "_model_module": "@jupyter-widgets/base",
            "top": null,
            "grid_column": null,
            "overflow_y": null,
            "overflow_x": null,
            "grid_auto_flow": null,
            "grid_area": null,
            "grid_template_columns": null,
            "flex": null,
            "_model_name": "LayoutModel",
            "justify_items": null,
            "grid_row": null,
            "max_height": null,
            "align_content": null,
            "visibility": null,
            "align_self": null,
            "height": null,
            "min_height": null,
            "padding": null,
            "grid_auto_rows": null,
            "grid_gap": null,
            "max_width": null,
            "order": null,
            "_view_module_version": "1.2.0",
            "grid_template_areas": null,
            "object_position": null,
            "object_fit": null,
            "grid_auto_columns": null,
            "margin": null,
            "display": null,
            "left": null
          }
        },
        "ac35446f57ba45efaef7e6752f9f25a7": {
          "model_module": "@jupyter-widgets/controls",
          "model_name": "FloatProgressModel",
          "state": {
            "_view_name": "ProgressView",
            "style": "IPY_MODEL_7e1900f3300645a1b308f101ffa75bcc",
            "_dom_classes": [],
            "description": "",
            "_model_name": "FloatProgressModel",
            "bar_style": "success",
            "max": 1,
            "_view_module": "@jupyter-widgets/controls",
            "_model_module_version": "1.5.0",
            "value": 1,
            "_view_count": null,
            "_view_module_version": "1.5.0",
            "orientation": "horizontal",
            "min": 0,
            "description_tooltip": null,
            "_model_module": "@jupyter-widgets/controls",
            "layout": "IPY_MODEL_6f604ba0d0d249cca38c98f8881574e7"
          }
        },
        "41e7f31c0cc14e42b98e3f40c6ed9943": {
          "model_module": "@jupyter-widgets/controls",
          "model_name": "HTMLModel",
          "state": {
            "_view_name": "HTMLView",
            "style": "IPY_MODEL_8319ef98f8dc4278b77de9cd3f9a07c1",
            "_dom_classes": [],
            "description": "",
            "_model_name": "HTMLModel",
            "placeholder": "​",
            "_view_module": "@jupyter-widgets/controls",
            "_model_module_version": "1.5.0",
            "value": " 400000/? [00:33&lt;00:00, 12056.97it/s]",
            "_view_count": null,
            "_view_module_version": "1.5.0",
            "description_tooltip": null,
            "_model_module": "@jupyter-widgets/controls",
            "layout": "IPY_MODEL_f0c9ad0f920c4d7497ccacfe4d6e474d"
          }
        },
        "7e1900f3300645a1b308f101ffa75bcc": {
          "model_module": "@jupyter-widgets/controls",
          "model_name": "ProgressStyleModel",
          "state": {
            "_view_name": "StyleView",
            "_model_name": "ProgressStyleModel",
            "description_width": "initial",
            "_view_module": "@jupyter-widgets/base",
            "_model_module_version": "1.5.0",
            "_view_count": null,
            "_view_module_version": "1.2.0",
            "bar_color": null,
            "_model_module": "@jupyter-widgets/controls"
          }
        },
        "6f604ba0d0d249cca38c98f8881574e7": {
          "model_module": "@jupyter-widgets/base",
          "model_name": "LayoutModel",
          "state": {
            "_view_name": "LayoutView",
            "grid_template_rows": null,
            "right": null,
            "justify_content": null,
            "_view_module": "@jupyter-widgets/base",
            "overflow": null,
            "_model_module_version": "1.2.0",
            "_view_count": null,
            "flex_flow": null,
            "width": null,
            "min_width": null,
            "border": null,
            "align_items": null,
            "bottom": null,
            "_model_module": "@jupyter-widgets/base",
            "top": null,
            "grid_column": null,
            "overflow_y": null,
            "overflow_x": null,
            "grid_auto_flow": null,
            "grid_area": null,
            "grid_template_columns": null,
            "flex": null,
            "_model_name": "LayoutModel",
            "justify_items": null,
            "grid_row": null,
            "max_height": null,
            "align_content": null,
            "visibility": null,
            "align_self": null,
            "height": null,
            "min_height": null,
            "padding": null,
            "grid_auto_rows": null,
            "grid_gap": null,
            "max_width": null,
            "order": null,
            "_view_module_version": "1.2.0",
            "grid_template_areas": null,
            "object_position": null,
            "object_fit": null,
            "grid_auto_columns": null,
            "margin": null,
            "display": null,
            "left": null
          }
        },
        "8319ef98f8dc4278b77de9cd3f9a07c1": {
          "model_module": "@jupyter-widgets/controls",
          "model_name": "DescriptionStyleModel",
          "state": {
            "_view_name": "StyleView",
            "_model_name": "DescriptionStyleModel",
            "description_width": "",
            "_view_module": "@jupyter-widgets/base",
            "_model_module_version": "1.5.0",
            "_view_count": null,
            "_view_module_version": "1.2.0",
            "_model_module": "@jupyter-widgets/controls"
          }
        },
        "f0c9ad0f920c4d7497ccacfe4d6e474d": {
          "model_module": "@jupyter-widgets/base",
          "model_name": "LayoutModel",
          "state": {
            "_view_name": "LayoutView",
            "grid_template_rows": null,
            "right": null,
            "justify_content": null,
            "_view_module": "@jupyter-widgets/base",
            "overflow": null,
            "_model_module_version": "1.2.0",
            "_view_count": null,
            "flex_flow": null,
            "width": null,
            "min_width": null,
            "border": null,
            "align_items": null,
            "bottom": null,
            "_model_module": "@jupyter-widgets/base",
            "top": null,
            "grid_column": null,
            "overflow_y": null,
            "overflow_x": null,
            "grid_auto_flow": null,
            "grid_area": null,
            "grid_template_columns": null,
            "flex": null,
            "_model_name": "LayoutModel",
            "justify_items": null,
            "grid_row": null,
            "max_height": null,
            "align_content": null,
            "visibility": null,
            "align_self": null,
            "height": null,
            "min_height": null,
            "padding": null,
            "grid_auto_rows": null,
            "grid_gap": null,
            "max_width": null,
            "order": null,
            "_view_module_version": "1.2.0",
            "grid_template_areas": null,
            "object_position": null,
            "object_fit": null,
            "grid_auto_columns": null,
            "margin": null,
            "display": null,
            "left": null
          }
        },
        "b75940a86f73415cb18d9ee3252563f5": {
          "model_module": "@jupyter-widgets/controls",
          "model_name": "HBoxModel",
          "state": {
            "_view_name": "HBoxView",
            "_dom_classes": [],
            "_model_name": "HBoxModel",
            "_view_module": "@jupyter-widgets/controls",
            "_model_module_version": "1.5.0",
            "_view_count": null,
            "_view_module_version": "1.5.0",
            "box_style": "",
            "layout": "IPY_MODEL_7d06f854eaf2469a9560b98a47fc2067",
            "_model_module": "@jupyter-widgets/controls",
            "children": [
              "IPY_MODEL_fcc5d8a2cf424470af0db22a509d0bc9",
              "IPY_MODEL_464e6bc5752f4837823e1744eef4132d"
            ]
          }
        },
        "7d06f854eaf2469a9560b98a47fc2067": {
          "model_module": "@jupyter-widgets/base",
          "model_name": "LayoutModel",
          "state": {
            "_view_name": "LayoutView",
            "grid_template_rows": null,
            "right": null,
            "justify_content": null,
            "_view_module": "@jupyter-widgets/base",
            "overflow": null,
            "_model_module_version": "1.2.0",
            "_view_count": null,
            "flex_flow": null,
            "width": null,
            "min_width": null,
            "border": null,
            "align_items": null,
            "bottom": null,
            "_model_module": "@jupyter-widgets/base",
            "top": null,
            "grid_column": null,
            "overflow_y": null,
            "overflow_x": null,
            "grid_auto_flow": null,
            "grid_area": null,
            "grid_template_columns": null,
            "flex": null,
            "_model_name": "LayoutModel",
            "justify_items": null,
            "grid_row": null,
            "max_height": null,
            "align_content": null,
            "visibility": null,
            "align_self": null,
            "height": null,
            "min_height": null,
            "padding": null,
            "grid_auto_rows": null,
            "grid_gap": null,
            "max_width": null,
            "order": null,
            "_view_module_version": "1.2.0",
            "grid_template_areas": null,
            "object_position": null,
            "object_fit": null,
            "grid_auto_columns": null,
            "margin": null,
            "display": null,
            "left": null
          }
        },
        "fcc5d8a2cf424470af0db22a509d0bc9": {
          "model_module": "@jupyter-widgets/controls",
          "model_name": "FloatProgressModel",
          "state": {
            "_view_name": "ProgressView",
            "style": "IPY_MODEL_fca63fb264ab408d81810a1cc40330cb",
            "_dom_classes": [],
            "description": "100%",
            "_model_name": "FloatProgressModel",
            "bar_style": "success",
            "max": 7369,
            "_view_module": "@jupyter-widgets/controls",
            "_model_module_version": "1.5.0",
            "value": 7369,
            "_view_count": null,
            "_view_module_version": "1.5.0",
            "orientation": "horizontal",
            "min": 0,
            "description_tooltip": null,
            "_model_module": "@jupyter-widgets/controls",
            "layout": "IPY_MODEL_8c50f53f5c7d4542bbdd8c92f7219f2b"
          }
        },
        "464e6bc5752f4837823e1744eef4132d": {
          "model_module": "@jupyter-widgets/controls",
          "model_name": "HTMLModel",
          "state": {
            "_view_name": "HTMLView",
            "style": "IPY_MODEL_f7f37c3264f24a7f8fbc937e6353f102",
            "_dom_classes": [],
            "description": "",
            "_model_name": "HTMLModel",
            "placeholder": "​",
            "_view_module": "@jupyter-widgets/controls",
            "_model_module_version": "1.5.0",
            "value": " 7369/7369 [00:00&lt;00:00, 13081.59it/s]",
            "_view_count": null,
            "_view_module_version": "1.5.0",
            "description_tooltip": null,
            "_model_module": "@jupyter-widgets/controls",
            "layout": "IPY_MODEL_8eeb53c99f0a4486b9b39139cee66f03"
          }
        },
        "fca63fb264ab408d81810a1cc40330cb": {
          "model_module": "@jupyter-widgets/controls",
          "model_name": "ProgressStyleModel",
          "state": {
            "_view_name": "StyleView",
            "_model_name": "ProgressStyleModel",
            "description_width": "initial",
            "_view_module": "@jupyter-widgets/base",
            "_model_module_version": "1.5.0",
            "_view_count": null,
            "_view_module_version": "1.2.0",
            "bar_color": null,
            "_model_module": "@jupyter-widgets/controls"
          }
        },
        "8c50f53f5c7d4542bbdd8c92f7219f2b": {
          "model_module": "@jupyter-widgets/base",
          "model_name": "LayoutModel",
          "state": {
            "_view_name": "LayoutView",
            "grid_template_rows": null,
            "right": null,
            "justify_content": null,
            "_view_module": "@jupyter-widgets/base",
            "overflow": null,
            "_model_module_version": "1.2.0",
            "_view_count": null,
            "flex_flow": null,
            "width": null,
            "min_width": null,
            "border": null,
            "align_items": null,
            "bottom": null,
            "_model_module": "@jupyter-widgets/base",
            "top": null,
            "grid_column": null,
            "overflow_y": null,
            "overflow_x": null,
            "grid_auto_flow": null,
            "grid_area": null,
            "grid_template_columns": null,
            "flex": null,
            "_model_name": "LayoutModel",
            "justify_items": null,
            "grid_row": null,
            "max_height": null,
            "align_content": null,
            "visibility": null,
            "align_self": null,
            "height": null,
            "min_height": null,
            "padding": null,
            "grid_auto_rows": null,
            "grid_gap": null,
            "max_width": null,
            "order": null,
            "_view_module_version": "1.2.0",
            "grid_template_areas": null,
            "object_position": null,
            "object_fit": null,
            "grid_auto_columns": null,
            "margin": null,
            "display": null,
            "left": null
          }
        },
        "f7f37c3264f24a7f8fbc937e6353f102": {
          "model_module": "@jupyter-widgets/controls",
          "model_name": "DescriptionStyleModel",
          "state": {
            "_view_name": "StyleView",
            "_model_name": "DescriptionStyleModel",
            "description_width": "",
            "_view_module": "@jupyter-widgets/base",
            "_model_module_version": "1.5.0",
            "_view_count": null,
            "_view_module_version": "1.2.0",
            "_model_module": "@jupyter-widgets/controls"
          }
        },
        "8eeb53c99f0a4486b9b39139cee66f03": {
          "model_module": "@jupyter-widgets/base",
          "model_name": "LayoutModel",
          "state": {
            "_view_name": "LayoutView",
            "grid_template_rows": null,
            "right": null,
            "justify_content": null,
            "_view_module": "@jupyter-widgets/base",
            "overflow": null,
            "_model_module_version": "1.2.0",
            "_view_count": null,
            "flex_flow": null,
            "width": null,
            "min_width": null,
            "border": null,
            "align_items": null,
            "bottom": null,
            "_model_module": "@jupyter-widgets/base",
            "top": null,
            "grid_column": null,
            "overflow_y": null,
            "overflow_x": null,
            "grid_auto_flow": null,
            "grid_area": null,
            "grid_template_columns": null,
            "flex": null,
            "_model_name": "LayoutModel",
            "justify_items": null,
            "grid_row": null,
            "max_height": null,
            "align_content": null,
            "visibility": null,
            "align_self": null,
            "height": null,
            "min_height": null,
            "padding": null,
            "grid_auto_rows": null,
            "grid_gap": null,
            "max_width": null,
            "order": null,
            "_view_module_version": "1.2.0",
            "grid_template_areas": null,
            "object_position": null,
            "object_fit": null,
            "grid_auto_columns": null,
            "margin": null,
            "display": null,
            "left": null
          }
        },
        "996f9016ae3340a1af39d612bd24e132": {
          "model_module": "@jupyter-widgets/controls",
          "model_name": "HBoxModel",
          "state": {
            "_view_name": "HBoxView",
            "_dom_classes": [],
            "_model_name": "HBoxModel",
            "_view_module": "@jupyter-widgets/controls",
            "_model_module_version": "1.5.0",
            "_view_count": null,
            "_view_module_version": "1.5.0",
            "box_style": "",
            "layout": "IPY_MODEL_a1d76d2312454a9eb1b83de868964199",
            "_model_module": "@jupyter-widgets/controls",
            "children": [
              "IPY_MODEL_d17ff212f1714cd996ac004f0f572113",
              "IPY_MODEL_8bde684a893145eca737143d7c82c793"
            ]
          }
        },
        "a1d76d2312454a9eb1b83de868964199": {
          "model_module": "@jupyter-widgets/base",
          "model_name": "LayoutModel",
          "state": {
            "_view_name": "LayoutView",
            "grid_template_rows": null,
            "right": null,
            "justify_content": null,
            "_view_module": "@jupyter-widgets/base",
            "overflow": null,
            "_model_module_version": "1.2.0",
            "_view_count": null,
            "flex_flow": null,
            "width": null,
            "min_width": null,
            "border": null,
            "align_items": null,
            "bottom": null,
            "_model_module": "@jupyter-widgets/base",
            "top": null,
            "grid_column": null,
            "overflow_y": null,
            "overflow_x": null,
            "grid_auto_flow": null,
            "grid_area": null,
            "grid_template_columns": null,
            "flex": null,
            "_model_name": "LayoutModel",
            "justify_items": null,
            "grid_row": null,
            "max_height": null,
            "align_content": null,
            "visibility": null,
            "align_self": null,
            "height": null,
            "min_height": null,
            "padding": null,
            "grid_auto_rows": null,
            "grid_gap": null,
            "max_width": null,
            "order": null,
            "_view_module_version": "1.2.0",
            "grid_template_areas": null,
            "object_position": null,
            "object_fit": null,
            "grid_auto_columns": null,
            "margin": null,
            "display": null,
            "left": null
          }
        },
        "d17ff212f1714cd996ac004f0f572113": {
          "model_module": "@jupyter-widgets/controls",
          "model_name": "FloatProgressModel",
          "state": {
            "_view_name": "ProgressView",
            "style": "IPY_MODEL_fe1b010058374052a5d550ca0377cf1d",
            "_dom_classes": [],
            "description": "100%",
            "_model_name": "FloatProgressModel",
            "bar_style": "success",
            "max": 30681,
            "_view_module": "@jupyter-widgets/controls",
            "_model_module_version": "1.5.0",
            "value": 30681,
            "_view_count": null,
            "_view_module_version": "1.5.0",
            "orientation": "horizontal",
            "min": 0,
            "description_tooltip": null,
            "_model_module": "@jupyter-widgets/controls",
            "layout": "IPY_MODEL_3fbd558f74e14243aa80a43c9d6ccef9"
          }
        },
        "8bde684a893145eca737143d7c82c793": {
          "model_module": "@jupyter-widgets/controls",
          "model_name": "HTMLModel",
          "state": {
            "_view_name": "HTMLView",
            "style": "IPY_MODEL_dffe67864b5d4ba3a21fe593f61bb065",
            "_dom_classes": [],
            "description": "",
            "_model_name": "HTMLModel",
            "placeholder": "​",
            "_view_module": "@jupyter-widgets/controls",
            "_model_module_version": "1.5.0",
            "value": " 30681/30681 [00:00&lt;00:00, 45858.00it/s]",
            "_view_count": null,
            "_view_module_version": "1.5.0",
            "description_tooltip": null,
            "_model_module": "@jupyter-widgets/controls",
            "layout": "IPY_MODEL_bc842eed3b8a47cca67ab9d16cecc3ed"
          }
        },
        "fe1b010058374052a5d550ca0377cf1d": {
          "model_module": "@jupyter-widgets/controls",
          "model_name": "ProgressStyleModel",
          "state": {
            "_view_name": "StyleView",
            "_model_name": "ProgressStyleModel",
            "description_width": "initial",
            "_view_module": "@jupyter-widgets/base",
            "_model_module_version": "1.5.0",
            "_view_count": null,
            "_view_module_version": "1.2.0",
            "bar_color": null,
            "_model_module": "@jupyter-widgets/controls"
          }
        },
        "3fbd558f74e14243aa80a43c9d6ccef9": {
          "model_module": "@jupyter-widgets/base",
          "model_name": "LayoutModel",
          "state": {
            "_view_name": "LayoutView",
            "grid_template_rows": null,
            "right": null,
            "justify_content": null,
            "_view_module": "@jupyter-widgets/base",
            "overflow": null,
            "_model_module_version": "1.2.0",
            "_view_count": null,
            "flex_flow": null,
            "width": null,
            "min_width": null,
            "border": null,
            "align_items": null,
            "bottom": null,
            "_model_module": "@jupyter-widgets/base",
            "top": null,
            "grid_column": null,
            "overflow_y": null,
            "overflow_x": null,
            "grid_auto_flow": null,
            "grid_area": null,
            "grid_template_columns": null,
            "flex": null,
            "_model_name": "LayoutModel",
            "justify_items": null,
            "grid_row": null,
            "max_height": null,
            "align_content": null,
            "visibility": null,
            "align_self": null,
            "height": null,
            "min_height": null,
            "padding": null,
            "grid_auto_rows": null,
            "grid_gap": null,
            "max_width": null,
            "order": null,
            "_view_module_version": "1.2.0",
            "grid_template_areas": null,
            "object_position": null,
            "object_fit": null,
            "grid_auto_columns": null,
            "margin": null,
            "display": null,
            "left": null
          }
        },
        "dffe67864b5d4ba3a21fe593f61bb065": {
          "model_module": "@jupyter-widgets/controls",
          "model_name": "DescriptionStyleModel",
          "state": {
            "_view_name": "StyleView",
            "_model_name": "DescriptionStyleModel",
            "description_width": "",
            "_view_module": "@jupyter-widgets/base",
            "_model_module_version": "1.5.0",
            "_view_count": null,
            "_view_module_version": "1.2.0",
            "_model_module": "@jupyter-widgets/controls"
          }
        },
        "bc842eed3b8a47cca67ab9d16cecc3ed": {
          "model_module": "@jupyter-widgets/base",
          "model_name": "LayoutModel",
          "state": {
            "_view_name": "LayoutView",
            "grid_template_rows": null,
            "right": null,
            "justify_content": null,
            "_view_module": "@jupyter-widgets/base",
            "overflow": null,
            "_model_module_version": "1.2.0",
            "_view_count": null,
            "flex_flow": null,
            "width": null,
            "min_width": null,
            "border": null,
            "align_items": null,
            "bottom": null,
            "_model_module": "@jupyter-widgets/base",
            "top": null,
            "grid_column": null,
            "overflow_y": null,
            "overflow_x": null,
            "grid_auto_flow": null,
            "grid_area": null,
            "grid_template_columns": null,
            "flex": null,
            "_model_name": "LayoutModel",
            "justify_items": null,
            "grid_row": null,
            "max_height": null,
            "align_content": null,
            "visibility": null,
            "align_self": null,
            "height": null,
            "min_height": null,
            "padding": null,
            "grid_auto_rows": null,
            "grid_gap": null,
            "max_width": null,
            "order": null,
            "_view_module_version": "1.2.0",
            "grid_template_areas": null,
            "object_position": null,
            "object_fit": null,
            "grid_auto_columns": null,
            "margin": null,
            "display": null,
            "left": null
          }
        },
        "c672b7fd1d69440b88766a8789b9627d": {
          "model_module": "@jupyter-widgets/controls",
          "model_name": "HBoxModel",
          "state": {
            "_view_name": "HBoxView",
            "_dom_classes": [],
            "_model_name": "HBoxModel",
            "_view_module": "@jupyter-widgets/controls",
            "_model_module_version": "1.5.0",
            "_view_count": null,
            "_view_module_version": "1.5.0",
            "box_style": "",
            "layout": "IPY_MODEL_a91aada90e624bd9a66755b79b00aab4",
            "_model_module": "@jupyter-widgets/controls",
            "children": [
              "IPY_MODEL_2137642e394a416e81c53c5dfea062c4",
              "IPY_MODEL_b5a4813b992f4e64bd9f47d3a74330cb"
            ]
          }
        },
        "a91aada90e624bd9a66755b79b00aab4": {
          "model_module": "@jupyter-widgets/base",
          "model_name": "LayoutModel",
          "state": {
            "_view_name": "LayoutView",
            "grid_template_rows": null,
            "right": null,
            "justify_content": null,
            "_view_module": "@jupyter-widgets/base",
            "overflow": null,
            "_model_module_version": "1.2.0",
            "_view_count": null,
            "flex_flow": null,
            "width": null,
            "min_width": null,
            "border": null,
            "align_items": null,
            "bottom": null,
            "_model_module": "@jupyter-widgets/base",
            "top": null,
            "grid_column": null,
            "overflow_y": null,
            "overflow_x": null,
            "grid_auto_flow": null,
            "grid_area": null,
            "grid_template_columns": null,
            "flex": null,
            "_model_name": "LayoutModel",
            "justify_items": null,
            "grid_row": null,
            "max_height": null,
            "align_content": null,
            "visibility": null,
            "align_self": null,
            "height": null,
            "min_height": null,
            "padding": null,
            "grid_auto_rows": null,
            "grid_gap": null,
            "max_width": null,
            "order": null,
            "_view_module_version": "1.2.0",
            "grid_template_areas": null,
            "object_position": null,
            "object_fit": null,
            "grid_auto_columns": null,
            "margin": null,
            "display": null,
            "left": null
          }
        },
        "2137642e394a416e81c53c5dfea062c4": {
          "model_module": "@jupyter-widgets/controls",
          "model_name": "FloatProgressModel",
          "state": {
            "_view_name": "ProgressView",
            "style": "IPY_MODEL_aad3058166d84388951730b083543a50",
            "_dom_classes": [],
            "description": "100%",
            "_model_name": "FloatProgressModel",
            "bar_style": "success",
            "max": 41958,
            "_view_module": "@jupyter-widgets/controls",
            "_model_module_version": "1.5.0",
            "value": 41958,
            "_view_count": null,
            "_view_module_version": "1.5.0",
            "orientation": "horizontal",
            "min": 0,
            "description_tooltip": null,
            "_model_module": "@jupyter-widgets/controls",
            "layout": "IPY_MODEL_62481d5370e5467eaea9585dbd157086"
          }
        },
        "b5a4813b992f4e64bd9f47d3a74330cb": {
          "model_module": "@jupyter-widgets/controls",
          "model_name": "HTMLModel",
          "state": {
            "_view_name": "HTMLView",
            "style": "IPY_MODEL_c03aad8ef9a04e7aa3d7ad7482b008cd",
            "_dom_classes": [],
            "description": "",
            "_model_name": "HTMLModel",
            "placeholder": "​",
            "_view_module": "@jupyter-widgets/controls",
            "_model_module_version": "1.5.0",
            "value": " 41958/41958 [00:00&lt;00:00, 333936.64it/s]",
            "_view_count": null,
            "_view_module_version": "1.5.0",
            "description_tooltip": null,
            "_model_module": "@jupyter-widgets/controls",
            "layout": "IPY_MODEL_b84295f244cc44fe9f9fd3a654799cc4"
          }
        },
        "aad3058166d84388951730b083543a50": {
          "model_module": "@jupyter-widgets/controls",
          "model_name": "ProgressStyleModel",
          "state": {
            "_view_name": "StyleView",
            "_model_name": "ProgressStyleModel",
            "description_width": "initial",
            "_view_module": "@jupyter-widgets/base",
            "_model_module_version": "1.5.0",
            "_view_count": null,
            "_view_module_version": "1.2.0",
            "bar_color": null,
            "_model_module": "@jupyter-widgets/controls"
          }
        },
        "62481d5370e5467eaea9585dbd157086": {
          "model_module": "@jupyter-widgets/base",
          "model_name": "LayoutModel",
          "state": {
            "_view_name": "LayoutView",
            "grid_template_rows": null,
            "right": null,
            "justify_content": null,
            "_view_module": "@jupyter-widgets/base",
            "overflow": null,
            "_model_module_version": "1.2.0",
            "_view_count": null,
            "flex_flow": null,
            "width": null,
            "min_width": null,
            "border": null,
            "align_items": null,
            "bottom": null,
            "_model_module": "@jupyter-widgets/base",
            "top": null,
            "grid_column": null,
            "overflow_y": null,
            "overflow_x": null,
            "grid_auto_flow": null,
            "grid_area": null,
            "grid_template_columns": null,
            "flex": null,
            "_model_name": "LayoutModel",
            "justify_items": null,
            "grid_row": null,
            "max_height": null,
            "align_content": null,
            "visibility": null,
            "align_self": null,
            "height": null,
            "min_height": null,
            "padding": null,
            "grid_auto_rows": null,
            "grid_gap": null,
            "max_width": null,
            "order": null,
            "_view_module_version": "1.2.0",
            "grid_template_areas": null,
            "object_position": null,
            "object_fit": null,
            "grid_auto_columns": null,
            "margin": null,
            "display": null,
            "left": null
          }
        },
        "c03aad8ef9a04e7aa3d7ad7482b008cd": {
          "model_module": "@jupyter-widgets/controls",
          "model_name": "DescriptionStyleModel",
          "state": {
            "_view_name": "StyleView",
            "_model_name": "DescriptionStyleModel",
            "description_width": "",
            "_view_module": "@jupyter-widgets/base",
            "_model_module_version": "1.5.0",
            "_view_count": null,
            "_view_module_version": "1.2.0",
            "_model_module": "@jupyter-widgets/controls"
          }
        },
        "b84295f244cc44fe9f9fd3a654799cc4": {
          "model_module": "@jupyter-widgets/base",
          "model_name": "LayoutModel",
          "state": {
            "_view_name": "LayoutView",
            "grid_template_rows": null,
            "right": null,
            "justify_content": null,
            "_view_module": "@jupyter-widgets/base",
            "overflow": null,
            "_model_module_version": "1.2.0",
            "_view_count": null,
            "flex_flow": null,
            "width": null,
            "min_width": null,
            "border": null,
            "align_items": null,
            "bottom": null,
            "_model_module": "@jupyter-widgets/base",
            "top": null,
            "grid_column": null,
            "overflow_y": null,
            "overflow_x": null,
            "grid_auto_flow": null,
            "grid_area": null,
            "grid_template_columns": null,
            "flex": null,
            "_model_name": "LayoutModel",
            "justify_items": null,
            "grid_row": null,
            "max_height": null,
            "align_content": null,
            "visibility": null,
            "align_self": null,
            "height": null,
            "min_height": null,
            "padding": null,
            "grid_auto_rows": null,
            "grid_gap": null,
            "max_width": null,
            "order": null,
            "_view_module_version": "1.2.0",
            "grid_template_areas": null,
            "object_position": null,
            "object_fit": null,
            "grid_auto_columns": null,
            "margin": null,
            "display": null,
            "left": null
          }
        }
      }
    }
  },
  "cells": [
    {
      "cell_type": "markdown",
      "metadata": {
        "id": "view-in-github",
        "colab_type": "text"
      },
      "source": [
        "<a href=\"https://colab.research.google.com/github/SarthakV7/Kaggle_google_quest_challenge/blob/master/case_study_2_eda.ipynb\" target=\"_parent\"><img src=\"https://colab.research.google.com/assets/colab-badge.svg\" alt=\"Open In Colab\"/></a>"
      ]
    },
    {
      "cell_type": "code",
      "metadata": {
        "id": "wk6Nu3KUIiOE",
        "colab_type": "code",
        "outputId": "8ab079c9-b0d8-4f70-b935-b3008d6a16a1",
        "colab": {
          "base_uri": "https://localhost:8080/",
          "height": 71
        }
      },
      "source": [
        "# importing necessary libraries\n",
        "import numpy as np\n",
        "import pandas as pd\n",
        "import seaborn as sns\n",
        "import matplotlib.pyplot as plt"
      ],
      "execution_count": 1,
      "outputs": [
        {
          "output_type": "stream",
          "text": [
            "/usr/local/lib/python3.6/dist-packages/statsmodels/tools/_testing.py:19: FutureWarning: pandas.util.testing is deprecated. Use the functions in the public API at pandas.testing instead.\n",
            "  import pandas.util.testing as tm\n"
          ],
          "name": "stderr"
        }
      ]
    },
    {
      "cell_type": "code",
      "metadata": {
        "id": "C9SWJ0eYkVrp",
        "colab_type": "code",
        "colab": {}
      },
      "source": [
        "# reading the data into dataframe using pandas\n",
        "train = pd.read_csv('drive/My Drive/case_study_2/train.csv')\n",
        "test = pd.read_csv('drive/My Drive/case_study_2/test.csv')\n",
        "submission = pd.read_csv('drive/My Drive/case_study_2/sample_submission.csv')"
      ],
      "execution_count": 0,
      "outputs": []
    },
    {
      "cell_type": "markdown",
      "metadata": {
        "id": "KrF_TCYvI6P5",
        "colab_type": "text"
      },
      "source": [
        "## About the data:\n",
        "- The train data contains 6079 listings and each listing has 41 columns. Out of these 41 columns, ‘question_title’, ‘question_body’ and ‘answer’ are to be used as the input, and for output we have 30 target labels.\n",
        "- The input features are all text features that contain the title of the question, description of the question and the answer to that question.\n",
        "- The output features are all of float type, some are binary features that take a value of either 0 or 1 and some take a value between 0 and 1."
      ]
    },
    {
      "cell_type": "code",
      "metadata": {
        "id": "G6557laUrWqj",
        "colab_type": "code",
        "outputId": "012e7738-0da6-4fd9-93ac-42c84a407f5c",
        "colab": {
          "base_uri": "https://localhost:8080/",
          "height": 0
        }
      },
      "source": [
        "# Let's check the top 5 entries of train data.\n",
        "train.head()"
      ],
      "execution_count": 3,
      "outputs": [
        {
          "output_type": "execute_result",
          "data": {
            "text/html": [
              "<div>\n",
              "<style scoped>\n",
              "    .dataframe tbody tr th:only-of-type {\n",
              "        vertical-align: middle;\n",
              "    }\n",
              "\n",
              "    .dataframe tbody tr th {\n",
              "        vertical-align: top;\n",
              "    }\n",
              "\n",
              "    .dataframe thead th {\n",
              "        text-align: right;\n",
              "    }\n",
              "</style>\n",
              "<table border=\"1\" class=\"dataframe\">\n",
              "  <thead>\n",
              "    <tr style=\"text-align: right;\">\n",
              "      <th></th>\n",
              "      <th>qa_id</th>\n",
              "      <th>question_title</th>\n",
              "      <th>question_body</th>\n",
              "      <th>question_user_name</th>\n",
              "      <th>question_user_page</th>\n",
              "      <th>answer</th>\n",
              "      <th>answer_user_name</th>\n",
              "      <th>answer_user_page</th>\n",
              "      <th>url</th>\n",
              "      <th>category</th>\n",
              "      <th>host</th>\n",
              "      <th>question_asker_intent_understanding</th>\n",
              "      <th>question_body_critical</th>\n",
              "      <th>question_conversational</th>\n",
              "      <th>question_expect_short_answer</th>\n",
              "      <th>question_fact_seeking</th>\n",
              "      <th>question_has_commonly_accepted_answer</th>\n",
              "      <th>question_interestingness_others</th>\n",
              "      <th>question_interestingness_self</th>\n",
              "      <th>question_multi_intent</th>\n",
              "      <th>question_not_really_a_question</th>\n",
              "      <th>question_opinion_seeking</th>\n",
              "      <th>question_type_choice</th>\n",
              "      <th>question_type_compare</th>\n",
              "      <th>question_type_consequence</th>\n",
              "      <th>question_type_definition</th>\n",
              "      <th>question_type_entity</th>\n",
              "      <th>question_type_instructions</th>\n",
              "      <th>question_type_procedure</th>\n",
              "      <th>question_type_reason_explanation</th>\n",
              "      <th>question_type_spelling</th>\n",
              "      <th>question_well_written</th>\n",
              "      <th>answer_helpful</th>\n",
              "      <th>answer_level_of_information</th>\n",
              "      <th>answer_plausible</th>\n",
              "      <th>answer_relevance</th>\n",
              "      <th>answer_satisfaction</th>\n",
              "      <th>answer_type_instructions</th>\n",
              "      <th>answer_type_procedure</th>\n",
              "      <th>answer_type_reason_explanation</th>\n",
              "      <th>answer_well_written</th>\n",
              "    </tr>\n",
              "  </thead>\n",
              "  <tbody>\n",
              "    <tr>\n",
              "      <th>0</th>\n",
              "      <td>0</td>\n",
              "      <td>What am I losing when using extension tubes in...</td>\n",
              "      <td>After playing around with macro photography on...</td>\n",
              "      <td>ysap</td>\n",
              "      <td>https://photo.stackexchange.com/users/1024</td>\n",
              "      <td>I just got extension tubes, so here's the skin...</td>\n",
              "      <td>rfusca</td>\n",
              "      <td>https://photo.stackexchange.com/users/1917</td>\n",
              "      <td>http://photo.stackexchange.com/questions/9169/...</td>\n",
              "      <td>LIFE_ARTS</td>\n",
              "      <td>photo.stackexchange.com</td>\n",
              "      <td>1.000000</td>\n",
              "      <td>0.333333</td>\n",
              "      <td>0.000000</td>\n",
              "      <td>0.0</td>\n",
              "      <td>0.0</td>\n",
              "      <td>0.0</td>\n",
              "      <td>1.000000</td>\n",
              "      <td>1.000000</td>\n",
              "      <td>0.000000</td>\n",
              "      <td>0.0</td>\n",
              "      <td>1.000000</td>\n",
              "      <td>0.000000</td>\n",
              "      <td>0.000000</td>\n",
              "      <td>0.0</td>\n",
              "      <td>0.000000</td>\n",
              "      <td>0.0</td>\n",
              "      <td>1.0</td>\n",
              "      <td>0.000000</td>\n",
              "      <td>0.000000</td>\n",
              "      <td>0.0</td>\n",
              "      <td>1.000000</td>\n",
              "      <td>1.000000</td>\n",
              "      <td>0.666667</td>\n",
              "      <td>1.000000</td>\n",
              "      <td>1.000000</td>\n",
              "      <td>0.800000</td>\n",
              "      <td>1.0</td>\n",
              "      <td>0.000000</td>\n",
              "      <td>0.000000</td>\n",
              "      <td>1.000000</td>\n",
              "    </tr>\n",
              "    <tr>\n",
              "      <th>1</th>\n",
              "      <td>1</td>\n",
              "      <td>What is the distinction between a city and a s...</td>\n",
              "      <td>I am trying to understand what kinds of places...</td>\n",
              "      <td>russellpierce</td>\n",
              "      <td>https://rpg.stackexchange.com/users/8774</td>\n",
              "      <td>It might be helpful to look into the definitio...</td>\n",
              "      <td>Erik Schmidt</td>\n",
              "      <td>https://rpg.stackexchange.com/users/1871</td>\n",
              "      <td>http://rpg.stackexchange.com/questions/47820/w...</td>\n",
              "      <td>CULTURE</td>\n",
              "      <td>rpg.stackexchange.com</td>\n",
              "      <td>1.000000</td>\n",
              "      <td>1.000000</td>\n",
              "      <td>0.000000</td>\n",
              "      <td>0.5</td>\n",
              "      <td>1.0</td>\n",
              "      <td>1.0</td>\n",
              "      <td>0.444444</td>\n",
              "      <td>0.444444</td>\n",
              "      <td>0.666667</td>\n",
              "      <td>0.0</td>\n",
              "      <td>0.000000</td>\n",
              "      <td>0.666667</td>\n",
              "      <td>0.666667</td>\n",
              "      <td>0.0</td>\n",
              "      <td>0.333333</td>\n",
              "      <td>0.0</td>\n",
              "      <td>0.0</td>\n",
              "      <td>0.000000</td>\n",
              "      <td>0.333333</td>\n",
              "      <td>0.0</td>\n",
              "      <td>0.888889</td>\n",
              "      <td>0.888889</td>\n",
              "      <td>0.555556</td>\n",
              "      <td>0.888889</td>\n",
              "      <td>0.888889</td>\n",
              "      <td>0.666667</td>\n",
              "      <td>0.0</td>\n",
              "      <td>0.000000</td>\n",
              "      <td>0.666667</td>\n",
              "      <td>0.888889</td>\n",
              "    </tr>\n",
              "    <tr>\n",
              "      <th>2</th>\n",
              "      <td>2</td>\n",
              "      <td>Maximum protusion length for through-hole comp...</td>\n",
              "      <td>I'm working on a PCB that has through-hole com...</td>\n",
              "      <td>Joe Baker</td>\n",
              "      <td>https://electronics.stackexchange.com/users/10157</td>\n",
              "      <td>Do you even need grooves?  We make several pro...</td>\n",
              "      <td>Dwayne Reid</td>\n",
              "      <td>https://electronics.stackexchange.com/users/64754</td>\n",
              "      <td>http://electronics.stackexchange.com/questions...</td>\n",
              "      <td>SCIENCE</td>\n",
              "      <td>electronics.stackexchange.com</td>\n",
              "      <td>0.888889</td>\n",
              "      <td>0.666667</td>\n",
              "      <td>0.000000</td>\n",
              "      <td>1.0</td>\n",
              "      <td>1.0</td>\n",
              "      <td>1.0</td>\n",
              "      <td>0.666667</td>\n",
              "      <td>0.444444</td>\n",
              "      <td>0.333333</td>\n",
              "      <td>0.0</td>\n",
              "      <td>0.333333</td>\n",
              "      <td>0.000000</td>\n",
              "      <td>0.000000</td>\n",
              "      <td>0.0</td>\n",
              "      <td>0.000000</td>\n",
              "      <td>0.0</td>\n",
              "      <td>1.0</td>\n",
              "      <td>0.333333</td>\n",
              "      <td>0.333333</td>\n",
              "      <td>0.0</td>\n",
              "      <td>0.777778</td>\n",
              "      <td>0.777778</td>\n",
              "      <td>0.555556</td>\n",
              "      <td>1.000000</td>\n",
              "      <td>1.000000</td>\n",
              "      <td>0.666667</td>\n",
              "      <td>0.0</td>\n",
              "      <td>0.333333</td>\n",
              "      <td>1.000000</td>\n",
              "      <td>0.888889</td>\n",
              "    </tr>\n",
              "    <tr>\n",
              "      <th>3</th>\n",
              "      <td>3</td>\n",
              "      <td>Can an affidavit be used in Beit Din?</td>\n",
              "      <td>An affidavit, from what i understand, is basic...</td>\n",
              "      <td>Scimonster</td>\n",
              "      <td>https://judaism.stackexchange.com/users/5151</td>\n",
              "      <td>Sending an \"affidavit\" it is a dispute between...</td>\n",
              "      <td>Y     e     z</td>\n",
              "      <td>https://judaism.stackexchange.com/users/4794</td>\n",
              "      <td>http://judaism.stackexchange.com/questions/551...</td>\n",
              "      <td>CULTURE</td>\n",
              "      <td>judaism.stackexchange.com</td>\n",
              "      <td>0.888889</td>\n",
              "      <td>0.666667</td>\n",
              "      <td>0.666667</td>\n",
              "      <td>1.0</td>\n",
              "      <td>1.0</td>\n",
              "      <td>1.0</td>\n",
              "      <td>0.444444</td>\n",
              "      <td>0.444444</td>\n",
              "      <td>0.000000</td>\n",
              "      <td>0.0</td>\n",
              "      <td>0.000000</td>\n",
              "      <td>1.000000</td>\n",
              "      <td>0.000000</td>\n",
              "      <td>0.0</td>\n",
              "      <td>0.000000</td>\n",
              "      <td>0.0</td>\n",
              "      <td>0.0</td>\n",
              "      <td>0.000000</td>\n",
              "      <td>0.000000</td>\n",
              "      <td>0.0</td>\n",
              "      <td>0.888889</td>\n",
              "      <td>0.833333</td>\n",
              "      <td>0.333333</td>\n",
              "      <td>0.833333</td>\n",
              "      <td>1.000000</td>\n",
              "      <td>0.800000</td>\n",
              "      <td>0.0</td>\n",
              "      <td>0.000000</td>\n",
              "      <td>1.000000</td>\n",
              "      <td>1.000000</td>\n",
              "    </tr>\n",
              "    <tr>\n",
              "      <th>4</th>\n",
              "      <td>5</td>\n",
              "      <td>How do you make a binary image in Photoshop?</td>\n",
              "      <td>I am trying to make a binary image. I want mor...</td>\n",
              "      <td>leigero</td>\n",
              "      <td>https://graphicdesign.stackexchange.com/users/...</td>\n",
              "      <td>Check out Image Trace in Adobe Illustrator. \\n...</td>\n",
              "      <td>q2ra</td>\n",
              "      <td>https://graphicdesign.stackexchange.com/users/...</td>\n",
              "      <td>http://graphicdesign.stackexchange.com/questio...</td>\n",
              "      <td>LIFE_ARTS</td>\n",
              "      <td>graphicdesign.stackexchange.com</td>\n",
              "      <td>1.000000</td>\n",
              "      <td>0.666667</td>\n",
              "      <td>0.000000</td>\n",
              "      <td>1.0</td>\n",
              "      <td>1.0</td>\n",
              "      <td>1.0</td>\n",
              "      <td>0.666667</td>\n",
              "      <td>0.666667</td>\n",
              "      <td>0.000000</td>\n",
              "      <td>0.0</td>\n",
              "      <td>0.000000</td>\n",
              "      <td>0.000000</td>\n",
              "      <td>0.000000</td>\n",
              "      <td>0.0</td>\n",
              "      <td>0.000000</td>\n",
              "      <td>0.0</td>\n",
              "      <td>1.0</td>\n",
              "      <td>0.000000</td>\n",
              "      <td>1.000000</td>\n",
              "      <td>0.0</td>\n",
              "      <td>1.000000</td>\n",
              "      <td>1.000000</td>\n",
              "      <td>0.666667</td>\n",
              "      <td>1.000000</td>\n",
              "      <td>1.000000</td>\n",
              "      <td>0.800000</td>\n",
              "      <td>1.0</td>\n",
              "      <td>0.000000</td>\n",
              "      <td>1.000000</td>\n",
              "      <td>1.000000</td>\n",
              "    </tr>\n",
              "  </tbody>\n",
              "</table>\n",
              "</div>"
            ],
            "text/plain": [
              "   qa_id  ... answer_well_written\n",
              "0      0  ...            1.000000\n",
              "1      1  ...            0.888889\n",
              "2      2  ...            0.888889\n",
              "3      3  ...            1.000000\n",
              "4      5  ...            1.000000\n",
              "\n",
              "[5 rows x 41 columns]"
            ]
          },
          "metadata": {
            "tags": []
          },
          "execution_count": 3
        }
      ]
    },
    {
      "cell_type": "code",
      "metadata": {
        "id": "H3cHe2zokVm4",
        "colab_type": "code",
        "outputId": "8b6f47d2-5a8e-4de4-aa5b-1f9993f28fb7",
        "colab": {
          "base_uri": "https://localhost:8080/",
          "height": 0
        }
      },
      "source": [
        "# Let's list the features provided in the train data\n",
        "train.columns"
      ],
      "execution_count": 4,
      "outputs": [
        {
          "output_type": "execute_result",
          "data": {
            "text/plain": [
              "Index(['qa_id', 'question_title', 'question_body', 'question_user_name',\n",
              "       'question_user_page', 'answer', 'answer_user_name', 'answer_user_page',\n",
              "       'url', 'category', 'host', 'question_asker_intent_understanding',\n",
              "       'question_body_critical', 'question_conversational',\n",
              "       'question_expect_short_answer', 'question_fact_seeking',\n",
              "       'question_has_commonly_accepted_answer',\n",
              "       'question_interestingness_others', 'question_interestingness_self',\n",
              "       'question_multi_intent', 'question_not_really_a_question',\n",
              "       'question_opinion_seeking', 'question_type_choice',\n",
              "       'question_type_compare', 'question_type_consequence',\n",
              "       'question_type_definition', 'question_type_entity',\n",
              "       'question_type_instructions', 'question_type_procedure',\n",
              "       'question_type_reason_explanation', 'question_type_spelling',\n",
              "       'question_well_written', 'answer_helpful',\n",
              "       'answer_level_of_information', 'answer_plausible', 'answer_relevance',\n",
              "       'answer_satisfaction', 'answer_type_instructions',\n",
              "       'answer_type_procedure', 'answer_type_reason_explanation',\n",
              "       'answer_well_written'],\n",
              "      dtype='object')"
            ]
          },
          "metadata": {
            "tags": []
          },
          "execution_count": 4
        }
      ]
    },
    {
      "cell_type": "code",
      "metadata": {
        "id": "GiUHX4VjkVka",
        "colab_type": "code",
        "outputId": "c7398776-d9cf-4461-c66d-ad119c7d4b77",
        "colab": {
          "base_uri": "https://localhost:8080/",
          "height": 0
        }
      },
      "source": [
        "# Let's check the statistical description of the numerical features in train data\n",
        "train.describe()"
      ],
      "execution_count": 5,
      "outputs": [
        {
          "output_type": "execute_result",
          "data": {
            "text/html": [
              "<div>\n",
              "<style scoped>\n",
              "    .dataframe tbody tr th:only-of-type {\n",
              "        vertical-align: middle;\n",
              "    }\n",
              "\n",
              "    .dataframe tbody tr th {\n",
              "        vertical-align: top;\n",
              "    }\n",
              "\n",
              "    .dataframe thead th {\n",
              "        text-align: right;\n",
              "    }\n",
              "</style>\n",
              "<table border=\"1\" class=\"dataframe\">\n",
              "  <thead>\n",
              "    <tr style=\"text-align: right;\">\n",
              "      <th></th>\n",
              "      <th>qa_id</th>\n",
              "      <th>question_asker_intent_understanding</th>\n",
              "      <th>question_body_critical</th>\n",
              "      <th>question_conversational</th>\n",
              "      <th>question_expect_short_answer</th>\n",
              "      <th>question_fact_seeking</th>\n",
              "      <th>question_has_commonly_accepted_answer</th>\n",
              "      <th>question_interestingness_others</th>\n",
              "      <th>question_interestingness_self</th>\n",
              "      <th>question_multi_intent</th>\n",
              "      <th>question_not_really_a_question</th>\n",
              "      <th>question_opinion_seeking</th>\n",
              "      <th>question_type_choice</th>\n",
              "      <th>question_type_compare</th>\n",
              "      <th>question_type_consequence</th>\n",
              "      <th>question_type_definition</th>\n",
              "      <th>question_type_entity</th>\n",
              "      <th>question_type_instructions</th>\n",
              "      <th>question_type_procedure</th>\n",
              "      <th>question_type_reason_explanation</th>\n",
              "      <th>question_type_spelling</th>\n",
              "      <th>question_well_written</th>\n",
              "      <th>answer_helpful</th>\n",
              "      <th>answer_level_of_information</th>\n",
              "      <th>answer_plausible</th>\n",
              "      <th>answer_relevance</th>\n",
              "      <th>answer_satisfaction</th>\n",
              "      <th>answer_type_instructions</th>\n",
              "      <th>answer_type_procedure</th>\n",
              "      <th>answer_type_reason_explanation</th>\n",
              "      <th>answer_well_written</th>\n",
              "    </tr>\n",
              "  </thead>\n",
              "  <tbody>\n",
              "    <tr>\n",
              "      <th>count</th>\n",
              "      <td>6079.000000</td>\n",
              "      <td>6079.000000</td>\n",
              "      <td>6079.000000</td>\n",
              "      <td>6079.000000</td>\n",
              "      <td>6079.000000</td>\n",
              "      <td>6079.000000</td>\n",
              "      <td>6079.000000</td>\n",
              "      <td>6079.000000</td>\n",
              "      <td>6079.000000</td>\n",
              "      <td>6079.000000</td>\n",
              "      <td>6079.000000</td>\n",
              "      <td>6079.000000</td>\n",
              "      <td>6079.000000</td>\n",
              "      <td>6079.000000</td>\n",
              "      <td>6079.000000</td>\n",
              "      <td>6079.000000</td>\n",
              "      <td>6079.000000</td>\n",
              "      <td>6079.000000</td>\n",
              "      <td>6079.000000</td>\n",
              "      <td>6079.000000</td>\n",
              "      <td>6079.000000</td>\n",
              "      <td>6079.000000</td>\n",
              "      <td>6079.000000</td>\n",
              "      <td>6079.000000</td>\n",
              "      <td>6079.000000</td>\n",
              "      <td>6079.000000</td>\n",
              "      <td>6079.000000</td>\n",
              "      <td>6079.000000</td>\n",
              "      <td>6079.000000</td>\n",
              "      <td>6079.000000</td>\n",
              "      <td>6079.000000</td>\n",
              "    </tr>\n",
              "    <tr>\n",
              "      <th>mean</th>\n",
              "      <td>4829.665899</td>\n",
              "      <td>0.892663</td>\n",
              "      <td>0.595301</td>\n",
              "      <td>0.057301</td>\n",
              "      <td>0.698525</td>\n",
              "      <td>0.772633</td>\n",
              "      <td>0.793689</td>\n",
              "      <td>0.587478</td>\n",
              "      <td>0.507275</td>\n",
              "      <td>0.238745</td>\n",
              "      <td>0.004469</td>\n",
              "      <td>0.429978</td>\n",
              "      <td>0.284915</td>\n",
              "      <td>0.038137</td>\n",
              "      <td>0.010035</td>\n",
              "      <td>0.030762</td>\n",
              "      <td>0.065225</td>\n",
              "      <td>0.497587</td>\n",
              "      <td>0.166063</td>\n",
              "      <td>0.386385</td>\n",
              "      <td>0.000823</td>\n",
              "      <td>0.799931</td>\n",
              "      <td>0.925408</td>\n",
              "      <td>0.654823</td>\n",
              "      <td>0.960054</td>\n",
              "      <td>0.968626</td>\n",
              "      <td>0.854680</td>\n",
              "      <td>0.479547</td>\n",
              "      <td>0.130641</td>\n",
              "      <td>0.502468</td>\n",
              "      <td>0.908254</td>\n",
              "    </tr>\n",
              "    <tr>\n",
              "      <th>std</th>\n",
              "      <td>2789.689555</td>\n",
              "      <td>0.132047</td>\n",
              "      <td>0.219470</td>\n",
              "      <td>0.182196</td>\n",
              "      <td>0.350938</td>\n",
              "      <td>0.303023</td>\n",
              "      <td>0.336622</td>\n",
              "      <td>0.135900</td>\n",
              "      <td>0.185987</td>\n",
              "      <td>0.335057</td>\n",
              "      <td>0.045782</td>\n",
              "      <td>0.365952</td>\n",
              "      <td>0.368826</td>\n",
              "      <td>0.153635</td>\n",
              "      <td>0.074240</td>\n",
              "      <td>0.138065</td>\n",
              "      <td>0.197582</td>\n",
              "      <td>0.423138</td>\n",
              "      <td>0.257301</td>\n",
              "      <td>0.383384</td>\n",
              "      <td>0.020489</td>\n",
              "      <td>0.178420</td>\n",
              "      <td>0.114836</td>\n",
              "      <td>0.107666</td>\n",
              "      <td>0.086926</td>\n",
              "      <td>0.074631</td>\n",
              "      <td>0.130743</td>\n",
              "      <td>0.422921</td>\n",
              "      <td>0.225718</td>\n",
              "      <td>0.407097</td>\n",
              "      <td>0.100708</td>\n",
              "    </tr>\n",
              "    <tr>\n",
              "      <th>min</th>\n",
              "      <td>0.000000</td>\n",
              "      <td>0.333333</td>\n",
              "      <td>0.333333</td>\n",
              "      <td>0.000000</td>\n",
              "      <td>0.000000</td>\n",
              "      <td>0.000000</td>\n",
              "      <td>0.000000</td>\n",
              "      <td>0.333333</td>\n",
              "      <td>0.333333</td>\n",
              "      <td>0.000000</td>\n",
              "      <td>0.000000</td>\n",
              "      <td>0.000000</td>\n",
              "      <td>0.000000</td>\n",
              "      <td>0.000000</td>\n",
              "      <td>0.000000</td>\n",
              "      <td>0.000000</td>\n",
              "      <td>0.000000</td>\n",
              "      <td>0.000000</td>\n",
              "      <td>0.000000</td>\n",
              "      <td>0.000000</td>\n",
              "      <td>0.000000</td>\n",
              "      <td>0.333333</td>\n",
              "      <td>0.333333</td>\n",
              "      <td>0.333333</td>\n",
              "      <td>0.333333</td>\n",
              "      <td>0.333333</td>\n",
              "      <td>0.200000</td>\n",
              "      <td>0.000000</td>\n",
              "      <td>0.000000</td>\n",
              "      <td>0.000000</td>\n",
              "      <td>0.333333</td>\n",
              "    </tr>\n",
              "    <tr>\n",
              "      <th>25%</th>\n",
              "      <td>2389.000000</td>\n",
              "      <td>0.777778</td>\n",
              "      <td>0.444444</td>\n",
              "      <td>0.000000</td>\n",
              "      <td>0.500000</td>\n",
              "      <td>0.666667</td>\n",
              "      <td>0.666667</td>\n",
              "      <td>0.444444</td>\n",
              "      <td>0.333333</td>\n",
              "      <td>0.000000</td>\n",
              "      <td>0.000000</td>\n",
              "      <td>0.000000</td>\n",
              "      <td>0.000000</td>\n",
              "      <td>0.000000</td>\n",
              "      <td>0.000000</td>\n",
              "      <td>0.000000</td>\n",
              "      <td>0.000000</td>\n",
              "      <td>0.000000</td>\n",
              "      <td>0.000000</td>\n",
              "      <td>0.000000</td>\n",
              "      <td>0.000000</td>\n",
              "      <td>0.666667</td>\n",
              "      <td>0.888889</td>\n",
              "      <td>0.666667</td>\n",
              "      <td>1.000000</td>\n",
              "      <td>1.000000</td>\n",
              "      <td>0.800000</td>\n",
              "      <td>0.000000</td>\n",
              "      <td>0.000000</td>\n",
              "      <td>0.000000</td>\n",
              "      <td>0.888889</td>\n",
              "    </tr>\n",
              "    <tr>\n",
              "      <th>50%</th>\n",
              "      <td>4847.000000</td>\n",
              "      <td>0.888889</td>\n",
              "      <td>0.555556</td>\n",
              "      <td>0.000000</td>\n",
              "      <td>0.666667</td>\n",
              "      <td>1.000000</td>\n",
              "      <td>1.000000</td>\n",
              "      <td>0.555556</td>\n",
              "      <td>0.444444</td>\n",
              "      <td>0.000000</td>\n",
              "      <td>0.000000</td>\n",
              "      <td>0.333333</td>\n",
              "      <td>0.000000</td>\n",
              "      <td>0.000000</td>\n",
              "      <td>0.000000</td>\n",
              "      <td>0.000000</td>\n",
              "      <td>0.000000</td>\n",
              "      <td>0.666667</td>\n",
              "      <td>0.000000</td>\n",
              "      <td>0.333333</td>\n",
              "      <td>0.000000</td>\n",
              "      <td>0.833333</td>\n",
              "      <td>1.000000</td>\n",
              "      <td>0.666667</td>\n",
              "      <td>1.000000</td>\n",
              "      <td>1.000000</td>\n",
              "      <td>0.866667</td>\n",
              "      <td>0.500000</td>\n",
              "      <td>0.000000</td>\n",
              "      <td>0.500000</td>\n",
              "      <td>0.888889</td>\n",
              "    </tr>\n",
              "    <tr>\n",
              "      <th>75%</th>\n",
              "      <td>7222.000000</td>\n",
              "      <td>1.000000</td>\n",
              "      <td>0.777778</td>\n",
              "      <td>0.000000</td>\n",
              "      <td>1.000000</td>\n",
              "      <td>1.000000</td>\n",
              "      <td>1.000000</td>\n",
              "      <td>0.666667</td>\n",
              "      <td>0.666667</td>\n",
              "      <td>0.333333</td>\n",
              "      <td>0.000000</td>\n",
              "      <td>0.666667</td>\n",
              "      <td>0.666667</td>\n",
              "      <td>0.000000</td>\n",
              "      <td>0.000000</td>\n",
              "      <td>0.000000</td>\n",
              "      <td>0.000000</td>\n",
              "      <td>1.000000</td>\n",
              "      <td>0.333333</td>\n",
              "      <td>0.666667</td>\n",
              "      <td>0.000000</td>\n",
              "      <td>1.000000</td>\n",
              "      <td>1.000000</td>\n",
              "      <td>0.666667</td>\n",
              "      <td>1.000000</td>\n",
              "      <td>1.000000</td>\n",
              "      <td>0.933333</td>\n",
              "      <td>1.000000</td>\n",
              "      <td>0.333333</td>\n",
              "      <td>1.000000</td>\n",
              "      <td>1.000000</td>\n",
              "    </tr>\n",
              "    <tr>\n",
              "      <th>max</th>\n",
              "      <td>9647.000000</td>\n",
              "      <td>1.000000</td>\n",
              "      <td>1.000000</td>\n",
              "      <td>1.000000</td>\n",
              "      <td>1.000000</td>\n",
              "      <td>1.000000</td>\n",
              "      <td>1.000000</td>\n",
              "      <td>1.000000</td>\n",
              "      <td>1.000000</td>\n",
              "      <td>1.000000</td>\n",
              "      <td>1.000000</td>\n",
              "      <td>1.000000</td>\n",
              "      <td>1.000000</td>\n",
              "      <td>1.000000</td>\n",
              "      <td>1.000000</td>\n",
              "      <td>1.000000</td>\n",
              "      <td>1.000000</td>\n",
              "      <td>1.000000</td>\n",
              "      <td>1.000000</td>\n",
              "      <td>1.000000</td>\n",
              "      <td>0.666667</td>\n",
              "      <td>1.000000</td>\n",
              "      <td>1.000000</td>\n",
              "      <td>1.000000</td>\n",
              "      <td>1.000000</td>\n",
              "      <td>1.000000</td>\n",
              "      <td>1.000000</td>\n",
              "      <td>1.000000</td>\n",
              "      <td>1.000000</td>\n",
              "      <td>1.000000</td>\n",
              "      <td>1.000000</td>\n",
              "    </tr>\n",
              "  </tbody>\n",
              "</table>\n",
              "</div>"
            ],
            "text/plain": [
              "             qa_id  ...  answer_well_written\n",
              "count  6079.000000  ...          6079.000000\n",
              "mean   4829.665899  ...             0.908254\n",
              "std    2789.689555  ...             0.100708\n",
              "min       0.000000  ...             0.333333\n",
              "25%    2389.000000  ...             0.888889\n",
              "50%    4847.000000  ...             0.888889\n",
              "75%    7222.000000  ...             1.000000\n",
              "max    9647.000000  ...             1.000000\n",
              "\n",
              "[8 rows x 31 columns]"
            ]
          },
          "metadata": {
            "tags": []
          },
          "execution_count": 5
        }
      ]
    },
    {
      "cell_type": "code",
      "metadata": {
        "id": "n1uF5o8w5Ghw",
        "colab_type": "code",
        "outputId": "3190e04c-7955-4de0-cb4e-4f1640577f88",
        "colab": {
          "base_uri": "https://localhost:8080/",
          "height": 0
        }
      },
      "source": [
        "# These are the features provided in the test data\n",
        "test.columns"
      ],
      "execution_count": 6,
      "outputs": [
        {
          "output_type": "execute_result",
          "data": {
            "text/plain": [
              "Index(['qa_id', 'question_title', 'question_body', 'question_user_name',\n",
              "       'question_user_page', 'answer', 'answer_user_name', 'answer_user_page',\n",
              "       'url', 'category', 'host'],\n",
              "      dtype='object')"
            ]
          },
          "metadata": {
            "tags": []
          },
          "execution_count": 6
        }
      ]
    },
    {
      "cell_type": "code",
      "metadata": {
        "id": "30fFfE1Mlh45",
        "colab_type": "code",
        "outputId": "655c999e-8ce5-457b-a208-6a9e22d5e75b",
        "colab": {
          "base_uri": "https://localhost:8080/",
          "height": 0
        }
      },
      "source": [
        "test.describe()"
      ],
      "execution_count": 7,
      "outputs": [
        {
          "output_type": "execute_result",
          "data": {
            "text/html": [
              "<div>\n",
              "<style scoped>\n",
              "    .dataframe tbody tr th:only-of-type {\n",
              "        vertical-align: middle;\n",
              "    }\n",
              "\n",
              "    .dataframe tbody tr th {\n",
              "        vertical-align: top;\n",
              "    }\n",
              "\n",
              "    .dataframe thead th {\n",
              "        text-align: right;\n",
              "    }\n",
              "</style>\n",
              "<table border=\"1\" class=\"dataframe\">\n",
              "  <thead>\n",
              "    <tr style=\"text-align: right;\">\n",
              "      <th></th>\n",
              "      <th>qa_id</th>\n",
              "    </tr>\n",
              "  </thead>\n",
              "  <tbody>\n",
              "    <tr>\n",
              "      <th>count</th>\n",
              "      <td>476.000000</td>\n",
              "    </tr>\n",
              "    <tr>\n",
              "      <th>mean</th>\n",
              "      <td>5029.186975</td>\n",
              "    </tr>\n",
              "    <tr>\n",
              "      <th>std</th>\n",
              "      <td>2812.670060</td>\n",
              "    </tr>\n",
              "    <tr>\n",
              "      <th>min</th>\n",
              "      <td>39.000000</td>\n",
              "    </tr>\n",
              "    <tr>\n",
              "      <th>25%</th>\n",
              "      <td>2572.000000</td>\n",
              "    </tr>\n",
              "    <tr>\n",
              "      <th>50%</th>\n",
              "      <td>5093.000000</td>\n",
              "    </tr>\n",
              "    <tr>\n",
              "      <th>75%</th>\n",
              "      <td>7482.000000</td>\n",
              "    </tr>\n",
              "    <tr>\n",
              "      <th>max</th>\n",
              "      <td>9640.000000</td>\n",
              "    </tr>\n",
              "  </tbody>\n",
              "</table>\n",
              "</div>"
            ],
            "text/plain": [
              "             qa_id\n",
              "count   476.000000\n",
              "mean   5029.186975\n",
              "std    2812.670060\n",
              "min      39.000000\n",
              "25%    2572.000000\n",
              "50%    5093.000000\n",
              "75%    7482.000000\n",
              "max    9640.000000"
            ]
          },
          "metadata": {
            "tags": []
          },
          "execution_count": 7
        }
      ]
    },
    {
      "cell_type": "code",
      "metadata": {
        "id": "irYPgCstlh1W",
        "colab_type": "code",
        "outputId": "c6747457-00d8-4bc4-eb2c-cdfca599b1c4",
        "colab": {
          "base_uri": "https://localhost:8080/",
          "height": 0
        }
      },
      "source": [
        "# these are the features that we need to include while submitting the results\n",
        "submission.columns"
      ],
      "execution_count": 8,
      "outputs": [
        {
          "output_type": "execute_result",
          "data": {
            "text/plain": [
              "Index(['qa_id', 'question_asker_intent_understanding',\n",
              "       'question_body_critical', 'question_conversational',\n",
              "       'question_expect_short_answer', 'question_fact_seeking',\n",
              "       'question_has_commonly_accepted_answer',\n",
              "       'question_interestingness_others', 'question_interestingness_self',\n",
              "       'question_multi_intent', 'question_not_really_a_question',\n",
              "       'question_opinion_seeking', 'question_type_choice',\n",
              "       'question_type_compare', 'question_type_consequence',\n",
              "       'question_type_definition', 'question_type_entity',\n",
              "       'question_type_instructions', 'question_type_procedure',\n",
              "       'question_type_reason_explanation', 'question_type_spelling',\n",
              "       'question_well_written', 'answer_helpful',\n",
              "       'answer_level_of_information', 'answer_plausible', 'answer_relevance',\n",
              "       'answer_satisfaction', 'answer_type_instructions',\n",
              "       'answer_type_procedure', 'answer_type_reason_explanation',\n",
              "       'answer_well_written'],\n",
              "      dtype='object')"
            ]
          },
          "metadata": {
            "tags": []
          },
          "execution_count": 8
        }
      ]
    },
    {
      "cell_type": "markdown",
      "metadata": {
        "id": "xEZQanq67v5p",
        "colab_type": "text"
      },
      "source": [
        "## EDA"
      ]
    },
    {
      "cell_type": "markdown",
      "metadata": {
        "id": "q37IflGIscY5",
        "colab_type": "text"
      },
      "source": [
        "#### Question IDs"
      ]
    },
    {
      "cell_type": "code",
      "metadata": {
        "id": "Sr9fafEgrnsM",
        "colab_type": "code",
        "outputId": "82fda4db-92b4-4ecd-ed1d-2c997aa76442",
        "colab": {
          "base_uri": "https://localhost:8080/",
          "height": 0
        }
      },
      "source": [
        "# Statistical description of question_id feature (this feature is irrelevant, will be used only for mapping the results)\n",
        "train['qa_id'].describe()"
      ],
      "execution_count": 9,
      "outputs": [
        {
          "output_type": "execute_result",
          "data": {
            "text/plain": [
              "count    6079.000000\n",
              "mean     4829.665899\n",
              "std      2789.689555\n",
              "min         0.000000\n",
              "25%      2389.000000\n",
              "50%      4847.000000\n",
              "75%      7222.000000\n",
              "max      9647.000000\n",
              "Name: qa_id, dtype: float64"
            ]
          },
          "metadata": {
            "tags": []
          },
          "execution_count": 9
        }
      ]
    },
    {
      "cell_type": "code",
      "metadata": {
        "id": "qD0ZL6uW5MCC",
        "colab_type": "code",
        "outputId": "8428b96d-b2e3-4c43-b886-bbc200ae9448",
        "colab": {
          "base_uri": "https://localhost:8080/",
          "height": 0
        }
      },
      "source": [
        "test['qa_id'].describe()"
      ],
      "execution_count": 10,
      "outputs": [
        {
          "output_type": "execute_result",
          "data": {
            "text/plain": [
              "count     476.000000\n",
              "mean     5029.186975\n",
              "std      2812.670060\n",
              "min        39.000000\n",
              "25%      2572.000000\n",
              "50%      5093.000000\n",
              "75%      7482.000000\n",
              "max      9640.000000\n",
              "Name: qa_id, dtype: float64"
            ]
          },
          "metadata": {
            "tags": []
          },
          "execution_count": 10
        }
      ]
    },
    {
      "cell_type": "code",
      "metadata": {
        "id": "2H1ppAKoDttv",
        "colab_type": "code",
        "colab": {}
      },
      "source": [
        ""
      ],
      "execution_count": 0,
      "outputs": []
    },
    {
      "cell_type": "markdown",
      "metadata": {
        "id": "phBSmc7Psfs5",
        "colab_type": "text"
      },
      "source": [
        "#### Question title"
      ]
    },
    {
      "cell_type": "code",
      "metadata": {
        "id": "3KUeKPQKrnoX",
        "colab_type": "code",
        "outputId": "b2e2cef1-8874-4857-c173-1c3f48a8b089",
        "colab": {
          "base_uri": "https://localhost:8080/",
          "height": 0
        }
      },
      "source": [
        "# A text feature that represents the title of the question.\n",
        "train['question_title'].head()"
      ],
      "execution_count": 11,
      "outputs": [
        {
          "output_type": "execute_result",
          "data": {
            "text/plain": [
              "0    What am I losing when using extension tubes in...\n",
              "1    What is the distinction between a city and a s...\n",
              "2    Maximum protusion length for through-hole comp...\n",
              "3                Can an affidavit be used in Beit Din?\n",
              "4         How do you make a binary image in Photoshop?\n",
              "Name: question_title, dtype: object"
            ]
          },
          "metadata": {
            "tags": []
          },
          "execution_count": 11
        }
      ]
    },
    {
      "cell_type": "code",
      "metadata": {
        "id": "srXJyiZqslO7",
        "colab_type": "code",
        "colab": {}
      },
      "source": [
        "# Let's check the length of each question titles\n",
        "length = train['question_title'].apply(lambda x:len(x))"
      ],
      "execution_count": 0,
      "outputs": []
    },
    {
      "cell_type": "code",
      "metadata": {
        "id": "uJYEHpdPszZ7",
        "colab_type": "code",
        "outputId": "56b9aa82-6806-4488-fe86-24c57b85fcdf",
        "colab": {
          "base_uri": "https://localhost:8080/",
          "height": 0
        }
      },
      "source": [
        "# histogram of length of question titles\n",
        "plt.hist(length, bins=40)\n",
        "plt.title('histogram of length of question titles')\n",
        "plt.xlabel('length of sentences')\n",
        "plt.ylabel('frequency')\n",
        "plt.show()"
      ],
      "execution_count": 13,
      "outputs": [
        {
          "output_type": "display_data",
          "data": {
            "image/png": "[encoded data removed]",
            "text/plain": [
              "<Figure size 432x288 with 1 Axes>"
            ]
          },
          "metadata": {
            "tags": [],
            "needs_background": "light"
          }
        }
      ]
    },
    {
      "cell_type": "code",
      "metadata": {
        "id": "Nu0o51SItyZ9",
        "colab_type": "code",
        "outputId": "9c5b9ddb-00ee-4801-e8aa-3a3932ccac7e",
        "colab": {
          "base_uri": "https://localhost:8080/",
          "height": 0
        }
      },
      "source": [
        "# statistical description of length of question titles\n",
        "pd.Series(length).describe()"
      ],
      "execution_count": 14,
      "outputs": [
        {
          "output_type": "execute_result",
          "data": {
            "text/plain": [
              "count    6079.000000\n",
              "mean       53.310248\n",
              "std        20.205065\n",
              "min        15.000000\n",
              "25%        39.000000\n",
              "50%        50.000000\n",
              "75%        65.000000\n",
              "max       147.000000\n",
              "Name: question_title, dtype: float64"
            ]
          },
          "metadata": {
            "tags": []
          },
          "execution_count": 14
        }
      ]
    },
    {
      "cell_type": "code",
      "metadata": {
        "id": "7emCuAv58lXI",
        "colab_type": "code",
        "colab": {}
      },
      "source": [
        "# Test data"
      ],
      "execution_count": 0,
      "outputs": []
    },
    {
      "cell_type": "code",
      "metadata": {
        "id": "UEu05vDf5dgp",
        "colab_type": "code",
        "outputId": "813f5d9a-e476-4327-f582-347e970f8261",
        "colab": {
          "base_uri": "https://localhost:8080/",
          "height": 0
        }
      },
      "source": [
        "test['question_title'].head()"
      ],
      "execution_count": 16,
      "outputs": [
        {
          "output_type": "execute_result",
          "data": {
            "text/plain": [
              "0    Will leaving corpses lying around upset my pri...\n",
              "1           Url link to feature image in the portfolio\n",
              "2    Is accuracy, recoil or bullet spread affected ...\n",
              "3       Suddenly got an I/O error from my external HDD\n",
              "4    Passenger Name - Flight Booking Passenger only...\n",
              "Name: question_title, dtype: object"
            ]
          },
          "metadata": {
            "tags": []
          },
          "execution_count": 16
        }
      ]
    },
    {
      "cell_type": "code",
      "metadata": {
        "id": "wfMRkYq95TMr",
        "colab_type": "code",
        "colab": {}
      },
      "source": [
        "length = test['question_title'].apply(lambda x:len(x))"
      ],
      "execution_count": 0,
      "outputs": []
    },
    {
      "cell_type": "code",
      "metadata": {
        "id": "9izwUMVP5TJg",
        "colab_type": "code",
        "outputId": "b69d670c-8611-455b-fff5-795caa6dfab2",
        "colab": {
          "base_uri": "https://localhost:8080/",
          "height": 0
        }
      },
      "source": [
        "# histogram of length of question titles\n",
        "plt.hist(length, bins=40)\n",
        "plt.title('histogram of length of question titles')\n",
        "plt.xlabel('length of sentences')\n",
        "plt.ylabel('frequency')\n",
        "plt.show()"
      ],
      "execution_count": 18,
      "outputs": [
        {
          "output_type": "display_data",
          "data": {
            "image/png": "[encoded data removed]",
            "text/plain": [
              "<Figure size 432x288 with 1 Axes>"
            ]
          },
          "metadata": {
            "tags": [],
            "needs_background": "light"
          }
        }
      ]
    },
    {
      "cell_type": "code",
      "metadata": {
        "id": "5vveJHPY5S8X",
        "colab_type": "code",
        "outputId": "be510a42-0852-460a-82aa-6af551e4c284",
        "colab": {
          "base_uri": "https://localhost:8080/",
          "height": 0
        }
      },
      "source": [
        "# statistical description of length of question titles\n",
        "pd.Series(length).describe()"
      ],
      "execution_count": 19,
      "outputs": [
        {
          "output_type": "execute_result",
          "data": {
            "text/plain": [
              "count    476.000000\n",
              "mean      52.027311\n",
              "std       18.754965\n",
              "min       15.000000\n",
              "25%       37.750000\n",
              "50%       50.000000\n",
              "75%       64.250000\n",
              "max      133.000000\n",
              "Name: question_title, dtype: float64"
            ]
          },
          "metadata": {
            "tags": []
          },
          "execution_count": 19
        }
      ]
    },
    {
      "cell_type": "markdown",
      "metadata": {
        "id": "tDq5r1IUuIBS",
        "colab_type": "text"
      },
      "source": [
        "#### Question body"
      ]
    },
    {
      "cell_type": "code",
      "metadata": {
        "id": "Da4GB-SUtUFC",
        "colab_type": "code",
        "outputId": "0bfce16f-a6c7-403a-82af-5d0839055d0b",
        "colab": {
          "base_uri": "https://localhost:8080/",
          "height": 0
        }
      },
      "source": [
        "# this is another and the main text feature that represents the full description of the question asked\n",
        "train['question_body'].head()"
      ],
      "execution_count": 20,
      "outputs": [
        {
          "output_type": "execute_result",
          "data": {
            "text/plain": [
              "0    After playing around with macro photography on...\n",
              "1    I am trying to understand what kinds of places...\n",
              "2    I'm working on a PCB that has through-hole com...\n",
              "3    An affidavit, from what i understand, is basic...\n",
              "4    I am trying to make a binary image. I want mor...\n",
              "Name: question_body, dtype: object"
            ]
          },
          "metadata": {
            "tags": []
          },
          "execution_count": 20
        }
      ]
    },
    {
      "cell_type": "code",
      "metadata": {
        "id": "qJ-Fah3itrs5",
        "colab_type": "code",
        "colab": {}
      },
      "source": [
        "# Lets check the length of the questions body\n",
        "length = train['question_body'].apply(lambda x:len(x))"
      ],
      "execution_count": 0,
      "outputs": []
    },
    {
      "cell_type": "code",
      "metadata": {
        "id": "vLIkvry5trp5",
        "colab_type": "code",
        "outputId": "18c0d939-6915-4c8b-aa99-07eb019ee3d8",
        "colab": {
          "base_uri": "https://localhost:8080/",
          "height": 0
        }
      },
      "source": [
        "# let's plot the histogram of length of question body\n",
        "plt.hist(length, bins=40)\n",
        "plt.title('histogram of length of question body')\n",
        "plt.xlabel('length of sentences')\n",
        "plt.ylabel('frequency')\n",
        "plt.show()"
      ],
      "execution_count": 22,
      "outputs": [
        {
          "output_type": "display_data",
          "data": {
            "image/png": "[encoded data removed]",
            "text/plain": [
              "<Figure size 432x288 with 1 Axes>"
            ]
          },
          "metadata": {
            "tags": [],
            "needs_background": "light"
          }
        }
      ]
    },
    {
      "cell_type": "code",
      "metadata": {
        "id": "wwq8f09fuQX-",
        "colab_type": "code",
        "outputId": "3291f074-edcb-43e4-a880-b5058e878de8",
        "colab": {
          "base_uri": "https://localhost:8080/",
          "height": 0
        }
      },
      "source": [
        "# Statistical description of questions body length\n",
        "pd.Series(length).describe()"
      ],
      "execution_count": 23,
      "outputs": [
        {
          "output_type": "execute_result",
          "data": {
            "text/plain": [
              "count     6079.000000\n",
              "mean       833.760487\n",
              "std       1029.046986\n",
              "min          1.000000\n",
              "25%        323.000000\n",
              "50%        544.000000\n",
              "75%        969.500000\n",
              "max      19253.000000\n",
              "Name: question_body, dtype: float64"
            ]
          },
          "metadata": {
            "tags": []
          },
          "execution_count": 23
        }
      ]
    },
    {
      "cell_type": "code",
      "metadata": {
        "id": "VRzknr5cuZhQ",
        "colab_type": "code",
        "outputId": "ff06c0ec-4ef5-4f71-a6c5-b15427d91b69",
        "colab": {
          "base_uri": "https://localhost:8080/",
          "height": 0
        }
      },
      "source": [
        "# Since the distribution of lengths is power-law, let's convert it to normal using log(1+x)\n",
        "plt.hist(np.log1p(length), bins=40)\n",
        "plt.title('histogram of log of length of question body')\n",
        "plt.xlabel('length of sentences')\n",
        "plt.ylabel('frequency')\n",
        "plt.show()"
      ],
      "execution_count": 24,
      "outputs": [
        {
          "output_type": "display_data",
          "data": {
            "image/png": "[encoded data removed]",
            "text/plain": [
              "<Figure size 432x288 with 1 Axes>"
            ]
          },
          "metadata": {
            "tags": [],
            "needs_background": "light"
          }
        }
      ]
    },
    {
      "cell_type": "code",
      "metadata": {
        "id": "3ZXww12W-lD0",
        "colab_type": "code",
        "colab": {}
      },
      "source": [
        "### Test data"
      ],
      "execution_count": 0,
      "outputs": []
    },
    {
      "cell_type": "code",
      "metadata": {
        "id": "rz1NNPPt5k-2",
        "colab_type": "code",
        "outputId": "32d85607-536d-4422-f6a2-908d1ae6cc03",
        "colab": {
          "base_uri": "https://localhost:8080/",
          "height": 0
        }
      },
      "source": [
        "test['question_body'].head()"
      ],
      "execution_count": 26,
      "outputs": [
        {
          "output_type": "execute_result",
          "data": {
            "text/plain": [
              "0    I see questions/information online about how t...\n",
              "1    I am new to Wordpress. i have issue with Featu...\n",
              "2    To experiment I started a bot game, toggled in...\n",
              "3    I have used my Raspberry Pi as a torrent-serve...\n",
              "4    I have bought Delhi-London return flights for ...\n",
              "Name: question_body, dtype: object"
            ]
          },
          "metadata": {
            "tags": []
          },
          "execution_count": 26
        }
      ]
    },
    {
      "cell_type": "code",
      "metadata": {
        "id": "l8RYou5s5kwF",
        "colab_type": "code",
        "colab": {}
      },
      "source": [
        "# length of question in test data\n",
        "length = test['question_body'].apply(lambda x:len(x))"
      ],
      "execution_count": 0,
      "outputs": []
    },
    {
      "cell_type": "code",
      "metadata": {
        "id": "FXAS1GsA5kjI",
        "colab_type": "code",
        "outputId": "0795ceda-92d5-471e-ad60-2d31c47b62b7",
        "colab": {
          "base_uri": "https://localhost:8080/",
          "height": 0
        }
      },
      "source": [
        "# histogram of length of question body\n",
        "plt.hist(length, bins=40)\n",
        "plt.title('histogram of length of question body')\n",
        "plt.xlabel('length of sentences')\n",
        "plt.ylabel('frequency')\n",
        "plt.show()"
      ],
      "execution_count": 28,
      "outputs": [
        {
          "output_type": "display_data",
          "data": {
            "image/png": "[encoded data removed]",
            "text/plain": [
              "<Figure size 432x288 with 1 Axes>"
            ]
          },
          "metadata": {
            "tags": [],
            "needs_background": "light"
          }
        }
      ]
    },
    {
      "cell_type": "code",
      "metadata": {
        "id": "LQCjUIps5kbR",
        "colab_type": "code",
        "outputId": "55398fc0-1c75-438f-8611-f79a0bcaad49",
        "colab": {
          "base_uri": "https://localhost:8080/",
          "height": 0
        }
      },
      "source": [
        "# statisrical description of the lengths\n",
        "pd.Series(length).describe()"
      ],
      "execution_count": 29,
      "outputs": [
        {
          "output_type": "execute_result",
          "data": {
            "text/plain": [
              "count      476.000000\n",
              "mean       844.462185\n",
              "std       1110.742440\n",
              "min         37.000000\n",
              "25%        302.500000\n",
              "50%        547.000000\n",
              "75%        993.000000\n",
              "max      16563.000000\n",
              "Name: question_body, dtype: float64"
            ]
          },
          "metadata": {
            "tags": []
          },
          "execution_count": 29
        }
      ]
    },
    {
      "cell_type": "code",
      "metadata": {
        "id": "Kkm6Ge1K5vj1",
        "colab_type": "code",
        "outputId": "1dfbd3a9-87f3-4326-8f8e-23cc8125584d",
        "colab": {
          "base_uri": "https://localhost:8080/",
          "height": 0
        }
      },
      "source": [
        "# Converting teh power-law distributed lengths to gaussian\n",
        "plt.hist(np.log1p(length), bins=40)\n",
        "plt.title('histogram of log of length of question body')\n",
        "plt.xlabel('length of sentences')\n",
        "plt.ylabel('frequency')\n",
        "plt.show()"
      ],
      "execution_count": 30,
      "outputs": [
        {
          "output_type": "display_data",
          "data": {
            "image/png": "[encoded data removed]",
            "text/plain": [
              "<Figure size 432x288 with 1 Axes>"
            ]
          },
          "metadata": {
            "tags": [],
            "needs_background": "light"
          }
        }
      ]
    },
    {
      "cell_type": "markdown",
      "metadata": {
        "id": "1LEQnKkOun75",
        "colab_type": "text"
      },
      "source": [
        "#### Question user name, Question user page, Answer user name, Answer user page\n",
        "#### (these are irrelevant features so I have not done EDA for them)"
      ]
    },
    {
      "cell_type": "code",
      "metadata": {
        "id": "TUjIt9WTuZaN",
        "colab_type": "code",
        "outputId": "5680f82f-4e28-4200-f64a-7277ea9f6535",
        "colab": {
          "base_uri": "https://localhost:8080/",
          "height": 0
        }
      },
      "source": [
        "train['question_user_name'].head()"
      ],
      "execution_count": 31,
      "outputs": [
        {
          "output_type": "execute_result",
          "data": {
            "text/plain": [
              "0             ysap\n",
              "1    russellpierce\n",
              "2        Joe Baker\n",
              "3       Scimonster\n",
              "4          leigero\n",
              "Name: question_user_name, dtype: object"
            ]
          },
          "metadata": {
            "tags": []
          },
          "execution_count": 31
        }
      ]
    },
    {
      "cell_type": "code",
      "metadata": {
        "id": "lG9-alvruQVs",
        "colab_type": "code",
        "outputId": "28fa68d2-2f28-4fd1-8539-4bf211bf6464",
        "colab": {
          "base_uri": "https://localhost:8080/",
          "height": 0
        }
      },
      "source": [
        "train['question_user_page'].head()"
      ],
      "execution_count": 32,
      "outputs": [
        {
          "output_type": "execute_result",
          "data": {
            "text/plain": [
              "0           https://photo.stackexchange.com/users/1024\n",
              "1             https://rpg.stackexchange.com/users/8774\n",
              "2    https://electronics.stackexchange.com/users/10157\n",
              "3         https://judaism.stackexchange.com/users/5151\n",
              "4    https://graphicdesign.stackexchange.com/users/...\n",
              "Name: question_user_page, dtype: object"
            ]
          },
          "metadata": {
            "tags": []
          },
          "execution_count": 32
        }
      ]
    },
    {
      "cell_type": "code",
      "metadata": {
        "id": "8dUa8hcquQS_",
        "colab_type": "code",
        "outputId": "c0fa56ef-28db-4cc5-f18f-7d58e1ccf1e2",
        "colab": {
          "base_uri": "https://localhost:8080/",
          "height": 0
        }
      },
      "source": [
        "train['answer_user_name'].head()"
      ],
      "execution_count": 33,
      "outputs": [
        {
          "output_type": "execute_result",
          "data": {
            "text/plain": [
              "0           rfusca\n",
              "1     Erik Schmidt\n",
              "2      Dwayne Reid\n",
              "3    Y     e     z\n",
              "4             q2ra\n",
              "Name: answer_user_name, dtype: object"
            ]
          },
          "metadata": {
            "tags": []
          },
          "execution_count": 33
        }
      ]
    },
    {
      "cell_type": "code",
      "metadata": {
        "id": "a3WirGFQvngv",
        "colab_type": "code",
        "outputId": "fe2260ee-b19f-41b7-9de7-2043f75b3b80",
        "colab": {
          "base_uri": "https://localhost:8080/",
          "height": 0
        }
      },
      "source": [
        "train['answer_user_page'].head()"
      ],
      "execution_count": 34,
      "outputs": [
        {
          "output_type": "execute_result",
          "data": {
            "text/plain": [
              "0           https://photo.stackexchange.com/users/1917\n",
              "1             https://rpg.stackexchange.com/users/1871\n",
              "2    https://electronics.stackexchange.com/users/64754\n",
              "3         https://judaism.stackexchange.com/users/4794\n",
              "4    https://graphicdesign.stackexchange.com/users/...\n",
              "Name: answer_user_page, dtype: object"
            ]
          },
          "metadata": {
            "tags": []
          },
          "execution_count": 34
        }
      ]
    },
    {
      "cell_type": "markdown",
      "metadata": {
        "id": "dZyFM5U5vvWx",
        "colab_type": "text"
      },
      "source": [
        "#### Answer"
      ]
    },
    {
      "cell_type": "code",
      "metadata": {
        "id": "8VkP46tpvt4x",
        "colab_type": "code",
        "outputId": "2113b042-e88a-4250-faed-150c8be42e81",
        "colab": {
          "base_uri": "https://localhost:8080/",
          "height": 0
        }
      },
      "source": [
        "# Another important text type feature that represents the answers that given to the questions.\n",
        "train['answer'].head()"
      ],
      "execution_count": 35,
      "outputs": [
        {
          "output_type": "execute_result",
          "data": {
            "text/plain": [
              "0    I just got extension tubes, so here's the skin...\n",
              "1    It might be helpful to look into the definitio...\n",
              "2    Do you even need grooves?  We make several pro...\n",
              "3    Sending an \"affidavit\" it is a dispute between...\n",
              "4    Check out Image Trace in Adobe Illustrator. \\n...\n",
              "Name: answer, dtype: object"
            ]
          },
          "metadata": {
            "tags": []
          },
          "execution_count": 35
        }
      ]
    },
    {
      "cell_type": "code",
      "metadata": {
        "id": "cLcvHGk7vy8L",
        "colab_type": "code",
        "colab": {}
      },
      "source": [
        "# Length of answers\n",
        "length = train['answer'].apply(lambda x:len(x))"
      ],
      "execution_count": 0,
      "outputs": []
    },
    {
      "cell_type": "code",
      "metadata": {
        "id": "a7AhYwN4v54l",
        "colab_type": "code",
        "outputId": "e8b1f71e-0330-4821-d539-1510c0538948",
        "colab": {
          "base_uri": "https://localhost:8080/",
          "height": 0
        }
      },
      "source": [
        "# histogram of length of answers\n",
        "plt.hist(length, bins=40)\n",
        "plt.title('histogram of length of answers')\n",
        "plt.xlabel('length of sentences')\n",
        "plt.ylabel('frequency')\n",
        "plt.show()"
      ],
      "execution_count": 37,
      "outputs": [
        {
          "output_type": "display_data",
          "data": {
            "image/png": "[encoded data removed]",
            "text/plain": [
              "<Figure size 432x288 with 1 Axes>"
            ]
          },
          "metadata": {
            "tags": [],
            "needs_background": "light"
          }
        }
      ]
    },
    {
      "cell_type": "code",
      "metadata": {
        "id": "-Cl0L3csv_ur",
        "colab_type": "code",
        "outputId": "9aae14f2-135e-44bf-e676-6b04b733b1e8",
        "colab": {
          "base_uri": "https://localhost:8080/",
          "height": 0
        }
      },
      "source": [
        "# statistical description of the length of answers\n",
        "pd.Series(length).describe()"
      ],
      "execution_count": 38,
      "outputs": [
        {
          "output_type": "execute_result",
          "data": {
            "text/plain": [
              "count     6079.000000\n",
              "mean       839.396776\n",
              "std       1017.388923\n",
              "min         21.000000\n",
              "25%        297.000000\n",
              "50%        556.000000\n",
              "75%       1015.500000\n",
              "max      22636.000000\n",
              "Name: answer, dtype: float64"
            ]
          },
          "metadata": {
            "tags": []
          },
          "execution_count": 38
        }
      ]
    },
    {
      "cell_type": "code",
      "metadata": {
        "id": "uIckngL9v-e0",
        "colab_type": "code",
        "outputId": "c93ccf7d-93ce-42c5-af26-9469e2c6079b",
        "colab": {
          "base_uri": "https://localhost:8080/",
          "height": 0
        }
      },
      "source": [
        "# histogram of log of length of answers to get them to normal distribution\n",
        "plt.hist(np.log1p(length), bins=40)\n",
        "plt.title('histogram of log of length of answer')\n",
        "plt.xlabel('length of sentences')\n",
        "plt.ylabel('frequency')\n",
        "plt.show()"
      ],
      "execution_count": 39,
      "outputs": [
        {
          "output_type": "display_data",
          "data": {
            "image/png": "[encoded data removed]",
            "text/plain": [
              "<Figure size 432x288 with 1 Axes>"
            ]
          },
          "metadata": {
            "tags": [],
            "needs_background": "light"
          }
        }
      ]
    },
    {
      "cell_type": "code",
      "metadata": {
        "id": "TDJa0vda58aW",
        "colab_type": "code",
        "colab": {}
      },
      "source": [
        "### Test data"
      ],
      "execution_count": 0,
      "outputs": []
    },
    {
      "cell_type": "code",
      "metadata": {
        "id": "QnzkI3Jo58XK",
        "colab_type": "code",
        "outputId": "e7c79cd8-cf5f-4947-9444-7031440abd84",
        "colab": {
          "base_uri": "https://localhost:8080/",
          "height": 0
        }
      },
      "source": [
        "test['answer'].head()"
      ],
      "execution_count": 41,
      "outputs": [
        {
          "output_type": "execute_result",
          "data": {
            "text/plain": [
              "0    There is no consequence for leaving corpses an...\n",
              "1    I think it is possible with custom fields.\\n\\n...\n",
              "2    You do not have armour in the screenshots. Thi...\n",
              "3    Your Western Digital hard drive is disappearin...\n",
              "4    I called two persons who work for Saudia (tick...\n",
              "Name: answer, dtype: object"
            ]
          },
          "metadata": {
            "tags": []
          },
          "execution_count": 41
        }
      ]
    },
    {
      "cell_type": "code",
      "metadata": {
        "id": "M-ddwkvh58Qb",
        "colab_type": "code",
        "colab": {}
      },
      "source": [
        "length = test['answer'].apply(lambda x:len(x))"
      ],
      "execution_count": 0,
      "outputs": []
    },
    {
      "cell_type": "code",
      "metadata": {
        "id": "gK10H0aY58M7",
        "colab_type": "code",
        "outputId": "533433b8-da73-43b7-db57-3691a584f399",
        "colab": {
          "base_uri": "https://localhost:8080/",
          "height": 0
        }
      },
      "source": [
        "plt.hist(length, bins=40)\n",
        "plt.title('histogram of length of answers')\n",
        "plt.xlabel('length of sentences')\n",
        "plt.ylabel('frequency')\n",
        "plt.show()"
      ],
      "execution_count": 43,
      "outputs": [
        {
          "output_type": "display_data",
          "data": {
            "image/png": "[encoded data removed]",
            "text/plain": [
              "<Figure size 432x288 with 1 Axes>"
            ]
          },
          "metadata": {
            "tags": [],
            "needs_background": "light"
          }
        }
      ]
    },
    {
      "cell_type": "code",
      "metadata": {
        "id": "ROAZj2hX58J3",
        "colab_type": "code",
        "outputId": "0755df68-9d96-44ce-8d28-987ecb29e3fd",
        "colab": {
          "base_uri": "https://localhost:8080/",
          "height": 0
        }
      },
      "source": [
        "pd.Series(length).describe()"
      ],
      "execution_count": 44,
      "outputs": [
        {
          "output_type": "execute_result",
          "data": {
            "text/plain": [
              "count     476.000000\n",
              "mean      901.350840\n",
              "std      1099.588287\n",
              "min        36.000000\n",
              "25%       311.000000\n",
              "50%       566.000000\n",
              "75%      1066.500000\n",
              "max      8797.000000\n",
              "Name: answer, dtype: float64"
            ]
          },
          "metadata": {
            "tags": []
          },
          "execution_count": 44
        }
      ]
    },
    {
      "cell_type": "code",
      "metadata": {
        "id": "ngdbWFGZ6GDk",
        "colab_type": "code",
        "outputId": "0e83fb73-503c-490c-d14f-1ecb0242fba7",
        "colab": {
          "base_uri": "https://localhost:8080/",
          "height": 0
        }
      },
      "source": [
        "plt.hist(np.log1p(length), bins=40)\n",
        "plt.title('histogram of log of length of answer')\n",
        "plt.xlabel('length of sentences')\n",
        "plt.ylabel('frequency')\n",
        "plt.show()"
      ],
      "execution_count": 45,
      "outputs": [
        {
          "output_type": "display_data",
          "data": {
            "image/png": "[encoded data removed]",
            "text/plain": [
              "<Figure size 432x288 with 1 Axes>"
            ]
          },
          "metadata": {
            "tags": [],
            "needs_background": "light"
          }
        }
      ]
    },
    {
      "cell_type": "code",
      "metadata": {
        "id": "jOfUvK2Y6GAK",
        "colab_type": "code",
        "colab": {}
      },
      "source": [
        ""
      ],
      "execution_count": 0,
      "outputs": []
    },
    {
      "cell_type": "markdown",
      "metadata": {
        "id": "50T7J_UYwSiX",
        "colab_type": "text"
      },
      "source": [
        "#### URL"
      ]
    },
    {
      "cell_type": "code",
      "metadata": {
        "id": "57_-UH3jAedM",
        "colab_type": "code",
        "colab": {}
      },
      "source": [
        "# this feature holds the webpage url's of the questions and answers"
      ],
      "execution_count": 0,
      "outputs": []
    },
    {
      "cell_type": "code",
      "metadata": {
        "id": "vX7AI9b7wRhn",
        "colab_type": "code",
        "outputId": "7e2f0dc2-6c6e-4452-b986-a1eed54bdf34",
        "colab": {
          "base_uri": "https://localhost:8080/",
          "height": 0
        }
      },
      "source": [
        "train['url'].head()"
      ],
      "execution_count": 47,
      "outputs": [
        {
          "output_type": "execute_result",
          "data": {
            "text/plain": [
              "0    http://photo.stackexchange.com/questions/9169/...\n",
              "1    http://rpg.stackexchange.com/questions/47820/w...\n",
              "2    http://electronics.stackexchange.com/questions...\n",
              "3    http://judaism.stackexchange.com/questions/551...\n",
              "4    http://graphicdesign.stackexchange.com/questio...\n",
              "Name: url, dtype: object"
            ]
          },
          "metadata": {
            "tags": []
          },
          "execution_count": 47
        }
      ]
    },
    {
      "cell_type": "code",
      "metadata": {
        "id": "IyExT5yuwYRR",
        "colab_type": "code",
        "outputId": "75029af9-79c2-427b-c3e4-9fa32255a286",
        "colab": {
          "base_uri": "https://localhost:8080/",
          "height": 0
        }
      },
      "source": [
        "train['url'].value_counts()"
      ],
      "execution_count": 48,
      "outputs": [
        {
          "output_type": "execute_result",
          "data": {
            "text/plain": [
              "http://stats.stackexchange.com/questions/125/what-is-the-best-introductory-bayesian-statistics-textbook                  12\n",
              "http://programmers.stackexchange.com/questions/136987/what-does-mathematics-have-to-do-with-programming                  11\n",
              "http://programmers.stackexchange.com/questions/31567/important-non-technical-course-for-programmers                      11\n",
              "http://gamedev.stackexchange.com/questions/55558/how-to-prevent-the-too-awesome-to-use-syndrome                           9\n",
              "http://programmers.stackexchange.com/questions/101528/how-do-i-deal-with-a-slow-and-undedicated-colleague-in-the-team     7\n",
              "                                                                                                                         ..\n",
              "http://stackoverflow.com/questions/16500163/how-to-upload-one-file-repository-to-gist-preserving-history                  1\n",
              "http://cooking.stackexchange.com/questions/56779/what-is-the-white-sauce-of-dominos-pasta-made-of                         1\n",
              "http://scifi.stackexchange.com/questions/16425/who-were-the-gods-depicted-in-star-trek-v                                  1\n",
              "http://stackoverflow.com/questions/11025040/jqgrid-group-summary-not-showing-total-sum-with-paging                        1\n",
              "http://stackoverflow.com/questions/20137350/angular-service-containing-http-get-call-not-working-with-ng-repeat           1\n",
              "Name: url, Length: 3583, dtype: int64"
            ]
          },
          "metadata": {
            "tags": []
          },
          "execution_count": 48
        }
      ]
    },
    {
      "cell_type": "markdown",
      "metadata": {
        "id": "M8E9kQF9woHF",
        "colab_type": "text"
      },
      "source": [
        "#### Category"
      ]
    },
    {
      "cell_type": "code",
      "metadata": {
        "id": "nsn7w8Dpwbrz",
        "colab_type": "code",
        "outputId": "6721236e-f64e-46b8-baa7-14b6d07c56d8",
        "colab": {
          "base_uri": "https://localhost:8080/",
          "height": 0
        }
      },
      "source": [
        "# This feature represents the category that the question answer pair belong to.\n",
        "train['category'].head()"
      ],
      "execution_count": 49,
      "outputs": [
        {
          "output_type": "execute_result",
          "data": {
            "text/plain": [
              "0    LIFE_ARTS\n",
              "1      CULTURE\n",
              "2      SCIENCE\n",
              "3      CULTURE\n",
              "4    LIFE_ARTS\n",
              "Name: category, dtype: object"
            ]
          },
          "metadata": {
            "tags": []
          },
          "execution_count": 49
        }
      ]
    },
    {
      "cell_type": "code",
      "metadata": {
        "id": "o5y11pf2wqIh",
        "colab_type": "code",
        "outputId": "fb9931ed-858a-4831-d317-38b19fdb05b4",
        "colab": {
          "base_uri": "https://localhost:8080/",
          "height": 0
        }
      },
      "source": [
        "train['category'].describe()"
      ],
      "execution_count": 50,
      "outputs": [
        {
          "output_type": "execute_result",
          "data": {
            "text/plain": [
              "count           6079\n",
              "unique             5\n",
              "top       TECHNOLOGY\n",
              "freq            2441\n",
              "Name: category, dtype: object"
            ]
          },
          "metadata": {
            "tags": []
          },
          "execution_count": 50
        }
      ]
    },
    {
      "cell_type": "code",
      "metadata": {
        "id": "N1IoKfhBwqFq",
        "colab_type": "code",
        "outputId": "8324dda0-7a7c-43e5-aa2e-46e34a17034b",
        "colab": {
          "base_uri": "https://localhost:8080/",
          "height": 0
        }
      },
      "source": [
        "# There are 5 categories\n",
        "train['category'].value_counts()"
      ],
      "execution_count": 51,
      "outputs": [
        {
          "output_type": "execute_result",
          "data": {
            "text/plain": [
              "TECHNOLOGY       2441\n",
              "STACKOVERFLOW    1253\n",
              "CULTURE           963\n",
              "SCIENCE           713\n",
              "LIFE_ARTS         709\n",
              "Name: category, dtype: int64"
            ]
          },
          "metadata": {
            "tags": []
          },
          "execution_count": 51
        }
      ]
    },
    {
      "cell_type": "code",
      "metadata": {
        "id": "ErbqzniEw2IJ",
        "colab_type": "code",
        "outputId": "fa7c4ca1-a0da-41e6-f78d-e5196f059aeb",
        "colab": {
          "base_uri": "https://localhost:8080/",
          "height": 0
        }
      },
      "source": [
        "# this is the proportional distribution of the categories\n",
        "train['category'].value_counts().plot(kind='pie', figsize=(6,6))\n",
        "plt.show()"
      ],
      "execution_count": 52,
      "outputs": [
        {
          "output_type": "display_data",
          "data": {
            "image/png": "[encoded data removed]",
            "text/plain": [
              "<Figure size 432x432 with 1 Axes>"
            ]
          },
          "metadata": {
            "tags": []
          }
        }
      ]
    },
    {
      "cell_type": "markdown",
      "metadata": {
        "id": "0zDNIADjyVX-",
        "colab_type": "text"
      },
      "source": [
        "#### Host"
      ]
    },
    {
      "cell_type": "code",
      "metadata": {
        "id": "qdLF7TY3wqDj",
        "colab_type": "code",
        "outputId": "7422fb37-db95-4214-b4ca-85bcd98e542f",
        "colab": {
          "base_uri": "https://localhost:8080/",
          "height": 0
        }
      },
      "source": [
        "# this feature represents the hostname/website of the question answer pairs\n",
        "train['host'].head()"
      ],
      "execution_count": 53,
      "outputs": [
        {
          "output_type": "execute_result",
          "data": {
            "text/plain": [
              "0            photo.stackexchange.com\n",
              "1              rpg.stackexchange.com\n",
              "2      electronics.stackexchange.com\n",
              "3          judaism.stackexchange.com\n",
              "4    graphicdesign.stackexchange.com\n",
              "Name: host, dtype: object"
            ]
          },
          "metadata": {
            "tags": []
          },
          "execution_count": 53
        }
      ]
    },
    {
      "cell_type": "code",
      "metadata": {
        "id": "KQ3Fs2jdwqBU",
        "colab_type": "code",
        "outputId": "742b0104-8397-4d9f-fab9-8fb4252a2805",
        "colab": {
          "base_uri": "https://localhost:8080/",
          "height": 0
        }
      },
      "source": [
        "# We can see that there are 63 type of these host names\n",
        "train.host.value_counts()"
      ],
      "execution_count": 54,
      "outputs": [
        {
          "output_type": "execute_result",
          "data": {
            "text/plain": [
              "stackoverflow.com                      1253\n",
              "english.stackexchange.com               229\n",
              "superuser.com                           227\n",
              "electronics.stackexchange.com           221\n",
              "serverfault.com                         213\n",
              "                                       ... \n",
              "meta.christianity.stackexchange.com       4\n",
              "meta.math.stackexchange.com               2\n",
              "meta.askubuntu.com                        2\n",
              "meta.codereview.stackexchange.com         2\n",
              "robotics.stackexchange.com                2\n",
              "Name: host, Length: 63, dtype: int64"
            ]
          },
          "metadata": {
            "tags": []
          },
          "execution_count": 54
        }
      ]
    },
    {
      "cell_type": "code",
      "metadata": {
        "id": "nSxeIAj8yhLE",
        "colab_type": "code",
        "outputId": "b166e17e-1024-4942-f93c-f11e1d8b09dc",
        "colab": {
          "base_uri": "https://localhost:8080/",
          "height": 0
        }
      },
      "source": [
        "# pie chart representation of host proportions in train data\n",
        "train.host.value_counts().plot(kind='pie', figsize=(12,12))\n",
        "plt.show()"
      ],
      "execution_count": 55,
      "outputs": [
        {
          "output_type": "display_data",
          "data": {
            "image/png": "[encoded data removed]",
            "text/plain": [
              "<Figure size 864x864 with 1 Axes>"
            ]
          },
          "metadata": {
            "tags": []
          }
        }
      ]
    },
    {
      "cell_type": "markdown",
      "metadata": {
        "id": "VCpDqDH9y_Zn",
        "colab_type": "text"
      },
      "source": [
        "#### labels to be predicted"
      ]
    },
    {
      "cell_type": "code",
      "metadata": {
        "id": "vij49f_Myk3G",
        "colab_type": "code",
        "outputId": "ccebde38-c9c6-4832-c74d-5bbd39231e77",
        "colab": {
          "base_uri": "https://localhost:8080/",
          "height": 0
        }
      },
      "source": [
        "# there are 30 labels that we need to predict\n",
        "train[train.columns[11:]].describe()"
      ],
      "execution_count": 56,
      "outputs": [
        {
          "output_type": "execute_result",
          "data": {
            "text/html": [
              "<div>\n",
              "<style scoped>\n",
              "    .dataframe tbody tr th:only-of-type {\n",
              "        vertical-align: middle;\n",
              "    }\n",
              "\n",
              "    .dataframe tbody tr th {\n",
              "        vertical-align: top;\n",
              "    }\n",
              "\n",
              "    .dataframe thead th {\n",
              "        text-align: right;\n",
              "    }\n",
              "</style>\n",
              "<table border=\"1\" class=\"dataframe\">\n",
              "  <thead>\n",
              "    <tr style=\"text-align: right;\">\n",
              "      <th></th>\n",
              "      <th>question_asker_intent_understanding</th>\n",
              "      <th>question_body_critical</th>\n",
              "      <th>question_conversational</th>\n",
              "      <th>question_expect_short_answer</th>\n",
              "      <th>question_fact_seeking</th>\n",
              "      <th>question_has_commonly_accepted_answer</th>\n",
              "      <th>question_interestingness_others</th>\n",
              "      <th>question_interestingness_self</th>\n",
              "      <th>question_multi_intent</th>\n",
              "      <th>question_not_really_a_question</th>\n",
              "      <th>question_opinion_seeking</th>\n",
              "      <th>question_type_choice</th>\n",
              "      <th>question_type_compare</th>\n",
              "      <th>question_type_consequence</th>\n",
              "      <th>question_type_definition</th>\n",
              "      <th>question_type_entity</th>\n",
              "      <th>question_type_instructions</th>\n",
              "      <th>question_type_procedure</th>\n",
              "      <th>question_type_reason_explanation</th>\n",
              "      <th>question_type_spelling</th>\n",
              "      <th>question_well_written</th>\n",
              "      <th>answer_helpful</th>\n",
              "      <th>answer_level_of_information</th>\n",
              "      <th>answer_plausible</th>\n",
              "      <th>answer_relevance</th>\n",
              "      <th>answer_satisfaction</th>\n",
              "      <th>answer_type_instructions</th>\n",
              "      <th>answer_type_procedure</th>\n",
              "      <th>answer_type_reason_explanation</th>\n",
              "      <th>answer_well_written</th>\n",
              "    </tr>\n",
              "  </thead>\n",
              "  <tbody>\n",
              "    <tr>\n",
              "      <th>count</th>\n",
              "      <td>6079.000000</td>\n",
              "      <td>6079.000000</td>\n",
              "      <td>6079.000000</td>\n",
              "      <td>6079.000000</td>\n",
              "      <td>6079.000000</td>\n",
              "      <td>6079.000000</td>\n",
              "      <td>6079.000000</td>\n",
              "      <td>6079.000000</td>\n",
              "      <td>6079.000000</td>\n",
              "      <td>6079.000000</td>\n",
              "      <td>6079.000000</td>\n",
              "      <td>6079.000000</td>\n",
              "      <td>6079.000000</td>\n",
              "      <td>6079.000000</td>\n",
              "      <td>6079.000000</td>\n",
              "      <td>6079.000000</td>\n",
              "      <td>6079.000000</td>\n",
              "      <td>6079.000000</td>\n",
              "      <td>6079.000000</td>\n",
              "      <td>6079.000000</td>\n",
              "      <td>6079.000000</td>\n",
              "      <td>6079.000000</td>\n",
              "      <td>6079.000000</td>\n",
              "      <td>6079.000000</td>\n",
              "      <td>6079.000000</td>\n",
              "      <td>6079.000000</td>\n",
              "      <td>6079.000000</td>\n",
              "      <td>6079.000000</td>\n",
              "      <td>6079.000000</td>\n",
              "      <td>6079.000000</td>\n",
              "    </tr>\n",
              "    <tr>\n",
              "      <th>mean</th>\n",
              "      <td>0.892663</td>\n",
              "      <td>0.595301</td>\n",
              "      <td>0.057301</td>\n",
              "      <td>0.698525</td>\n",
              "      <td>0.772633</td>\n",
              "      <td>0.793689</td>\n",
              "      <td>0.587478</td>\n",
              "      <td>0.507275</td>\n",
              "      <td>0.238745</td>\n",
              "      <td>0.004469</td>\n",
              "      <td>0.429978</td>\n",
              "      <td>0.284915</td>\n",
              "      <td>0.038137</td>\n",
              "      <td>0.010035</td>\n",
              "      <td>0.030762</td>\n",
              "      <td>0.065225</td>\n",
              "      <td>0.497587</td>\n",
              "      <td>0.166063</td>\n",
              "      <td>0.386385</td>\n",
              "      <td>0.000823</td>\n",
              "      <td>0.799931</td>\n",
              "      <td>0.925408</td>\n",
              "      <td>0.654823</td>\n",
              "      <td>0.960054</td>\n",
              "      <td>0.968626</td>\n",
              "      <td>0.854680</td>\n",
              "      <td>0.479547</td>\n",
              "      <td>0.130641</td>\n",
              "      <td>0.502468</td>\n",
              "      <td>0.908254</td>\n",
              "    </tr>\n",
              "    <tr>\n",
              "      <th>std</th>\n",
              "      <td>0.132047</td>\n",
              "      <td>0.219470</td>\n",
              "      <td>0.182196</td>\n",
              "      <td>0.350938</td>\n",
              "      <td>0.303023</td>\n",
              "      <td>0.336622</td>\n",
              "      <td>0.135900</td>\n",
              "      <td>0.185987</td>\n",
              "      <td>0.335057</td>\n",
              "      <td>0.045782</td>\n",
              "      <td>0.365952</td>\n",
              "      <td>0.368826</td>\n",
              "      <td>0.153635</td>\n",
              "      <td>0.074240</td>\n",
              "      <td>0.138065</td>\n",
              "      <td>0.197582</td>\n",
              "      <td>0.423138</td>\n",
              "      <td>0.257301</td>\n",
              "      <td>0.383384</td>\n",
              "      <td>0.020489</td>\n",
              "      <td>0.178420</td>\n",
              "      <td>0.114836</td>\n",
              "      <td>0.107666</td>\n",
              "      <td>0.086926</td>\n",
              "      <td>0.074631</td>\n",
              "      <td>0.130743</td>\n",
              "      <td>0.422921</td>\n",
              "      <td>0.225718</td>\n",
              "      <td>0.407097</td>\n",
              "      <td>0.100708</td>\n",
              "    </tr>\n",
              "    <tr>\n",
              "      <th>min</th>\n",
              "      <td>0.333333</td>\n",
              "      <td>0.333333</td>\n",
              "      <td>0.000000</td>\n",
              "      <td>0.000000</td>\n",
              "      <td>0.000000</td>\n",
              "      <td>0.000000</td>\n",
              "      <td>0.333333</td>\n",
              "      <td>0.333333</td>\n",
              "      <td>0.000000</td>\n",
              "      <td>0.000000</td>\n",
              "      <td>0.000000</td>\n",
              "      <td>0.000000</td>\n",
              "      <td>0.000000</td>\n",
              "      <td>0.000000</td>\n",
              "      <td>0.000000</td>\n",
              "      <td>0.000000</td>\n",
              "      <td>0.000000</td>\n",
              "      <td>0.000000</td>\n",
              "      <td>0.000000</td>\n",
              "      <td>0.000000</td>\n",
              "      <td>0.333333</td>\n",
              "      <td>0.333333</td>\n",
              "      <td>0.333333</td>\n",
              "      <td>0.333333</td>\n",
              "      <td>0.333333</td>\n",
              "      <td>0.200000</td>\n",
              "      <td>0.000000</td>\n",
              "      <td>0.000000</td>\n",
              "      <td>0.000000</td>\n",
              "      <td>0.333333</td>\n",
              "    </tr>\n",
              "    <tr>\n",
              "      <th>25%</th>\n",
              "      <td>0.777778</td>\n",
              "      <td>0.444444</td>\n",
              "      <td>0.000000</td>\n",
              "      <td>0.500000</td>\n",
              "      <td>0.666667</td>\n",
              "      <td>0.666667</td>\n",
              "      <td>0.444444</td>\n",
              "      <td>0.333333</td>\n",
              "      <td>0.000000</td>\n",
              "      <td>0.000000</td>\n",
              "      <td>0.000000</td>\n",
              "      <td>0.000000</td>\n",
              "      <td>0.000000</td>\n",
              "      <td>0.000000</td>\n",
              "      <td>0.000000</td>\n",
              "      <td>0.000000</td>\n",
              "      <td>0.000000</td>\n",
              "      <td>0.000000</td>\n",
              "      <td>0.000000</td>\n",
              "      <td>0.000000</td>\n",
              "      <td>0.666667</td>\n",
              "      <td>0.888889</td>\n",
              "      <td>0.666667</td>\n",
              "      <td>1.000000</td>\n",
              "      <td>1.000000</td>\n",
              "      <td>0.800000</td>\n",
              "      <td>0.000000</td>\n",
              "      <td>0.000000</td>\n",
              "      <td>0.000000</td>\n",
              "      <td>0.888889</td>\n",
              "    </tr>\n",
              "    <tr>\n",
              "      <th>50%</th>\n",
              "      <td>0.888889</td>\n",
              "      <td>0.555556</td>\n",
              "      <td>0.000000</td>\n",
              "      <td>0.666667</td>\n",
              "      <td>1.000000</td>\n",
              "      <td>1.000000</td>\n",
              "      <td>0.555556</td>\n",
              "      <td>0.444444</td>\n",
              "      <td>0.000000</td>\n",
              "      <td>0.000000</td>\n",
              "      <td>0.333333</td>\n",
              "      <td>0.000000</td>\n",
              "      <td>0.000000</td>\n",
              "      <td>0.000000</td>\n",
              "      <td>0.000000</td>\n",
              "      <td>0.000000</td>\n",
              "      <td>0.666667</td>\n",
              "      <td>0.000000</td>\n",
              "      <td>0.333333</td>\n",
              "      <td>0.000000</td>\n",
              "      <td>0.833333</td>\n",
              "      <td>1.000000</td>\n",
              "      <td>0.666667</td>\n",
              "      <td>1.000000</td>\n",
              "      <td>1.000000</td>\n",
              "      <td>0.866667</td>\n",
              "      <td>0.500000</td>\n",
              "      <td>0.000000</td>\n",
              "      <td>0.500000</td>\n",
              "      <td>0.888889</td>\n",
              "    </tr>\n",
              "    <tr>\n",
              "      <th>75%</th>\n",
              "      <td>1.000000</td>\n",
              "      <td>0.777778</td>\n",
              "      <td>0.000000</td>\n",
              "      <td>1.000000</td>\n",
              "      <td>1.000000</td>\n",
              "      <td>1.000000</td>\n",
              "      <td>0.666667</td>\n",
              "      <td>0.666667</td>\n",
              "      <td>0.333333</td>\n",
              "      <td>0.000000</td>\n",
              "      <td>0.666667</td>\n",
              "      <td>0.666667</td>\n",
              "      <td>0.000000</td>\n",
              "      <td>0.000000</td>\n",
              "      <td>0.000000</td>\n",
              "      <td>0.000000</td>\n",
              "      <td>1.000000</td>\n",
              "      <td>0.333333</td>\n",
              "      <td>0.666667</td>\n",
              "      <td>0.000000</td>\n",
              "      <td>1.000000</td>\n",
              "      <td>1.000000</td>\n",
              "      <td>0.666667</td>\n",
              "      <td>1.000000</td>\n",
              "      <td>1.000000</td>\n",
              "      <td>0.933333</td>\n",
              "      <td>1.000000</td>\n",
              "      <td>0.333333</td>\n",
              "      <td>1.000000</td>\n",
              "      <td>1.000000</td>\n",
              "    </tr>\n",
              "    <tr>\n",
              "      <th>max</th>\n",
              "      <td>1.000000</td>\n",
              "      <td>1.000000</td>\n",
              "      <td>1.000000</td>\n",
              "      <td>1.000000</td>\n",
              "      <td>1.000000</td>\n",
              "      <td>1.000000</td>\n",
              "      <td>1.000000</td>\n",
              "      <td>1.000000</td>\n",
              "      <td>1.000000</td>\n",
              "      <td>1.000000</td>\n",
              "      <td>1.000000</td>\n",
              "      <td>1.000000</td>\n",
              "      <td>1.000000</td>\n",
              "      <td>1.000000</td>\n",
              "      <td>1.000000</td>\n",
              "      <td>1.000000</td>\n",
              "      <td>1.000000</td>\n",
              "      <td>1.000000</td>\n",
              "      <td>1.000000</td>\n",
              "      <td>0.666667</td>\n",
              "      <td>1.000000</td>\n",
              "      <td>1.000000</td>\n",
              "      <td>1.000000</td>\n",
              "      <td>1.000000</td>\n",
              "      <td>1.000000</td>\n",
              "      <td>1.000000</td>\n",
              "      <td>1.000000</td>\n",
              "      <td>1.000000</td>\n",
              "      <td>1.000000</td>\n",
              "      <td>1.000000</td>\n",
              "    </tr>\n",
              "  </tbody>\n",
              "</table>\n",
              "</div>"
            ],
            "text/plain": [
              "       question_asker_intent_understanding  ...  answer_well_written\n",
              "count                          6079.000000  ...          6079.000000\n",
              "mean                              0.892663  ...             0.908254\n",
              "std                               0.132047  ...             0.100708\n",
              "min                               0.333333  ...             0.333333\n",
              "25%                               0.777778  ...             0.888889\n",
              "50%                               0.888889  ...             0.888889\n",
              "75%                               1.000000  ...             1.000000\n",
              "max                               1.000000  ...             1.000000\n",
              "\n",
              "[8 rows x 30 columns]"
            ]
          },
          "metadata": {
            "tags": []
          },
          "execution_count": 56
        }
      ]
    },
    {
      "cell_type": "code",
      "metadata": {
        "id": "3eNjJJpsy_AW",
        "colab_type": "code",
        "outputId": "32891441-4899-433d-cec4-7c5145fd6c46",
        "colab": {
          "base_uri": "https://localhost:8080/",
          "height": 0
        }
      },
      "source": [
        "# histograms of the target labels\n",
        "f,ax = plt.subplots(5,6, figsize=(24,20))\n",
        "for i,label in enumerate(train.columns[11:]):\n",
        "  plt.subplot(5,6,i+1)\n",
        "  plt.hist(train[label], bins=20)\n",
        "  plt.title(label)\n",
        "\n",
        "plt.show()"
      ],
      "execution_count": 57,
      "outputs": [
        {
          "output_type": "display_data",
          "data": {
            "image/png": "[encoded data removed]",
            "text/plain": [
              "<Figure size 1728x1440 with 30 Axes>"
            ]
          },
          "metadata": {
            "tags": [],
            "needs_background": "light"
          }
        }
      ]
    },
    {
      "cell_type": "code",
      "metadata": {
        "id": "g7BUw3WV1hDl",
        "colab_type": "code",
        "outputId": "49aa7536-6269-4a92-d727-cad4c840ae4d",
        "colab": {
          "base_uri": "https://localhost:8080/",
          "height": 0
        }
      },
      "source": [
        "train.shape"
      ],
      "execution_count": 58,
      "outputs": [
        {
          "output_type": "execute_result",
          "data": {
            "text/plain": [
              "(6079, 41)"
            ]
          },
          "metadata": {
            "tags": []
          },
          "execution_count": 58
        }
      ]
    },
    {
      "cell_type": "markdown",
      "metadata": {
        "id": "9yMhNwDfvhod",
        "colab_type": "text"
      },
      "source": [
        "## Data preparation"
      ]
    },
    {
      "cell_type": "markdown",
      "metadata": {
        "id": "Pu3U2qdsDygq",
        "colab_type": "text"
      },
      "source": [
        "#### Performing train test split."
      ]
    },
    {
      "cell_type": "code",
      "metadata": {
        "id": "_h7pjAzJXBXn",
        "colab_type": "code",
        "outputId": "ed11b6fb-453b-4ba9-a206-dabaf1645b51",
        "colab": {
          "base_uri": "https://localhost:8080/",
          "height": 0
        }
      },
      "source": [
        "train.columns"
      ],
      "execution_count": 59,
      "outputs": [
        {
          "output_type": "execute_result",
          "data": {
            "text/plain": [
              "Index(['qa_id', 'question_title', 'question_body', 'question_user_name',\n",
              "       'question_user_page', 'answer', 'answer_user_name', 'answer_user_page',\n",
              "       'url', 'category', 'host', 'question_asker_intent_understanding',\n",
              "       'question_body_critical', 'question_conversational',\n",
              "       'question_expect_short_answer', 'question_fact_seeking',\n",
              "       'question_has_commonly_accepted_answer',\n",
              "       'question_interestingness_others', 'question_interestingness_self',\n",
              "       'question_multi_intent', 'question_not_really_a_question',\n",
              "       'question_opinion_seeking', 'question_type_choice',\n",
              "       'question_type_compare', 'question_type_consequence',\n",
              "       'question_type_definition', 'question_type_entity',\n",
              "       'question_type_instructions', 'question_type_procedure',\n",
              "       'question_type_reason_explanation', 'question_type_spelling',\n",
              "       'question_well_written', 'answer_helpful',\n",
              "       'answer_level_of_information', 'answer_plausible', 'answer_relevance',\n",
              "       'answer_satisfaction', 'answer_type_instructions',\n",
              "       'answer_type_procedure', 'answer_type_reason_explanation',\n",
              "       'answer_well_written'],\n",
              "      dtype='object')"
            ]
          },
          "metadata": {
            "tags": []
          },
          "execution_count": 59
        }
      ]
    },
    {
      "cell_type": "code",
      "metadata": {
        "id": "_qttmtrw3zrM",
        "colab_type": "code",
        "colab": {}
      },
      "source": [
        "y = train[train.columns[11:]]"
      ],
      "execution_count": 0,
      "outputs": []
    },
    {
      "cell_type": "code",
      "metadata": {
        "id": "PGcRm2MOIauM",
        "colab_type": "code",
        "colab": {}
      },
      "source": [
        "from urllib.parse import urlparse\n",
        "import re\n",
        "from sklearn.preprocessing import OneHotEncoder\n",
        "\n",
        "find = re.compile(r\"^[^.]*\")\n",
        "train['clean_url'] = train['url'].apply(lambda x: re.findall(find, urlparse(x).netloc)[0])\n",
        "test['clean_url'] = test['url'].apply(lambda x: re.findall(find, urlparse(x).netloc)[0])"
      ],
      "execution_count": 0,
      "outputs": []
    },
    {
      "cell_type": "code",
      "metadata": {
        "id": "JQOxeggvD2CR",
        "colab_type": "code",
        "colab": {}
      },
      "source": [
        "X = train[['question_title', 'question_body', 'answer', 'clean_url', 'category']]"
      ],
      "execution_count": 0,
      "outputs": []
    },
    {
      "cell_type": "code",
      "metadata": {
        "id": "leHskdCNRoci",
        "colab_type": "code",
        "colab": {}
      },
      "source": [
        "# train and cv split\n",
        "from sklearn.model_selection import train_test_split\n",
        "X_train, X_cv, y_train, y_cv = train_test_split(X, y, test_size=0.001, random_state=42)"
      ],
      "execution_count": 0,
      "outputs": []
    },
    {
      "cell_type": "code",
      "metadata": {
        "id": "mIcxtdC_LoHS",
        "colab_type": "code",
        "colab": {}
      },
      "source": [
        "features = ['clean_url', 'category']\n",
        "\n",
        "ohe = OneHotEncoder()\n",
        "ohe.fit(X_train[features])\n",
        "categorical_features_train = ohe.transform(X_train[features]).todense()\n",
        "categorical_features_cv = ohe.transform(X_cv[features]).todense()"
      ],
      "execution_count": 0,
      "outputs": []
    },
    {
      "cell_type": "code",
      "metadata": {
        "id": "VdFcl3p-DxB0",
        "colab_type": "code",
        "outputId": "93a30609-f76f-4b14-92a5-81e84e0019ac",
        "colab": {
          "base_uri": "https://localhost:8080/",
          "height": 0
        }
      },
      "source": [
        "# Let's check the length of question title in last 10 percentiles\n",
        "print('length of question title in last 10 percentiles')\n",
        "x = pd.Series([len(x.split(' ')) for x in X_train['question_title']])\n",
        "for i in range(90,100):\n",
        "  print(f'{i}% --> {x.quantile(i/100)}')"
      ],
      "execution_count": 65,
      "outputs": [
        {
          "output_type": "stream",
          "text": [
            "length of question title in last 10 percentiles\n",
            "90% --> 14.0\n",
            "91% --> 14.0\n",
            "92% --> 15.0\n",
            "93% --> 15.0\n",
            "94% --> 16.0\n",
            "95% --> 16.0\n",
            "96% --> 17.0\n",
            "97% --> 17.0\n",
            "98% --> 18.579999999999927\n",
            "99% --> 20.0\n"
          ],
          "name": "stdout"
        }
      ]
    },
    {
      "cell_type": "code",
      "metadata": {
        "id": "TeQ1Iql7FgWs",
        "colab_type": "code",
        "colab": {}
      },
      "source": [
        "# I'll be choosing the max_length_title as 20 since 99% points have a length less than 20 words\n",
        "max_length_title = 14"
      ],
      "execution_count": 0,
      "outputs": []
    },
    {
      "cell_type": "code",
      "metadata": {
        "id": "5SQ8dPJYFvJ0",
        "colab_type": "code",
        "outputId": "a69bf617-d77b-4035-9245-a894d131cf1a",
        "colab": {
          "base_uri": "https://localhost:8080/",
          "height": 0
        }
      },
      "source": [
        "# Let's check the length of question body in last 10 percentiles\n",
        "print('length of question body in last 10 percentiles')\n",
        "x = pd.Series([len(x.split(' ')) for x in X_train['question_body']])\n",
        "for i in range(90,100):\n",
        "  print(f'{i}% --> {x.quantile(i/100)}')"
      ],
      "execution_count": 67,
      "outputs": [
        {
          "output_type": "stream",
          "text": [
            "length of question body in last 10 percentiles\n",
            "90% --> 283.0\n",
            "91% --> 300.0\n",
            "92% --> 318.0\n",
            "93% --> 342.0\n",
            "94% --> 372.0\n",
            "95% --> 433.0\n",
            "96% --> 499.0\n",
            "97% --> 578.0\n",
            "98% --> 722.0\n",
            "99% --> 1028.539999999999\n"
          ],
          "name": "stdout"
        }
      ]
    },
    {
      "cell_type": "code",
      "metadata": {
        "id": "3Ea6KHSoG6Xf",
        "colab_type": "code",
        "colab": {}
      },
      "source": [
        "# I'll be choosing the max_length_body as 1000 since 99% points have a length less than 1000 words\n",
        "max_length_body = 300"
      ],
      "execution_count": 0,
      "outputs": []
    },
    {
      "cell_type": "code",
      "metadata": {
        "id": "Mb1URbsGPH7B",
        "colab_type": "code",
        "outputId": "7327a306-065e-4d80-80df-541efec09d4b",
        "colab": {
          "base_uri": "https://localhost:8080/",
          "height": 0
        }
      },
      "source": [
        "# Let's check the length of answer in last 10 percentiles\n",
        "print('length of answer in last 10 percentiles')\n",
        "x = pd.Series([len(x.split(' ')) for x in X_train['answer']])\n",
        "for i in range(90,100):\n",
        "  print(f'{i}% --> {x.quantile(i/100)}')"
      ],
      "execution_count": 69,
      "outputs": [
        {
          "output_type": "stream",
          "text": [
            "length of answer in last 10 percentiles\n",
            "90% --> 294.0\n",
            "91% --> 313.6100000000006\n",
            "92% --> 341.0\n",
            "93% --> 364.0\n",
            "94% --> 393.0\n",
            "95% --> 428.89999999999964\n",
            "96% --> 490.3199999999997\n",
            "97% --> 551.8699999999999\n",
            "98% --> 621.5799999999999\n",
            "99% --> 882.5799999999999\n"
          ],
          "name": "stdout"
        }
      ]
    },
    {
      "cell_type": "code",
      "metadata": {
        "id": "OFvuIV0QPH3r",
        "colab_type": "code",
        "colab": {}
      },
      "source": [
        "# I'll be choosing the max_length_body as 700 since 98% points have a length less than 700 words\n",
        "max_length_answer = 300"
      ],
      "execution_count": 0,
      "outputs": []
    },
    {
      "cell_type": "code",
      "metadata": {
        "id": "MchvuP6pPH0C",
        "colab_type": "code",
        "colab": {}
      },
      "source": [
        ""
      ],
      "execution_count": 0,
      "outputs": []
    },
    {
      "cell_type": "code",
      "metadata": {
        "id": "ydf1jaM4G6Um",
        "colab_type": "code",
        "outputId": "6950e867-7c4f-4371-aad8-7610a99047ac",
        "colab": {
          "base_uri": "https://localhost:8080/",
          "height": 0
        }
      },
      "source": [
        "# # Downloading GloVe data\n",
        "!cp './drive/My Drive/glove.6B.zip' './'\n",
        "!unzip glove*.zip"
      ],
      "execution_count": 71,
      "outputs": [
        {
          "output_type": "stream",
          "text": [
            "Archive:  glove.6B.zip\n",
            "  inflating: glove.6B.50d.txt        \n",
            "  inflating: glove.6B.100d.txt       \n",
            "  inflating: glove.6B.200d.txt       \n",
            "  inflating: glove.6B.300d.txt       \n"
          ],
          "name": "stdout"
        }
      ]
    },
    {
      "cell_type": "code",
      "metadata": {
        "id": "eXTiGwOiHKgn",
        "colab_type": "code",
        "outputId": "015d0f0c-84ef-4d8c-a02f-0802eb3705c8",
        "colab": {
          "base_uri": "https://localhost:8080/",
          "height": 0,
          "referenced_widgets": [
            "a535dff749234e0a87ba37f6f93337fa",
            "e237c14e1a6d46c9b4757e9517a9bd21",
            "ac35446f57ba45efaef7e6752f9f25a7",
            "41e7f31c0cc14e42b98e3f40c6ed9943",
            "7e1900f3300645a1b308f101ffa75bcc",
            "6f604ba0d0d249cca38c98f8881574e7",
            "8319ef98f8dc4278b77de9cd3f9a07c1",
            "f0c9ad0f920c4d7497ccacfe4d6e474d"
          ]
        }
      },
      "source": [
        "from tqdm.notebook import tqdm\n",
        "embeddings_index = dict()\n",
        "f = open('glove.6B.300d.txt')\n",
        "for line in tqdm(f):\n",
        "  values = line.split()\n",
        "  word = values[0]\n",
        "  coefs = np.asarray(values[1:], dtype='float32')\n",
        "  embeddings_index[word] = coefs\n",
        "f.close()\n",
        "print('Loaded %s word vectors.' % len(embeddings_index))"
      ],
      "execution_count": 72,
      "outputs": [
        {
          "output_type": "display_data",
          "data": {
            "application/vnd.jupyter.widget-view+json": {
              "model_id": "a535dff749234e0a87ba37f6f93337fa",
              "version_minor": 0,
              "version_major": 2
            },
            "text/plain": [
              "HBox(children=(FloatProgress(value=1.0, bar_style='info', max=1.0), HTML(value='')))"
            ]
          },
          "metadata": {
            "tags": []
          }
        },
        {
          "output_type": "stream",
          "text": [
            "\n",
            "Loaded 400000 word vectors.\n"
          ],
          "name": "stdout"
        }
      ]
    },
    {
      "cell_type": "markdown",
      "metadata": {
        "id": "L5BtyZwHfWwO",
        "colab_type": "text"
      },
      "source": [
        "#### Let's prepare question title first"
      ]
    },
    {
      "cell_type": "code",
      "metadata": {
        "id": "YqsnyCz9HKeC",
        "colab_type": "code",
        "colab": {}
      },
      "source": [
        "from tensorflow.keras.preprocessing.text import Tokenizer\n",
        "tokenizer = Tokenizer(num_words=None, filters='!\"#$%&()*+,-./:;<=>?@[\\\\]^`_{|}~\\t\\n', lower=True,\n",
        "                      split=' ', char_level=False, oov_token=None, document_count=0)\n",
        "tokenizer.fit_on_texts(X_train['question_title'].values)"
      ],
      "execution_count": 0,
      "outputs": []
    },
    {
      "cell_type": "code",
      "metadata": {
        "id": "CRQvzIhhHKa5",
        "colab_type": "code",
        "colab": {}
      },
      "source": [
        "train_title = tokenizer.texts_to_sequences(X_train['question_title'].values)\n",
        "cv_title = tokenizer.texts_to_sequences(X_cv['question_title'].values)"
      ],
      "execution_count": 0,
      "outputs": []
    },
    {
      "cell_type": "code",
      "metadata": {
        "id": "mOKoFE61HKXZ",
        "colab_type": "code",
        "colab": {}
      },
      "source": [
        "from tensorflow.keras.preprocessing.sequence import pad_sequences\n",
        "train_title = pad_sequences(train_title, maxlen=max_length_title, padding='post', value=0)\n",
        "cv_title = pad_sequences(cv_title, maxlen=max_length_title, padding='post', value=0)"
      ],
      "execution_count": 0,
      "outputs": []
    },
    {
      "cell_type": "code",
      "metadata": {
        "id": "RIQ6lTaferyi",
        "colab_type": "code",
        "outputId": "c88cfa0f-dd89-48d2-a332-61f5a9fc1b48",
        "colab": {
          "base_uri": "https://localhost:8080/",
          "height": 0,
          "referenced_widgets": [
            "b75940a86f73415cb18d9ee3252563f5",
            "7d06f854eaf2469a9560b98a47fc2067",
            "fcc5d8a2cf424470af0db22a509d0bc9",
            "464e6bc5752f4837823e1744eef4132d",
            "fca63fb264ab408d81810a1cc40330cb",
            "8c50f53f5c7d4542bbdd8c92f7219f2b",
            "f7f37c3264f24a7f8fbc937e6353f102",
            "8eeb53c99f0a4486b9b39139cee66f03"
          ]
        }
      },
      "source": [
        "title_vocab_size = len(tokenizer.word_index) + 1\n",
        "embedding_matrix_title = np.zeros((title_vocab_size, 300))\n",
        "for word, i in tqdm(tokenizer.word_index.items()):\n",
        "  embedding_vector = embeddings_index.get(word)\n",
        "  if embedding_vector is not None:\n",
        "    embedding_matrix_title[i] = embedding_vector"
      ],
      "execution_count": 76,
      "outputs": [
        {
          "output_type": "display_data",
          "data": {
            "application/vnd.jupyter.widget-view+json": {
              "model_id": "b75940a86f73415cb18d9ee3252563f5",
              "version_minor": 0,
              "version_major": 2
            },
            "text/plain": [
              "HBox(children=(FloatProgress(value=0.0, max=7369.0), HTML(value='')))"
            ]
          },
          "metadata": {
            "tags": []
          }
        },
        {
          "output_type": "stream",
          "text": [
            "\n"
          ],
          "name": "stdout"
        }
      ]
    },
    {
      "cell_type": "markdown",
      "metadata": {
        "id": "aFHPvZvufa6U",
        "colab_type": "text"
      },
      "source": [
        "#### Let's prepare question body now"
      ]
    },
    {
      "cell_type": "code",
      "metadata": {
        "id": "eVGO0j85ersm",
        "colab_type": "code",
        "colab": {}
      },
      "source": [
        "from tensorflow.keras.preprocessing.text import Tokenizer\n",
        "tokenizer = Tokenizer(num_words=None, filters='!\"#$%&()*+,-./:;<=>?@[\\\\]^`_{|}~\\t\\n', lower=True,\n",
        "                      split=' ', char_level=False, oov_token=None, document_count=0)\n",
        "tokenizer.fit_on_texts(X_train['question_body'].values)"
      ],
      "execution_count": 0,
      "outputs": []
    },
    {
      "cell_type": "code",
      "metadata": {
        "id": "YB6-xvI-erYd",
        "colab_type": "code",
        "colab": {}
      },
      "source": [
        "train_body = tokenizer.texts_to_sequences(X_train['question_body'].values)\n",
        "cv_body = tokenizer.texts_to_sequences(X_cv['question_body'].values)"
      ],
      "execution_count": 0,
      "outputs": []
    },
    {
      "cell_type": "code",
      "metadata": {
        "id": "cCyKzUIuerVg",
        "colab_type": "code",
        "colab": {}
      },
      "source": [
        "from tensorflow.keras.preprocessing.sequence import pad_sequences\n",
        "train_body = pad_sequences(train_body, maxlen=max_length_body, padding='post', value=0)\n",
        "cv_body = pad_sequences(cv_body, maxlen=max_length_body, padding='post', value=0)"
      ],
      "execution_count": 0,
      "outputs": []
    },
    {
      "cell_type": "code",
      "metadata": {
        "id": "H0ub20VsfiMZ",
        "colab_type": "code",
        "outputId": "37b23a61-58b4-4abd-94d4-0c84229f705a",
        "colab": {
          "base_uri": "https://localhost:8080/",
          "height": 0,
          "referenced_widgets": [
            "996f9016ae3340a1af39d612bd24e132",
            "a1d76d2312454a9eb1b83de868964199",
            "d17ff212f1714cd996ac004f0f572113",
            "8bde684a893145eca737143d7c82c793",
            "fe1b010058374052a5d550ca0377cf1d",
            "3fbd558f74e14243aa80a43c9d6ccef9",
            "dffe67864b5d4ba3a21fe593f61bb065",
            "bc842eed3b8a47cca67ab9d16cecc3ed"
          ]
        }
      },
      "source": [
        "body_vocab_size = len(tokenizer.word_index) + 1\n",
        "embedding_matrix_body = np.zeros((body_vocab_size, 300))\n",
        "for word, i in tqdm(tokenizer.word_index.items()):\n",
        "  embedding_vector = embeddings_index.get(word)\n",
        "  if embedding_vector is not None:\n",
        "    embedding_matrix_body[i] = embedding_vector"
      ],
      "execution_count": 80,
      "outputs": [
        {
          "output_type": "display_data",
          "data": {
            "application/vnd.jupyter.widget-view+json": {
              "model_id": "996f9016ae3340a1af39d612bd24e132",
              "version_minor": 0,
              "version_major": 2
            },
            "text/plain": [
              "HBox(children=(FloatProgress(value=0.0, max=30681.0), HTML(value='')))"
            ]
          },
          "metadata": {
            "tags": []
          }
        },
        {
          "output_type": "stream",
          "text": [
            "\n"
          ],
          "name": "stdout"
        }
      ]
    },
    {
      "cell_type": "markdown",
      "metadata": {
        "id": "_Cwaq9MdOCdZ",
        "colab_type": "text"
      },
      "source": [
        "#### Answers"
      ]
    },
    {
      "cell_type": "code",
      "metadata": {
        "id": "jP2hJEDOOFMM",
        "colab_type": "code",
        "colab": {}
      },
      "source": [
        "from tensorflow.keras.preprocessing.text import Tokenizer\n",
        "tokenizer = Tokenizer(num_words=None, filters='!\"#$%&()*+,-./:;<=>?@[\\\\]^`_{|}~\\t\\n', lower=True,\n",
        "                      split=' ', char_level=False, oov_token=None, document_count=0)\n",
        "tokenizer.fit_on_texts(X_train['answer'].values)"
      ],
      "execution_count": 0,
      "outputs": []
    },
    {
      "cell_type": "code",
      "metadata": {
        "id": "cGA8yAisOE58",
        "colab_type": "code",
        "colab": {}
      },
      "source": [
        "train_answer = tokenizer.texts_to_sequences(X_train['answer'].values)\n",
        "cv_answer = tokenizer.texts_to_sequences(X_cv['answer'].values)"
      ],
      "execution_count": 0,
      "outputs": []
    },
    {
      "cell_type": "code",
      "metadata": {
        "id": "WgDyFNoLOE3U",
        "colab_type": "code",
        "colab": {}
      },
      "source": [
        "from tensorflow.keras.preprocessing.sequence import pad_sequences\n",
        "train_answer = pad_sequences(train_answer, maxlen=max_length_answer, padding='post', value=0)\n",
        "cv_answer = pad_sequences(cv_answer, maxlen=max_length_answer, padding='post', value=0)"
      ],
      "execution_count": 0,
      "outputs": []
    },
    {
      "cell_type": "code",
      "metadata": {
        "id": "qWRTaB6YOE0B",
        "colab_type": "code",
        "outputId": "d0b5de7e-4e8b-4008-a8e0-7139832842fe",
        "colab": {
          "base_uri": "https://localhost:8080/",
          "height": 0,
          "referenced_widgets": [
            "c672b7fd1d69440b88766a8789b9627d",
            "a91aada90e624bd9a66755b79b00aab4",
            "2137642e394a416e81c53c5dfea062c4",
            "b5a4813b992f4e64bd9f47d3a74330cb",
            "aad3058166d84388951730b083543a50",
            "62481d5370e5467eaea9585dbd157086",
            "c03aad8ef9a04e7aa3d7ad7482b008cd",
            "b84295f244cc44fe9f9fd3a654799cc4"
          ]
        }
      },
      "source": [
        "answer_vocab_size = len(tokenizer.word_index) + 1\n",
        "embedding_matrix_answer = np.zeros((answer_vocab_size, 300))\n",
        "for word, i in tqdm(tokenizer.word_index.items()):\n",
        "  embedding_vector = embeddings_index.get(word)\n",
        "  if embedding_vector is not None:\n",
        "    embedding_matrix_answer[i] = embedding_vector"
      ],
      "execution_count": 84,
      "outputs": [
        {
          "output_type": "display_data",
          "data": {
            "application/vnd.jupyter.widget-view+json": {
              "model_id": "c672b7fd1d69440b88766a8789b9627d",
              "version_minor": 0,
              "version_major": 2
            },
            "text/plain": [
              "HBox(children=(FloatProgress(value=0.0, max=41958.0), HTML(value='')))"
            ]
          },
          "metadata": {
            "tags": []
          }
        },
        {
          "output_type": "stream",
          "text": [
            "\n"
          ],
          "name": "stdout"
        }
      ]
    },
    {
      "cell_type": "code",
      "metadata": {
        "id": "5Y_fn08xOEwX",
        "colab_type": "code",
        "colab": {}
      },
      "source": [
        "# max_length_answer=300\n",
        "# max_length_body=300\n",
        "# max_length_title=14"
      ],
      "execution_count": 0,
      "outputs": []
    },
    {
      "cell_type": "markdown",
      "metadata": {
        "id": "TuwdPf7b8jfL",
        "colab_type": "text"
      },
      "source": [
        "#### Modeling"
      ]
    },
    {
      "cell_type": "code",
      "metadata": {
        "id": "p2ekCb-ZfiK2",
        "colab_type": "code",
        "colab": {}
      },
      "source": [
        "import tensorflow as tf\n",
        "from tensorflow.keras.models import Model\n",
        "from tensorflow.keras.layers import concatenate, GRU, Input, Embedding, Dense, Flatten, Dropout, BatchNormalization\n",
        "from tensorflow.keras import backend as K\n",
        "from tensorflow.compat.v1.keras.layers import CuDNNGRU\n",
        "# K.clear_session()"
      ],
      "execution_count": 0,
      "outputs": []
    },
    {
      "cell_type": "code",
      "metadata": {
        "id": "nS5IVeeXfiJL",
        "colab_type": "code",
        "outputId": "11d50f50-d916-4cfb-8f16-72c57937bb65",
        "colab": {
          "base_uri": "https://localhost:8080/",
          "height": 190
        }
      },
      "source": [
        "K.clear_session()\n",
        "\n",
        "category_input = Input(64, name=\"category_input\", dtype='float64')\n",
        "dense_category = Dense(32, activation='relu')(category_input)\n",
        "\n",
        "title_input = Input(max_length_title, name=\"title\", dtype='float64')\n",
        "title_embedding = Embedding(title_vocab_size, 300, weights=[embedding_matrix_title],\n",
        "                            input_length=max_length_title, trainable=False)(title_input)\n",
        "gru_layer_title = CuDNNGRU(units=8, return_sequences=True, return_state=False)(title_embedding)\n",
        "avg_hidden_title = Flatten()(gru_layer_title)\n",
        "print(avg_hidden_title.shape)\n",
        "################################################\n",
        "body_input = Input(max_length_body, name=\"body\", dtype='float64')\n",
        "body_embedding = Embedding(body_vocab_size, 300, weights=[embedding_matrix_body],\n",
        "                            input_length=max_length_body, trainable=False)(body_input)\n",
        "gru_layer_body = CuDNNGRU(units=16, return_sequences=True, return_state=False)(body_embedding)\n",
        "avg_hidden_body = Flatten()(gru_layer_body)\n",
        "print(avg_hidden_body.shape)\n",
        "################################################\n",
        "answer_input = Input(max_length_answer, name=\"answer\", dtype='float64')\n",
        "answer_embedding = Embedding(answer_vocab_size, 300, weights=[embedding_matrix_answer],\n",
        "                            input_length=max_length_answer, trainable=False)(answer_input)\n",
        "gru_layer_answer = CuDNNGRU(units=16, return_sequences=True, return_state=False)(answer_embedding)\n",
        "avg_hidden_answer = Flatten()(gru_layer_answer)\n",
        "print(avg_hidden_answer.shape)\n",
        "################################################\n",
        "# concat_layer = concatenate([dense_title, dense_body, dense_answer])\n",
        "concat_layer = concatenate([avg_hidden_title, avg_hidden_body, avg_hidden_answer, dense_category])\n",
        "dense_1 = Dense(128, activation='relu')(concat_layer)\n",
        "# bn = BatchNormalization()(dense_1)\n",
        "dense_2 = Dense(64, activation='relu')(dense_1)\n",
        "dense_3 = Dense(30, activation='sigmoid')(dense_2)\n",
        "\n",
        "model = Model(inputs=[title_input, body_input, answer_input, category_input], outputs=[dense_3])"
      ],
      "execution_count": 108,
      "outputs": [
        {
          "output_type": "stream",
          "text": [
            "WARNING:tensorflow:Layer dense is casting an input tensor from dtype float64 to the layer's dtype of float32, which is new behavior in TensorFlow 2.  The layer has dtype float32 because it's dtype defaults to floatx.\n",
            "\n",
            "If you intended to run this layer in float32, you can safely ignore this warning. If in doubt, this warning is likely only an issue if you are porting a TensorFlow 1.X model to TensorFlow 2.\n",
            "\n",
            "To change all layers to have dtype float64 by default, call `tf.keras.backend.set_floatx('float64')`. To change just this layer, pass dtype='float64' to the layer constructor. If you are the author of this layer, you can disable autocasting by passing autocast=False to the base Layer constructor.\n",
            "\n",
            "(None, 112)\n",
            "(None, 4800)\n",
            "(None, 4800)\n"
          ],
          "name": "stdout"
        }
      ]
    },
    {
      "cell_type": "code",
      "metadata": {
        "id": "BPQ7DYjifiCd",
        "colab_type": "code",
        "outputId": "cd283e3a-0d83-4010-ca91-4c6dd9ccaf7f",
        "colab": {
          "base_uri": "https://localhost:8080/",
          "height": 816
        }
      },
      "source": [
        "model.summary()"
      ],
      "execution_count": 109,
      "outputs": [
        {
          "output_type": "stream",
          "text": [
            "Model: \"model\"\n",
            "__________________________________________________________________________________________________\n",
            "Layer (type)                    Output Shape         Param #     Connected to                     \n",
            "==================================================================================================\n",
            "title (InputLayer)              [(None, 14)]         0                                            \n",
            "__________________________________________________________________________________________________\n",
            "body (InputLayer)               [(None, 300)]        0                                            \n",
            "__________________________________________________________________________________________________\n",
            "answer (InputLayer)             [(None, 300)]        0                                            \n",
            "__________________________________________________________________________________________________\n",
            "embedding (Embedding)           (None, 14, 300)      2211000     title[0][0]                      \n",
            "__________________________________________________________________________________________________\n",
            "embedding_1 (Embedding)         (None, 300, 300)     9204600     body[0][0]                       \n",
            "__________________________________________________________________________________________________\n",
            "embedding_2 (Embedding)         (None, 300, 300)     12587700    answer[0][0]                     \n",
            "__________________________________________________________________________________________________\n",
            "cu_dnngru (CuDNNGRU)            (None, 14, 8)        7440        embedding[0][0]                  \n",
            "__________________________________________________________________________________________________\n",
            "cu_dnngru_1 (CuDNNGRU)          (None, 300, 16)      15264       embedding_1[0][0]                \n",
            "__________________________________________________________________________________________________\n",
            "cu_dnngru_2 (CuDNNGRU)          (None, 300, 16)      15264       embedding_2[0][0]                \n",
            "__________________________________________________________________________________________________\n",
            "category_input (InputLayer)     [(None, 64)]         0                                            \n",
            "__________________________________________________________________________________________________\n",
            "flatten (Flatten)               (None, 112)          0           cu_dnngru[0][0]                  \n",
            "__________________________________________________________________________________________________\n",
            "flatten_1 (Flatten)             (None, 4800)         0           cu_dnngru_1[0][0]                \n",
            "__________________________________________________________________________________________________\n",
            "flatten_2 (Flatten)             (None, 4800)         0           cu_dnngru_2[0][0]                \n",
            "__________________________________________________________________________________________________\n",
            "dense (Dense)                   (None, 32)           2080        category_input[0][0]             \n",
            "__________________________________________________________________________________________________\n",
            "concatenate (Concatenate)       (None, 9744)         0           flatten[0][0]                    \n",
            "                                                                 flatten_1[0][0]                  \n",
            "                                                                 flatten_2[0][0]                  \n",
            "                                                                 dense[0][0]                      \n",
            "__________________________________________________________________________________________________\n",
            "dense_1 (Dense)                 (None, 128)          1247360     concatenate[0][0]                \n",
            "__________________________________________________________________________________________________\n",
            "dense_2 (Dense)                 (None, 64)           8256        dense_1[0][0]                    \n",
            "__________________________________________________________________________________________________\n",
            "dense_3 (Dense)                 (None, 30)           1950        dense_2[0][0]                    \n",
            "==================================================================================================\n",
            "Total params: 25,300,914\n",
            "Trainable params: 1,297,614\n",
            "Non-trainable params: 24,003,300\n",
            "__________________________________________________________________________________________________\n"
          ],
          "name": "stdout"
        }
      ]
    },
    {
      "cell_type": "code",
      "metadata": {
        "id": "VQBH0XDQ5SBu",
        "colab_type": "code",
        "colab": {
          "base_uri": "https://localhost:8080/",
          "height": 156
        },
        "outputId": "c1e216c2-d5d7-4306-af3d-de917cfa8273"
      },
      "source": [
        "#### Model_2\n",
        "K.clear_session()\n",
        "\n",
        "category_input = Input(64, name=\"category_input\", dtype='float64')\n",
        "dense_category = Dense(32, activation='relu')(category_input)\n",
        "\n",
        "title_input = Input(max_length_title, name=\"title\", dtype='float64')\n",
        "title_embedding = Embedding(title_vocab_size, 300, weights=[embedding_matrix_title],\n",
        "                            input_length=max_length_title, trainable=False)(title_input)\n",
        "title_embedding_flatten = Flatten()(title_embedding)\n",
        "################################################\n",
        "body_input = Input(max_length_body, name=\"body\", dtype='float64')\n",
        "body_embedding = Embedding(body_vocab_size, 300, weights=[embedding_matrix_body],\n",
        "                            input_length=max_length_body, trainable=False)(body_input)\n",
        "body_embedding_flatten = Flatten()(body_embedding)\n",
        "################################################\n",
        "answer_input = Input(max_length_answer, name=\"answer\", dtype='float64')\n",
        "answer_embedding = Embedding(answer_vocab_size, 300, weights=[embedding_matrix_answer],\n",
        "                            input_length=max_length_answer, trainable=False)(answer_input)\n",
        "answer_embedding_flatten = Flatten()(answer_embedding)\n",
        "\n",
        "concat_layer = concatenate([title_embedding, body_embedding, answer_embedding], axis=1)\n",
        "\n",
        "gru_layer = CuDNNGRU(units=16, return_sequences=True, return_state=False)(concat_layer)\n",
        "avg_hidden = Flatten()(gru_layer)\n",
        "print(avg_hidden.shape)\n",
        "################################################\n",
        "concat_layer_2 = concatenate([avg_hidden, dense_category])\n",
        "dense_1 = Dense(128, activation='relu')(concat_layer_2)\n",
        "# bn = BatchNormalization()(dense_1)\n",
        "dense_2 = Dense(64, activation='relu')(dense_1)\n",
        "dense_3 = Dense(30, activation='sigmoid')(dense_2)\n",
        "\n",
        "model = Model(inputs=[title_input, body_input, answer_input, category_input], outputs=[dense_3])"
      ],
      "execution_count": 147,
      "outputs": [
        {
          "output_type": "stream",
          "text": [
            "WARNING:tensorflow:Layer dense is casting an input tensor from dtype float64 to the layer's dtype of float32, which is new behavior in TensorFlow 2.  The layer has dtype float32 because it's dtype defaults to floatx.\n",
            "\n",
            "If you intended to run this layer in float32, you can safely ignore this warning. If in doubt, this warning is likely only an issue if you are porting a TensorFlow 1.X model to TensorFlow 2.\n",
            "\n",
            "To change all layers to have dtype float64 by default, call `tf.keras.backend.set_floatx('float64')`. To change just this layer, pass dtype='float64' to the layer constructor. If you are the author of this layer, you can disable autocasting by passing autocast=False to the base Layer constructor.\n",
            "\n",
            "(None, 9824)\n"
          ],
          "name": "stdout"
        }
      ]
    },
    {
      "cell_type": "code",
      "metadata": {
        "id": "qV8J0KlkGnlT",
        "colab_type": "code",
        "colab": {
          "base_uri": "https://localhost:8080/",
          "height": 714
        },
        "outputId": "9278a237-6213-4441-9a64-f9ecdba14329"
      },
      "source": [
        "model.summary()"
      ],
      "execution_count": 148,
      "outputs": [
        {
          "output_type": "stream",
          "text": [
            "Model: \"model\"\n",
            "__________________________________________________________________________________________________\n",
            "Layer (type)                    Output Shape         Param #     Connected to                     \n",
            "==================================================================================================\n",
            "title (InputLayer)              [(None, 14)]         0                                            \n",
            "__________________________________________________________________________________________________\n",
            "body (InputLayer)               [(None, 300)]        0                                            \n",
            "__________________________________________________________________________________________________\n",
            "answer (InputLayer)             [(None, 300)]        0                                            \n",
            "__________________________________________________________________________________________________\n",
            "embedding (Embedding)           (None, 14, 300)      2211000     title[0][0]                      \n",
            "__________________________________________________________________________________________________\n",
            "embedding_1 (Embedding)         (None, 300, 300)     9204600     body[0][0]                       \n",
            "__________________________________________________________________________________________________\n",
            "embedding_2 (Embedding)         (None, 300, 300)     12587700    answer[0][0]                     \n",
            "__________________________________________________________________________________________________\n",
            "concatenate (Concatenate)       (None, 614, 300)     0           embedding[0][0]                  \n",
            "                                                                 embedding_1[0][0]                \n",
            "                                                                 embedding_2[0][0]                \n",
            "__________________________________________________________________________________________________\n",
            "cu_dnngru (CuDNNGRU)            (None, 614, 16)      15264       concatenate[0][0]                \n",
            "__________________________________________________________________________________________________\n",
            "category_input (InputLayer)     [(None, 64)]         0                                            \n",
            "__________________________________________________________________________________________________\n",
            "flatten_3 (Flatten)             (None, 9824)         0           cu_dnngru[0][0]                  \n",
            "__________________________________________________________________________________________________\n",
            "dense (Dense)                   (None, 32)           2080        category_input[0][0]             \n",
            "__________________________________________________________________________________________________\n",
            "concatenate_1 (Concatenate)     (None, 9856)         0           flatten_3[0][0]                  \n",
            "                                                                 dense[0][0]                      \n",
            "__________________________________________________________________________________________________\n",
            "dense_1 (Dense)                 (None, 128)          1261696     concatenate_1[0][0]              \n",
            "__________________________________________________________________________________________________\n",
            "dense_2 (Dense)                 (None, 64)           8256        dense_1[0][0]                    \n",
            "__________________________________________________________________________________________________\n",
            "dense_3 (Dense)                 (None, 30)           1950        dense_2[0][0]                    \n",
            "==================================================================================================\n",
            "Total params: 25,292,546\n",
            "Trainable params: 1,289,246\n",
            "Non-trainable params: 24,003,300\n",
            "__________________________________________________________________________________________________\n"
          ],
          "name": "stdout"
        }
      ]
    },
    {
      "cell_type": "code",
      "metadata": {
        "id": "hwUEDa_ei9DQ",
        "colab_type": "code",
        "outputId": "e59c1c69-d45e-4ede-b576-1787efaa69ac",
        "colab": {
          "base_uri": "https://localhost:8080/",
          "height": 436
        }
      },
      "source": [
        "tf.keras.utils.plot_model(\n",
        " model,\n",
        " to_file='model.png',\n",
        " show_shapes=False,\n",
        " show_layer_names=True,\n",
        " rankdir='TB',\n",
        " expand_nested=False,\n",
        " dpi=48\n",
        ")"
      ],
      "execution_count": 149,
      "outputs": [
        {
          "output_type": "execute_result",
          "data": {
            "image/png": "[encoded data removed]",
            "text/plain": [
              "<IPython.core.display.Image object>"
            ]
          },
          "metadata": {
            "tags": []
          },
          "execution_count": 149
        }
      ]
    },
    {
      "cell_type": "code",
      "metadata": {
        "id": "EdRLxhSLOGXl",
        "colab_type": "code",
        "colab": {}
      },
      "source": [
        "# categorical_features_train.shape\n",
        "# tf.convert_to_tensor(categorical_features_train)"
      ],
      "execution_count": 0,
      "outputs": []
    },
    {
      "cell_type": "code",
      "metadata": {
        "id": "K_WLc7hKi9AC",
        "colab_type": "code",
        "colab": {}
      },
      "source": [
        "from scipy.stats import spearmanr\n",
        "def compute_spearmanr_ignore_nan(trues, preds):\n",
        "    rhos = []\n",
        "    for tcol, pcol in zip(np.transpose(trues), np.transpose(preds)):\n",
        "        rhos.append(spearmanr(tcol, pcol).correlation)\n",
        "    return np.nanmean(rhos)"
      ],
      "execution_count": 0,
      "outputs": []
    },
    {
      "cell_type": "code",
      "metadata": {
        "id": "oQIMCSign7ls",
        "colab_type": "code",
        "colab": {}
      },
      "source": [
        "def rhos(y, y_pred):\n",
        "  return tf.py_function(compute_spearmanr_ignore_nan, (y, y_pred), tf.double)"
      ],
      "execution_count": 0,
      "outputs": []
    },
    {
      "cell_type": "code",
      "metadata": {
        "id": "4Jj0Xi7rn7bY",
        "colab_type": "code",
        "colab": {}
      },
      "source": [
        "metrics = [rhos]"
      ],
      "execution_count": 0,
      "outputs": []
    },
    {
      "cell_type": "code",
      "metadata": {
        "id": "ZveQd2wwfF5I",
        "colab_type": "code",
        "colab": {}
      },
      "source": [
        "reduce_lr = tf.keras.callbacks.ReduceLROnPlateau(monitor='val_loss', factor=0.7, patience=4, verbose=1, mode='auto',\n",
        "                                                 min_delta=0.0001, cooldown=0, min_lr=1e-7)"
      ],
      "execution_count": 0,
      "outputs": []
    },
    {
      "cell_type": "code",
      "metadata": {
        "id": "ZzP7fyIko6U9",
        "colab_type": "code",
        "colab": {}
      },
      "source": [
        "input_data = {'title': train_title, 'body': train_body, 'answer': train_answer, 'category_input': categorical_features_train}\n",
        "cv_data = {'title': cv_title, 'body': cv_body, 'answer': cv_answer, 'category_input': categorical_features_cv}"
      ],
      "execution_count": 0,
      "outputs": []
    },
    {
      "cell_type": "code",
      "metadata": {
        "id": "LhkyCYJsnN-g",
        "colab_type": "code",
        "outputId": "3bd1f5e5-dd42-4b83-db3d-c3eb58e834e0",
        "colab": {
          "base_uri": "https://localhost:8080/",
          "height": 1000
        }
      },
      "source": [
        "optimizer = tf.keras.optimizers.Adam(learning_rate=0.00001)\n",
        "model.compile(loss='binary_crossentropy', optimizer=optimizer, metrics=metrics)\n",
        "model.fit(input_data, y_train, epochs=100, batch_size=32, validation_split=0.4)"
      ],
      "execution_count": 156,
      "outputs": [
        {
          "output_type": "stream",
          "text": [
            "Epoch 1/100\n",
            "  5/114 [>.............................] - ETA: 3s - loss: 0.7037 - rhos: -0.0148"
          ],
          "name": "stdout"
        },
        {
          "output_type": "stream",
          "text": [
            "/usr/local/lib/python3.6/dist-packages/numpy/lib/function_base.py:2534: RuntimeWarning: invalid value encountered in true_divide\n",
            "  c /= stddev[:, None]\n",
            "/usr/local/lib/python3.6/dist-packages/numpy/lib/function_base.py:2535: RuntimeWarning: invalid value encountered in true_divide\n",
            "  c /= stddev[None, :]\n",
            "/usr/local/lib/python3.6/dist-packages/scipy/stats/_distn_infrastructure.py:903: RuntimeWarning: invalid value encountered in greater\n",
            "  return (a < x) & (x < b)\n",
            "/usr/local/lib/python3.6/dist-packages/scipy/stats/_distn_infrastructure.py:903: RuntimeWarning: invalid value encountered in less\n",
            "  return (a < x) & (x < b)\n",
            "/usr/local/lib/python3.6/dist-packages/scipy/stats/_distn_infrastructure.py:1912: RuntimeWarning: invalid value encountered in less_equal\n",
            "  cond2 = cond0 & (x <= _a)\n"
          ],
          "name": "stderr"
        },
        {
          "output_type": "stream",
          "text": [
            "114/114 [==============================] - 10s 89ms/step - loss: 0.6701 - rhos: 0.0204 - val_loss: 0.6352 - val_rhos: 0.0280\n",
            "Epoch 2/100\n",
            "114/114 [==============================] - 7s 57ms/step - loss: 0.5936 - rhos: 0.0406 - val_loss: 0.5559 - val_rhos: 0.0339\n",
            "Epoch 3/100\n",
            "114/114 [==============================] - 6s 57ms/step - loss: 0.5305 - rhos: 0.0448 - val_loss: 0.5087 - val_rhos: 0.0341\n",
            "Epoch 4/100\n",
            "114/114 [==============================] - 7s 57ms/step - loss: 0.4921 - rhos: 0.0562 - val_loss: 0.4757 - val_rhos: 0.0475\n",
            "Epoch 5/100\n",
            "114/114 [==============================] - 7s 57ms/step - loss: 0.4644 - rhos: 0.0738 - val_loss: 0.4552 - val_rhos: 0.0684\n",
            "Epoch 6/100\n",
            "114/114 [==============================] - 6s 57ms/step - loss: 0.4491 - rhos: 0.0886 - val_loss: 0.4447 - val_rhos: 0.0805\n",
            "Epoch 7/100\n",
            "114/114 [==============================] - 6s 56ms/step - loss: 0.4408 - rhos: 0.1044 - val_loss: 0.4386 - val_rhos: 0.0903\n",
            "Epoch 8/100\n",
            "114/114 [==============================] - 6s 56ms/step - loss: 0.4355 - rhos: 0.1148 - val_loss: 0.4344 - val_rhos: 0.1008\n",
            "Epoch 9/100\n",
            "114/114 [==============================] - 6s 57ms/step - loss: 0.4316 - rhos: 0.1274 - val_loss: 0.4311 - val_rhos: 0.1091\n",
            "Epoch 10/100\n",
            "114/114 [==============================] - 6s 57ms/step - loss: 0.4286 - rhos: 0.1385 - val_loss: 0.4287 - val_rhos: 0.1173\n",
            "Epoch 11/100\n",
            "114/114 [==============================] - 7s 57ms/step - loss: 0.4260 - rhos: 0.1467 - val_loss: 0.4264 - val_rhos: 0.1259\n",
            "Epoch 12/100\n",
            "114/114 [==============================] - 6s 57ms/step - loss: 0.4236 - rhos: 0.1594 - val_loss: 0.4244 - val_rhos: 0.1330\n",
            "Epoch 13/100\n",
            "114/114 [==============================] - 6s 56ms/step - loss: 0.4215 - rhos: 0.1688 - val_loss: 0.4226 - val_rhos: 0.1414\n",
            "Epoch 14/100\n",
            "114/114 [==============================] - 6s 56ms/step - loss: 0.4197 - rhos: 0.1790 - val_loss: 0.4212 - val_rhos: 0.1476\n",
            "Epoch 15/100\n",
            "114/114 [==============================] - 6s 56ms/step - loss: 0.4180 - rhos: 0.1840 - val_loss: 0.4198 - val_rhos: 0.1533\n",
            "Epoch 16/100\n",
            "114/114 [==============================] - 6s 56ms/step - loss: 0.4164 - rhos: 0.1939 - val_loss: 0.4188 - val_rhos: 0.1585\n",
            "Epoch 17/100\n",
            "114/114 [==============================] - 6s 56ms/step - loss: 0.4150 - rhos: 0.1999 - val_loss: 0.4176 - val_rhos: 0.1636\n",
            "Epoch 18/100\n",
            "114/114 [==============================] - 6s 56ms/step - loss: 0.4137 - rhos: 0.2063 - val_loss: 0.4165 - val_rhos: 0.1686\n",
            "Epoch 19/100\n",
            "114/114 [==============================] - 6s 57ms/step - loss: 0.4124 - rhos: 0.2171 - val_loss: 0.4155 - val_rhos: 0.1744\n",
            "Epoch 20/100\n",
            "114/114 [==============================] - 6s 56ms/step - loss: 0.4112 - rhos: 0.2216 - val_loss: 0.4146 - val_rhos: 0.1784\n",
            "Epoch 21/100\n",
            "114/114 [==============================] - 6s 56ms/step - loss: 0.4099 - rhos: 0.2288 - val_loss: 0.4139 - val_rhos: 0.1827\n",
            "Epoch 22/100\n",
            "114/114 [==============================] - 6s 56ms/step - loss: 0.4088 - rhos: 0.2349 - val_loss: 0.4130 - val_rhos: 0.1865\n",
            "Epoch 23/100\n",
            "114/114 [==============================] - 6s 56ms/step - loss: 0.4077 - rhos: 0.2422 - val_loss: 0.4126 - val_rhos: 0.1911\n",
            "Epoch 24/100\n",
            "114/114 [==============================] - 7s 57ms/step - loss: 0.4067 - rhos: 0.2485 - val_loss: 0.4115 - val_rhos: 0.1953\n",
            "Epoch 25/100\n",
            "114/114 [==============================] - 7s 57ms/step - loss: 0.4055 - rhos: 0.2546 - val_loss: 0.4110 - val_rhos: 0.1991\n",
            "Epoch 26/100\n",
            "114/114 [==============================] - 6s 56ms/step - loss: 0.4046 - rhos: 0.2594 - val_loss: 0.4102 - val_rhos: 0.2024\n",
            "Epoch 27/100\n",
            "114/114 [==============================] - 6s 56ms/step - loss: 0.4036 - rhos: 0.2672 - val_loss: 0.4097 - val_rhos: 0.2050\n",
            "Epoch 28/100\n",
            "114/114 [==============================] - 6s 56ms/step - loss: 0.4026 - rhos: 0.2703 - val_loss: 0.4091 - val_rhos: 0.2079\n",
            "Epoch 29/100\n",
            "114/114 [==============================] - 6s 56ms/step - loss: 0.4016 - rhos: 0.2754 - val_loss: 0.4088 - val_rhos: 0.2125\n",
            "Epoch 30/100\n",
            "114/114 [==============================] - 6s 57ms/step - loss: 0.4007 - rhos: 0.2833 - val_loss: 0.4081 - val_rhos: 0.2157\n",
            "Epoch 31/100\n",
            "114/114 [==============================] - 6s 56ms/step - loss: 0.3998 - rhos: 0.2864 - val_loss: 0.4076 - val_rhos: 0.2177\n",
            "Epoch 32/100\n",
            "114/114 [==============================] - 6s 56ms/step - loss: 0.3989 - rhos: 0.2939 - val_loss: 0.4071 - val_rhos: 0.2203\n",
            "Epoch 33/100\n",
            "114/114 [==============================] - 6s 56ms/step - loss: 0.3980 - rhos: 0.2976 - val_loss: 0.4067 - val_rhos: 0.2230\n",
            "Epoch 34/100\n",
            "114/114 [==============================] - 6s 57ms/step - loss: 0.3971 - rhos: 0.3027 - val_loss: 0.4062 - val_rhos: 0.2266\n",
            "Epoch 35/100\n",
            "114/114 [==============================] - 6s 56ms/step - loss: 0.3963 - rhos: 0.3082 - val_loss: 0.4058 - val_rhos: 0.2292\n",
            "Epoch 36/100\n",
            "114/114 [==============================] - 6s 57ms/step - loss: 0.3954 - rhos: 0.3100 - val_loss: 0.4056 - val_rhos: 0.2294\n",
            "Epoch 37/100\n",
            "114/114 [==============================] - 6s 57ms/step - loss: 0.3946 - rhos: 0.3147 - val_loss: 0.4054 - val_rhos: 0.2326\n",
            "Epoch 38/100\n",
            "114/114 [==============================] - 6s 56ms/step - loss: 0.3938 - rhos: 0.3208 - val_loss: 0.4048 - val_rhos: 0.2351\n",
            "Epoch 39/100\n",
            "114/114 [==============================] - 6s 56ms/step - loss: 0.3930 - rhos: 0.3260 - val_loss: 0.4048 - val_rhos: 0.2369\n",
            "Epoch 40/100\n",
            "114/114 [==============================] - 6s 56ms/step - loss: 0.3922 - rhos: 0.3283 - val_loss: 0.4041 - val_rhos: 0.2396\n",
            "Epoch 41/100\n",
            "114/114 [==============================] - 6s 56ms/step - loss: 0.3913 - rhos: 0.3317 - val_loss: 0.4038 - val_rhos: 0.2415\n",
            "Epoch 42/100\n",
            "114/114 [==============================] - 6s 57ms/step - loss: 0.3905 - rhos: 0.3376 - val_loss: 0.4038 - val_rhos: 0.2433\n",
            "Epoch 43/100\n",
            "114/114 [==============================] - 7s 58ms/step - loss: 0.3897 - rhos: 0.3405 - val_loss: 0.4033 - val_rhos: 0.2440\n",
            "Epoch 44/100\n",
            "114/114 [==============================] - 7s 58ms/step - loss: 0.3889 - rhos: 0.3457 - val_loss: 0.4030 - val_rhos: 0.2466\n",
            "Epoch 45/100\n",
            "114/114 [==============================] - 7s 58ms/step - loss: 0.3881 - rhos: 0.3480 - val_loss: 0.4030 - val_rhos: 0.2480\n",
            "Epoch 46/100\n",
            "114/114 [==============================] - 7s 60ms/step - loss: 0.3874 - rhos: 0.3540 - val_loss: 0.4024 - val_rhos: 0.2492\n",
            "Epoch 47/100\n",
            "114/114 [==============================] - 7s 59ms/step - loss: 0.3866 - rhos: 0.3557 - val_loss: 0.4023 - val_rhos: 0.2502\n",
            "Epoch 48/100\n",
            "114/114 [==============================] - 7s 59ms/step - loss: 0.3858 - rhos: 0.3608 - val_loss: 0.4020 - val_rhos: 0.2517\n",
            "Epoch 49/100\n",
            "114/114 [==============================] - 7s 59ms/step - loss: 0.3850 - rhos: 0.3641 - val_loss: 0.4018 - val_rhos: 0.2541\n",
            "Epoch 50/100\n",
            "114/114 [==============================] - 7s 58ms/step - loss: 0.3842 - rhos: 0.3685 - val_loss: 0.4016 - val_rhos: 0.2552\n",
            "Epoch 51/100\n",
            "114/114 [==============================] - 7s 58ms/step - loss: 0.3835 - rhos: 0.3740 - val_loss: 0.4015 - val_rhos: 0.2560\n",
            "Epoch 52/100\n",
            "114/114 [==============================] - 7s 59ms/step - loss: 0.3827 - rhos: 0.3750 - val_loss: 0.4013 - val_rhos: 0.2565\n",
            "Epoch 53/100\n",
            "114/114 [==============================] - 7s 58ms/step - loss: 0.3819 - rhos: 0.3794 - val_loss: 0.4014 - val_rhos: 0.2576\n",
            "Epoch 54/100\n",
            "114/114 [==============================] - 7s 58ms/step - loss: 0.3812 - rhos: 0.3816 - val_loss: 0.4008 - val_rhos: 0.2588\n",
            "Epoch 55/100\n",
            "114/114 [==============================] - 7s 58ms/step - loss: 0.3804 - rhos: 0.3854 - val_loss: 0.4007 - val_rhos: 0.2598\n",
            "Epoch 56/100\n",
            "114/114 [==============================] - 7s 58ms/step - loss: 0.3796 - rhos: 0.3883 - val_loss: 0.4005 - val_rhos: 0.2611\n",
            "Epoch 57/100\n",
            "114/114 [==============================] - 7s 58ms/step - loss: 0.3789 - rhos: 0.3944 - val_loss: 0.4004 - val_rhos: 0.2623\n",
            "Epoch 58/100\n",
            "114/114 [==============================] - 7s 58ms/step - loss: 0.3782 - rhos: 0.3937 - val_loss: 0.4003 - val_rhos: 0.2626\n",
            "Epoch 59/100\n",
            "114/114 [==============================] - 7s 57ms/step - loss: 0.3775 - rhos: 0.3999 - val_loss: 0.4001 - val_rhos: 0.2634\n",
            "Epoch 60/100\n",
            "114/114 [==============================] - 7s 58ms/step - loss: 0.3767 - rhos: 0.4015 - val_loss: 0.4000 - val_rhos: 0.2634\n",
            "Epoch 61/100\n",
            "114/114 [==============================] - 7s 58ms/step - loss: 0.3760 - rhos: 0.4056 - val_loss: 0.4000 - val_rhos: 0.2650\n",
            "Epoch 62/100\n",
            "114/114 [==============================] - 7s 57ms/step - loss: 0.3753 - rhos: 0.4071 - val_loss: 0.3998 - val_rhos: 0.2655\n",
            "Epoch 63/100\n",
            "114/114 [==============================] - 7s 57ms/step - loss: 0.3745 - rhos: 0.4128 - val_loss: 0.3997 - val_rhos: 0.2666\n",
            "Epoch 64/100\n",
            "114/114 [==============================] - 7s 58ms/step - loss: 0.3737 - rhos: 0.4135 - val_loss: 0.3996 - val_rhos: 0.2672\n",
            "Epoch 65/100\n",
            "114/114 [==============================] - 7s 57ms/step - loss: 0.3731 - rhos: 0.4184 - val_loss: 0.3995 - val_rhos: 0.2673\n",
            "Epoch 66/100\n",
            "114/114 [==============================] - 7s 58ms/step - loss: 0.3723 - rhos: 0.4218 - val_loss: 0.3995 - val_rhos: 0.2679\n",
            "Epoch 67/100\n",
            "114/114 [==============================] - 7s 58ms/step - loss: 0.3716 - rhos: 0.4239 - val_loss: 0.3995 - val_rhos: 0.2683\n",
            "Epoch 68/100\n",
            "114/114 [==============================] - 7s 58ms/step - loss: 0.3709 - rhos: 0.4272 - val_loss: 0.3992 - val_rhos: 0.2694\n",
            "Epoch 69/100\n",
            "114/114 [==============================] - 7s 57ms/step - loss: 0.3702 - rhos: 0.4315 - val_loss: 0.3993 - val_rhos: 0.2695\n",
            "Epoch 70/100\n",
            "114/114 [==============================] - 7s 58ms/step - loss: 0.3695 - rhos: 0.4329 - val_loss: 0.3991 - val_rhos: 0.2706\n",
            "Epoch 71/100\n",
            "114/114 [==============================] - 7s 58ms/step - loss: 0.3688 - rhos: 0.4364 - val_loss: 0.3991 - val_rhos: 0.2711\n",
            "Epoch 72/100\n",
            "114/114 [==============================] - 7s 58ms/step - loss: 0.3681 - rhos: 0.4380 - val_loss: 0.3991 - val_rhos: 0.2706\n",
            "Epoch 73/100\n",
            "114/114 [==============================] - 7s 58ms/step - loss: 0.3674 - rhos: 0.4408 - val_loss: 0.3991 - val_rhos: 0.2717\n",
            "Epoch 74/100\n",
            "114/114 [==============================] - 7s 57ms/step - loss: 0.3666 - rhos: 0.4454 - val_loss: 0.3989 - val_rhos: 0.2722\n",
            "Epoch 75/100\n",
            "114/114 [==============================] - 6s 56ms/step - loss: 0.3660 - rhos: 0.4472 - val_loss: 0.3992 - val_rhos: 0.2723\n",
            "Epoch 76/100\n",
            "114/114 [==============================] - 7s 58ms/step - loss: 0.3653 - rhos: 0.4502 - val_loss: 0.3989 - val_rhos: 0.2728\n",
            "Epoch 77/100\n",
            "114/114 [==============================] - 7s 57ms/step - loss: 0.3645 - rhos: 0.4519 - val_loss: 0.3991 - val_rhos: 0.2732\n",
            "Epoch 78/100\n",
            "114/114 [==============================] - 6s 57ms/step - loss: 0.3639 - rhos: 0.4539 - val_loss: 0.3989 - val_rhos: 0.2738\n",
            "Epoch 79/100\n",
            "114/114 [==============================] - 7s 57ms/step - loss: 0.3631 - rhos: 0.4581 - val_loss: 0.3989 - val_rhos: 0.2733\n",
            "Epoch 80/100\n",
            "114/114 [==============================] - 7s 57ms/step - loss: 0.3624 - rhos: 0.4582 - val_loss: 0.3990 - val_rhos: 0.2737\n",
            "Epoch 81/100\n",
            "114/114 [==============================] - 6s 57ms/step - loss: 0.3618 - rhos: 0.4633 - val_loss: 0.3988 - val_rhos: 0.2748\n",
            "Epoch 82/100\n",
            "114/114 [==============================] - 6s 56ms/step - loss: 0.3610 - rhos: 0.4638 - val_loss: 0.3990 - val_rhos: 0.2745\n",
            "Epoch 83/100\n",
            "114/114 [==============================] - 6s 56ms/step - loss: 0.3604 - rhos: 0.4667 - val_loss: 0.3990 - val_rhos: 0.2748\n",
            "Epoch 84/100\n",
            "114/114 [==============================] - 6s 56ms/step - loss: 0.3597 - rhos: 0.4698 - val_loss: 0.3990 - val_rhos: 0.2746\n",
            "Epoch 85/100\n",
            "114/114 [==============================] - 6s 57ms/step - loss: 0.3590 - rhos: 0.4728 - val_loss: 0.3991 - val_rhos: 0.2746\n",
            "Epoch 86/100\n",
            "114/114 [==============================] - 6s 56ms/step - loss: 0.3583 - rhos: 0.4743 - val_loss: 0.3990 - val_rhos: 0.2754\n",
            "Epoch 87/100\n",
            "114/114 [==============================] - 6s 57ms/step - loss: 0.3576 - rhos: 0.4783 - val_loss: 0.3990 - val_rhos: 0.2756\n",
            "Epoch 88/100\n",
            "114/114 [==============================] - 6s 57ms/step - loss: 0.3569 - rhos: 0.4790 - val_loss: 0.3992 - val_rhos: 0.2751\n",
            "Epoch 89/100\n",
            "114/114 [==============================] - 6s 57ms/step - loss: 0.3563 - rhos: 0.4837 - val_loss: 0.3991 - val_rhos: 0.2757\n",
            "Epoch 90/100\n",
            "114/114 [==============================] - 6s 57ms/step - loss: 0.3555 - rhos: 0.4846 - val_loss: 0.3992 - val_rhos: 0.2756\n",
            "Epoch 91/100\n",
            "114/114 [==============================] - 7s 60ms/step - loss: 0.3548 - rhos: 0.4881 - val_loss: 0.3991 - val_rhos: 0.2762\n",
            "Epoch 92/100\n",
            "114/114 [==============================] - 7s 57ms/step - loss: 0.3542 - rhos: 0.4900 - val_loss: 0.3993 - val_rhos: 0.2750\n",
            "Epoch 93/100\n",
            "114/114 [==============================] - 7s 59ms/step - loss: 0.3535 - rhos: 0.4934 - val_loss: 0.3993 - val_rhos: 0.2766\n",
            "Epoch 94/100\n",
            "114/114 [==============================] - 7s 58ms/step - loss: 0.3528 - rhos: 0.4949 - val_loss: 0.3994 - val_rhos: 0.2765\n",
            "Epoch 95/100\n",
            "114/114 [==============================] - 6s 57ms/step - loss: 0.3521 - rhos: 0.4959 - val_loss: 0.3995 - val_rhos: 0.2766\n",
            "Epoch 96/100\n",
            "114/114 [==============================] - 7s 57ms/step - loss: 0.3515 - rhos: 0.4983 - val_loss: 0.3996 - val_rhos: 0.2759\n",
            "Epoch 97/100\n",
            "114/114 [==============================] - 7s 58ms/step - loss: 0.3508 - rhos: 0.5018 - val_loss: 0.3996 - val_rhos: 0.2769\n",
            "Epoch 98/100\n",
            "114/114 [==============================] - 7s 58ms/step - loss: 0.3501 - rhos: 0.5021 - val_loss: 0.3997 - val_rhos: 0.2767\n",
            "Epoch 99/100\n",
            "114/114 [==============================] - 7s 58ms/step - loss: 0.3494 - rhos: 0.5056 - val_loss: 0.3997 - val_rhos: 0.2763\n",
            "Epoch 100/100\n",
            "114/114 [==============================] - 7s 58ms/step - loss: 0.3487 - rhos: 0.5061 - val_loss: 0.3999 - val_rhos: 0.2762\n"
          ],
          "name": "stdout"
        },
        {
          "output_type": "execute_result",
          "data": {
            "text/plain": [
              "<tensorflow.python.keras.callbacks.History at 0x7fd4b1b93978>"
            ]
          },
          "metadata": {
            "tags": []
          },
          "execution_count": 156
        }
      ]
    },
    {
      "cell_type": "code",
      "metadata": {
        "id": "k6GfLa832-9H",
        "colab_type": "code",
        "outputId": "c19404ef-50a5-4ce5-f258-638e0a90b4f2",
        "colab": {
          "base_uri": "https://localhost:8080/",
          "height": 439
        }
      },
      "source": [
        "y_train"
      ],
      "execution_count": 0,
      "outputs": [
        {
          "output_type": "execute_result",
          "data": {
            "text/html": [
              "<div>\n",
              "<style scoped>\n",
              "    .dataframe tbody tr th:only-of-type {\n",
              "        vertical-align: middle;\n",
              "    }\n",
              "\n",
              "    .dataframe tbody tr th {\n",
              "        vertical-align: top;\n",
              "    }\n",
              "\n",
              "    .dataframe thead th {\n",
              "        text-align: right;\n",
              "    }\n",
              "</style>\n",
              "<table border=\"1\" class=\"dataframe\">\n",
              "  <thead>\n",
              "    <tr style=\"text-align: right;\">\n",
              "      <th></th>\n",
              "      <th>question_asker_intent_understanding</th>\n",
              "      <th>question_body_critical</th>\n",
              "      <th>question_conversational</th>\n",
              "      <th>question_expect_short_answer</th>\n",
              "      <th>question_fact_seeking</th>\n",
              "      <th>question_has_commonly_accepted_answer</th>\n",
              "      <th>question_interestingness_others</th>\n",
              "      <th>question_interestingness_self</th>\n",
              "      <th>question_multi_intent</th>\n",
              "      <th>question_not_really_a_question</th>\n",
              "      <th>question_opinion_seeking</th>\n",
              "      <th>question_type_choice</th>\n",
              "      <th>question_type_compare</th>\n",
              "      <th>question_type_consequence</th>\n",
              "      <th>question_type_definition</th>\n",
              "      <th>question_type_entity</th>\n",
              "      <th>question_type_instructions</th>\n",
              "      <th>question_type_procedure</th>\n",
              "      <th>question_type_reason_explanation</th>\n",
              "      <th>question_type_spelling</th>\n",
              "      <th>question_well_written</th>\n",
              "      <th>answer_helpful</th>\n",
              "      <th>answer_level_of_information</th>\n",
              "      <th>answer_plausible</th>\n",
              "      <th>answer_relevance</th>\n",
              "      <th>answer_satisfaction</th>\n",
              "      <th>answer_type_instructions</th>\n",
              "      <th>answer_type_procedure</th>\n",
              "      <th>answer_type_reason_explanation</th>\n",
              "      <th>answer_well_written</th>\n",
              "    </tr>\n",
              "  </thead>\n",
              "  <tbody>\n",
              "    <tr>\n",
              "      <th>1684</th>\n",
              "      <td>1.000000</td>\n",
              "      <td>0.444444</td>\n",
              "      <td>0.0</td>\n",
              "      <td>1.000000</td>\n",
              "      <td>1.000000</td>\n",
              "      <td>1.000000</td>\n",
              "      <td>0.444444</td>\n",
              "      <td>0.444444</td>\n",
              "      <td>0.333333</td>\n",
              "      <td>0.0</td>\n",
              "      <td>0.000000</td>\n",
              "      <td>0.666667</td>\n",
              "      <td>0.000000</td>\n",
              "      <td>0.0</td>\n",
              "      <td>0.0</td>\n",
              "      <td>0.000000</td>\n",
              "      <td>1.000000</td>\n",
              "      <td>0.333333</td>\n",
              "      <td>0.000000</td>\n",
              "      <td>0.0</td>\n",
              "      <td>0.888889</td>\n",
              "      <td>0.888889</td>\n",
              "      <td>0.500000</td>\n",
              "      <td>1.000000</td>\n",
              "      <td>1.000000</td>\n",
              "      <td>0.800000</td>\n",
              "      <td>0.666667</td>\n",
              "      <td>0.000000</td>\n",
              "      <td>0.000000</td>\n",
              "      <td>0.888889</td>\n",
              "    </tr>\n",
              "    <tr>\n",
              "      <th>5502</th>\n",
              "      <td>0.888889</td>\n",
              "      <td>0.333333</td>\n",
              "      <td>0.0</td>\n",
              "      <td>1.000000</td>\n",
              "      <td>0.666667</td>\n",
              "      <td>1.000000</td>\n",
              "      <td>0.666667</td>\n",
              "      <td>0.555556</td>\n",
              "      <td>0.000000</td>\n",
              "      <td>0.0</td>\n",
              "      <td>0.666667</td>\n",
              "      <td>0.000000</td>\n",
              "      <td>0.000000</td>\n",
              "      <td>0.0</td>\n",
              "      <td>0.0</td>\n",
              "      <td>0.000000</td>\n",
              "      <td>1.000000</td>\n",
              "      <td>0.000000</td>\n",
              "      <td>0.666667</td>\n",
              "      <td>0.0</td>\n",
              "      <td>0.444444</td>\n",
              "      <td>0.888889</td>\n",
              "      <td>0.666667</td>\n",
              "      <td>1.000000</td>\n",
              "      <td>1.000000</td>\n",
              "      <td>0.900000</td>\n",
              "      <td>1.000000</td>\n",
              "      <td>0.000000</td>\n",
              "      <td>0.333333</td>\n",
              "      <td>0.888889</td>\n",
              "    </tr>\n",
              "    <tr>\n",
              "      <th>4623</th>\n",
              "      <td>0.888889</td>\n",
              "      <td>0.444444</td>\n",
              "      <td>0.0</td>\n",
              "      <td>0.333333</td>\n",
              "      <td>1.000000</td>\n",
              "      <td>0.333333</td>\n",
              "      <td>0.666667</td>\n",
              "      <td>0.444444</td>\n",
              "      <td>0.666667</td>\n",
              "      <td>0.0</td>\n",
              "      <td>0.666667</td>\n",
              "      <td>0.000000</td>\n",
              "      <td>0.666667</td>\n",
              "      <td>0.0</td>\n",
              "      <td>0.0</td>\n",
              "      <td>0.666667</td>\n",
              "      <td>0.666667</td>\n",
              "      <td>0.666667</td>\n",
              "      <td>0.666667</td>\n",
              "      <td>0.0</td>\n",
              "      <td>0.777778</td>\n",
              "      <td>0.666667</td>\n",
              "      <td>0.444444</td>\n",
              "      <td>0.777778</td>\n",
              "      <td>0.777778</td>\n",
              "      <td>0.533333</td>\n",
              "      <td>0.000000</td>\n",
              "      <td>0.333333</td>\n",
              "      <td>0.666667</td>\n",
              "      <td>0.777778</td>\n",
              "    </tr>\n",
              "    <tr>\n",
              "      <th>2057</th>\n",
              "      <td>0.777778</td>\n",
              "      <td>0.888889</td>\n",
              "      <td>0.0</td>\n",
              "      <td>0.666667</td>\n",
              "      <td>0.666667</td>\n",
              "      <td>0.333333</td>\n",
              "      <td>0.666667</td>\n",
              "      <td>0.555556</td>\n",
              "      <td>0.666667</td>\n",
              "      <td>0.0</td>\n",
              "      <td>0.666667</td>\n",
              "      <td>0.666667</td>\n",
              "      <td>0.000000</td>\n",
              "      <td>0.0</td>\n",
              "      <td>0.0</td>\n",
              "      <td>0.000000</td>\n",
              "      <td>0.666667</td>\n",
              "      <td>0.000000</td>\n",
              "      <td>0.666667</td>\n",
              "      <td>0.0</td>\n",
              "      <td>0.777778</td>\n",
              "      <td>1.000000</td>\n",
              "      <td>0.777778</td>\n",
              "      <td>1.000000</td>\n",
              "      <td>1.000000</td>\n",
              "      <td>0.933333</td>\n",
              "      <td>0.000000</td>\n",
              "      <td>0.000000</td>\n",
              "      <td>1.000000</td>\n",
              "      <td>1.000000</td>\n",
              "    </tr>\n",
              "    <tr>\n",
              "      <th>5619</th>\n",
              "      <td>0.888889</td>\n",
              "      <td>0.333333</td>\n",
              "      <td>0.0</td>\n",
              "      <td>1.000000</td>\n",
              "      <td>1.000000</td>\n",
              "      <td>1.000000</td>\n",
              "      <td>0.666667</td>\n",
              "      <td>0.333333</td>\n",
              "      <td>0.000000</td>\n",
              "      <td>0.0</td>\n",
              "      <td>0.000000</td>\n",
              "      <td>1.000000</td>\n",
              "      <td>0.000000</td>\n",
              "      <td>0.0</td>\n",
              "      <td>0.0</td>\n",
              "      <td>0.000000</td>\n",
              "      <td>0.333333</td>\n",
              "      <td>0.000000</td>\n",
              "      <td>0.333333</td>\n",
              "      <td>0.0</td>\n",
              "      <td>0.888889</td>\n",
              "      <td>0.888889</td>\n",
              "      <td>0.666667</td>\n",
              "      <td>0.888889</td>\n",
              "      <td>1.000000</td>\n",
              "      <td>0.900000</td>\n",
              "      <td>0.666667</td>\n",
              "      <td>0.000000</td>\n",
              "      <td>1.000000</td>\n",
              "      <td>0.888889</td>\n",
              "    </tr>\n",
              "    <tr>\n",
              "      <th>...</th>\n",
              "      <td>...</td>\n",
              "      <td>...</td>\n",
              "      <td>...</td>\n",
              "      <td>...</td>\n",
              "      <td>...</td>\n",
              "      <td>...</td>\n",
              "      <td>...</td>\n",
              "      <td>...</td>\n",
              "      <td>...</td>\n",
              "      <td>...</td>\n",
              "      <td>...</td>\n",
              "      <td>...</td>\n",
              "      <td>...</td>\n",
              "      <td>...</td>\n",
              "      <td>...</td>\n",
              "      <td>...</td>\n",
              "      <td>...</td>\n",
              "      <td>...</td>\n",
              "      <td>...</td>\n",
              "      <td>...</td>\n",
              "      <td>...</td>\n",
              "      <td>...</td>\n",
              "      <td>...</td>\n",
              "      <td>...</td>\n",
              "      <td>...</td>\n",
              "      <td>...</td>\n",
              "      <td>...</td>\n",
              "      <td>...</td>\n",
              "      <td>...</td>\n",
              "      <td>...</td>\n",
              "    </tr>\n",
              "    <tr>\n",
              "      <th>3772</th>\n",
              "      <td>0.666667</td>\n",
              "      <td>1.000000</td>\n",
              "      <td>0.0</td>\n",
              "      <td>1.000000</td>\n",
              "      <td>1.000000</td>\n",
              "      <td>0.500000</td>\n",
              "      <td>0.666667</td>\n",
              "      <td>0.333333</td>\n",
              "      <td>0.500000</td>\n",
              "      <td>0.0</td>\n",
              "      <td>0.000000</td>\n",
              "      <td>1.000000</td>\n",
              "      <td>0.000000</td>\n",
              "      <td>0.0</td>\n",
              "      <td>0.0</td>\n",
              "      <td>0.000000</td>\n",
              "      <td>0.000000</td>\n",
              "      <td>0.000000</td>\n",
              "      <td>0.000000</td>\n",
              "      <td>0.0</td>\n",
              "      <td>0.666667</td>\n",
              "      <td>0.666667</td>\n",
              "      <td>0.666667</td>\n",
              "      <td>0.666667</td>\n",
              "      <td>1.000000</td>\n",
              "      <td>0.800000</td>\n",
              "      <td>0.000000</td>\n",
              "      <td>0.000000</td>\n",
              "      <td>1.000000</td>\n",
              "      <td>0.666667</td>\n",
              "    </tr>\n",
              "    <tr>\n",
              "      <th>5191</th>\n",
              "      <td>1.000000</td>\n",
              "      <td>0.333333</td>\n",
              "      <td>0.0</td>\n",
              "      <td>1.000000</td>\n",
              "      <td>1.000000</td>\n",
              "      <td>1.000000</td>\n",
              "      <td>0.333333</td>\n",
              "      <td>0.333333</td>\n",
              "      <td>1.000000</td>\n",
              "      <td>0.0</td>\n",
              "      <td>0.000000</td>\n",
              "      <td>0.000000</td>\n",
              "      <td>0.000000</td>\n",
              "      <td>0.0</td>\n",
              "      <td>0.0</td>\n",
              "      <td>0.000000</td>\n",
              "      <td>1.000000</td>\n",
              "      <td>0.000000</td>\n",
              "      <td>1.000000</td>\n",
              "      <td>0.0</td>\n",
              "      <td>1.000000</td>\n",
              "      <td>1.000000</td>\n",
              "      <td>0.666667</td>\n",
              "      <td>1.000000</td>\n",
              "      <td>1.000000</td>\n",
              "      <td>1.000000</td>\n",
              "      <td>1.000000</td>\n",
              "      <td>0.000000</td>\n",
              "      <td>1.000000</td>\n",
              "      <td>1.000000</td>\n",
              "    </tr>\n",
              "    <tr>\n",
              "      <th>5226</th>\n",
              "      <td>1.000000</td>\n",
              "      <td>0.444444</td>\n",
              "      <td>0.0</td>\n",
              "      <td>0.666667</td>\n",
              "      <td>0.666667</td>\n",
              "      <td>1.000000</td>\n",
              "      <td>0.555556</td>\n",
              "      <td>0.666667</td>\n",
              "      <td>0.000000</td>\n",
              "      <td>0.0</td>\n",
              "      <td>1.000000</td>\n",
              "      <td>0.000000</td>\n",
              "      <td>0.000000</td>\n",
              "      <td>0.0</td>\n",
              "      <td>0.0</td>\n",
              "      <td>0.000000</td>\n",
              "      <td>1.000000</td>\n",
              "      <td>0.000000</td>\n",
              "      <td>0.333333</td>\n",
              "      <td>0.0</td>\n",
              "      <td>0.666667</td>\n",
              "      <td>1.000000</td>\n",
              "      <td>0.666667</td>\n",
              "      <td>1.000000</td>\n",
              "      <td>1.000000</td>\n",
              "      <td>0.933333</td>\n",
              "      <td>1.000000</td>\n",
              "      <td>0.000000</td>\n",
              "      <td>1.000000</td>\n",
              "      <td>0.888889</td>\n",
              "    </tr>\n",
              "    <tr>\n",
              "      <th>5390</th>\n",
              "      <td>1.000000</td>\n",
              "      <td>0.666667</td>\n",
              "      <td>0.0</td>\n",
              "      <td>1.000000</td>\n",
              "      <td>0.333333</td>\n",
              "      <td>1.000000</td>\n",
              "      <td>0.555556</td>\n",
              "      <td>0.444444</td>\n",
              "      <td>0.333333</td>\n",
              "      <td>0.0</td>\n",
              "      <td>0.666667</td>\n",
              "      <td>0.666667</td>\n",
              "      <td>0.000000</td>\n",
              "      <td>0.0</td>\n",
              "      <td>0.0</td>\n",
              "      <td>0.000000</td>\n",
              "      <td>0.333333</td>\n",
              "      <td>0.000000</td>\n",
              "      <td>0.666667</td>\n",
              "      <td>0.0</td>\n",
              "      <td>0.555556</td>\n",
              "      <td>0.888889</td>\n",
              "      <td>0.666667</td>\n",
              "      <td>1.000000</td>\n",
              "      <td>1.000000</td>\n",
              "      <td>0.900000</td>\n",
              "      <td>0.333333</td>\n",
              "      <td>0.000000</td>\n",
              "      <td>1.000000</td>\n",
              "      <td>0.888889</td>\n",
              "    </tr>\n",
              "    <tr>\n",
              "      <th>860</th>\n",
              "      <td>0.888889</td>\n",
              "      <td>0.333333</td>\n",
              "      <td>0.0</td>\n",
              "      <td>0.666667</td>\n",
              "      <td>0.333333</td>\n",
              "      <td>1.000000</td>\n",
              "      <td>0.444444</td>\n",
              "      <td>0.333333</td>\n",
              "      <td>0.000000</td>\n",
              "      <td>0.0</td>\n",
              "      <td>1.000000</td>\n",
              "      <td>0.000000</td>\n",
              "      <td>0.000000</td>\n",
              "      <td>0.0</td>\n",
              "      <td>0.0</td>\n",
              "      <td>0.000000</td>\n",
              "      <td>1.000000</td>\n",
              "      <td>0.000000</td>\n",
              "      <td>0.000000</td>\n",
              "      <td>0.0</td>\n",
              "      <td>0.555556</td>\n",
              "      <td>1.000000</td>\n",
              "      <td>0.666667</td>\n",
              "      <td>1.000000</td>\n",
              "      <td>1.000000</td>\n",
              "      <td>1.000000</td>\n",
              "      <td>1.000000</td>\n",
              "      <td>0.000000</td>\n",
              "      <td>0.333333</td>\n",
              "      <td>0.888889</td>\n",
              "    </tr>\n",
              "  </tbody>\n",
              "</table>\n",
              "<p>6072 rows × 30 columns</p>\n",
              "</div>"
            ],
            "text/plain": [
              "      question_asker_intent_understanding  ...  answer_well_written\n",
              "1684                             1.000000  ...             0.888889\n",
              "5502                             0.888889  ...             0.888889\n",
              "4623                             0.888889  ...             0.777778\n",
              "2057                             0.777778  ...             1.000000\n",
              "5619                             0.888889  ...             0.888889\n",
              "...                                   ...  ...                  ...\n",
              "3772                             0.666667  ...             0.666667\n",
              "5191                             1.000000  ...             1.000000\n",
              "5226                             1.000000  ...             0.888889\n",
              "5390                             1.000000  ...             0.888889\n",
              "860                              0.888889  ...             0.888889\n",
              "\n",
              "[6072 rows x 30 columns]"
            ]
          },
          "metadata": {
            "tags": []
          },
          "execution_count": 97
        }
      ]
    },
    {
      "cell_type": "code",
      "metadata": {
        "id": "AHcN5tgVnO8X",
        "colab_type": "code",
        "colab": {}
      },
      "source": [
        "pred = model.predict(cv_data)"
      ],
      "execution_count": 0,
      "outputs": []
    },
    {
      "cell_type": "code",
      "metadata": {
        "id": "9_QMglWGnO6C",
        "colab_type": "code",
        "outputId": "2b949012-f068-4577-afc4-6fd006512d46",
        "colab": {
          "base_uri": "https://localhost:8080/",
          "height": 136
        }
      },
      "source": [
        "pred[0]"
      ],
      "execution_count": 0,
      "outputs": [
        {
          "output_type": "execute_result",
          "data": {
            "text/plain": [
              "array([0.8073586 , 0.46990243, 0.04497376, 0.5424    , 0.8725765 ,\n",
              "       0.77777237, 0.5034106 , 0.3112498 , 0.23657839, 0.01761348,\n",
              "       0.28613213, 0.07448844, 0.04569268, 0.00948561, 0.03224302,\n",
              "       0.03067231, 0.6121253 , 0.15309358, 0.6643828 , 0.00404263,\n",
              "       0.84274936, 0.9153532 , 0.61445075, 0.9374236 , 0.94394   ,\n",
              "       0.6780284 , 0.405354  , 0.06317393, 0.40225014, 0.85712636],\n",
              "      dtype=float32)"
            ]
          },
          "metadata": {
            "tags": []
          },
          "execution_count": 98
        }
      ]
    },
    {
      "cell_type": "code",
      "metadata": {
        "id": "WPgj3dK6nO20",
        "colab_type": "code",
        "outputId": "ddf95a61-cb52-433c-96d0-eefced5f3c2d",
        "colab": {
          "base_uri": "https://localhost:8080/",
          "height": 544
        }
      },
      "source": [
        "y_cv.iloc[0]"
      ],
      "execution_count": 0,
      "outputs": [
        {
          "output_type": "execute_result",
          "data": {
            "text/plain": [
              "question_asker_intent_understanding      0.777778\n",
              "question_body_critical                   0.444444\n",
              "question_conversational                  0.000000\n",
              "question_expect_short_answer             0.500000\n",
              "question_fact_seeking                    1.000000\n",
              "question_has_commonly_accepted_answer    1.000000\n",
              "question_interestingness_others          0.444444\n",
              "question_interestingness_self            0.333333\n",
              "question_multi_intent                    0.333333\n",
              "question_not_really_a_question           0.000000\n",
              "question_opinion_seeking                 0.333333\n",
              "question_type_choice                     0.000000\n",
              "question_type_compare                    0.000000\n",
              "question_type_consequence                0.000000\n",
              "question_type_definition                 0.000000\n",
              "question_type_entity                     0.000000\n",
              "question_type_instructions               0.666667\n",
              "question_type_procedure                  0.666667\n",
              "question_type_reason_explanation         0.666667\n",
              "question_type_spelling                   0.000000\n",
              "question_well_written                    0.777778\n",
              "answer_helpful                           0.888889\n",
              "answer_level_of_information              0.666667\n",
              "answer_plausible                         1.000000\n",
              "answer_relevance                         1.000000\n",
              "answer_satisfaction                      0.800000\n",
              "answer_type_instructions                 0.333333\n",
              "answer_type_procedure                    0.666667\n",
              "answer_type_reason_explanation           0.666667\n",
              "answer_well_written                      0.888889\n",
              "Name: 3320, dtype: float64"
            ]
          },
          "metadata": {
            "tags": []
          },
          "execution_count": 99
        }
      ]
    },
    {
      "cell_type": "code",
      "metadata": {
        "id": "AyE8PG09nOyP",
        "colab_type": "code",
        "colab": {}
      },
      "source": [
        ""
      ],
      "execution_count": 0,
      "outputs": []
    },
    {
      "cell_type": "code",
      "metadata": {
        "id": "J4EjPD8KnOuY",
        "colab_type": "code",
        "colab": {}
      },
      "source": [
        ""
      ],
      "execution_count": 0,
      "outputs": []
    }
  ]
}