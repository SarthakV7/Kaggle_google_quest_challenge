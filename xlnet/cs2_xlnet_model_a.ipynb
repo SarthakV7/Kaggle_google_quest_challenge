{
  "nbformat": 4,
  "nbformat_minor": 0,
  "metadata": {
    "colab": {
      "name": "cs2_xlnet_model_a.ipynb",
      "provenance": [],
      "collapsed_sections": []
    },
    "kernelspec": {
      "name": "python3",
      "display_name": "Python 3"
    },
    "accelerator": "GPU",
    "widgets": {
      "application/vnd.jupyter.widget-state+json": {
        "dcd6cf49e22a4eae8bb625c541b4a3fa": {
          "model_module": "@jupyter-widgets/controls",
          "model_name": "HBoxModel",
          "state": {
            "_view_name": "HBoxView",
            "_dom_classes": [],
            "_model_name": "HBoxModel",
            "_view_module": "@jupyter-widgets/controls",
            "_model_module_version": "1.5.0",
            "_view_count": null,
            "_view_module_version": "1.5.0",
            "box_style": "",
            "layout": "IPY_MODEL_f5ebddd493b84297bfc43324fef64536",
            "_model_module": "@jupyter-widgets/controls",
            "children": [
              "IPY_MODEL_5660e919b35a437ea0c46957ed6ee081",
              "IPY_MODEL_c452fbc3de6f4ca4baa38d308161b0e2"
            ]
          }
        },
        "f5ebddd493b84297bfc43324fef64536": {
          "model_module": "@jupyter-widgets/base",
          "model_name": "LayoutModel",
          "state": {
            "_view_name": "LayoutView",
            "grid_template_rows": null,
            "right": null,
            "justify_content": null,
            "_view_module": "@jupyter-widgets/base",
            "overflow": null,
            "_model_module_version": "1.2.0",
            "_view_count": null,
            "flex_flow": null,
            "width": null,
            "min_width": null,
            "border": null,
            "align_items": null,
            "bottom": null,
            "_model_module": "@jupyter-widgets/base",
            "top": null,
            "grid_column": null,
            "overflow_y": null,
            "overflow_x": null,
            "grid_auto_flow": null,
            "grid_area": null,
            "grid_template_columns": null,
            "flex": null,
            "_model_name": "LayoutModel",
            "justify_items": null,
            "grid_row": null,
            "max_height": null,
            "align_content": null,
            "visibility": null,
            "align_self": null,
            "height": null,
            "min_height": null,
            "padding": null,
            "grid_auto_rows": null,
            "grid_gap": null,
            "max_width": null,
            "order": null,
            "_view_module_version": "1.2.0",
            "grid_template_areas": null,
            "object_position": null,
            "object_fit": null,
            "grid_auto_columns": null,
            "margin": null,
            "display": null,
            "left": null
          }
        },
        "5660e919b35a437ea0c46957ed6ee081": {
          "model_module": "@jupyter-widgets/controls",
          "model_name": "FloatProgressModel",
          "state": {
            "_view_name": "ProgressView",
            "style": "IPY_MODEL_6894a1bed59d44dba20a96d9c5671946",
            "_dom_classes": [],
            "description": "Downloading: 100%",
            "_model_name": "FloatProgressModel",
            "bar_style": "success",
            "max": 798011,
            "_view_module": "@jupyter-widgets/controls",
            "_model_module_version": "1.5.0",
            "value": 798011,
            "_view_count": null,
            "_view_module_version": "1.5.0",
            "orientation": "horizontal",
            "min": 0,
            "description_tooltip": null,
            "_model_module": "@jupyter-widgets/controls",
            "layout": "IPY_MODEL_f3a4248530f04018813791f5ceaafeac"
          }
        },
        "c452fbc3de6f4ca4baa38d308161b0e2": {
          "model_module": "@jupyter-widgets/controls",
          "model_name": "HTMLModel",
          "state": {
            "_view_name": "HTMLView",
            "style": "IPY_MODEL_4644ae4aad124842972d866c6f79da6c",
            "_dom_classes": [],
            "description": "",
            "_model_name": "HTMLModel",
            "placeholder": "​",
            "_view_module": "@jupyter-widgets/controls",
            "_model_module_version": "1.5.0",
            "value": " 798k/798k [04:05&lt;00:00, 3.25kB/s]",
            "_view_count": null,
            "_view_module_version": "1.5.0",
            "description_tooltip": null,
            "_model_module": "@jupyter-widgets/controls",
            "layout": "IPY_MODEL_f7b1425d0edd4152b1b7a29001adb946"
          }
        },
        "6894a1bed59d44dba20a96d9c5671946": {
          "model_module": "@jupyter-widgets/controls",
          "model_name": "ProgressStyleModel",
          "state": {
            "_view_name": "StyleView",
            "_model_name": "ProgressStyleModel",
            "description_width": "initial",
            "_view_module": "@jupyter-widgets/base",
            "_model_module_version": "1.5.0",
            "_view_count": null,
            "_view_module_version": "1.2.0",
            "bar_color": null,
            "_model_module": "@jupyter-widgets/controls"
          }
        },
        "f3a4248530f04018813791f5ceaafeac": {
          "model_module": "@jupyter-widgets/base",
          "model_name": "LayoutModel",
          "state": {
            "_view_name": "LayoutView",
            "grid_template_rows": null,
            "right": null,
            "justify_content": null,
            "_view_module": "@jupyter-widgets/base",
            "overflow": null,
            "_model_module_version": "1.2.0",
            "_view_count": null,
            "flex_flow": null,
            "width": null,
            "min_width": null,
            "border": null,
            "align_items": null,
            "bottom": null,
            "_model_module": "@jupyter-widgets/base",
            "top": null,
            "grid_column": null,
            "overflow_y": null,
            "overflow_x": null,
            "grid_auto_flow": null,
            "grid_area": null,
            "grid_template_columns": null,
            "flex": null,
            "_model_name": "LayoutModel",
            "justify_items": null,
            "grid_row": null,
            "max_height": null,
            "align_content": null,
            "visibility": null,
            "align_self": null,
            "height": null,
            "min_height": null,
            "padding": null,
            "grid_auto_rows": null,
            "grid_gap": null,
            "max_width": null,
            "order": null,
            "_view_module_version": "1.2.0",
            "grid_template_areas": null,
            "object_position": null,
            "object_fit": null,
            "grid_auto_columns": null,
            "margin": null,
            "display": null,
            "left": null
          }
        },
        "4644ae4aad124842972d866c6f79da6c": {
          "model_module": "@jupyter-widgets/controls",
          "model_name": "DescriptionStyleModel",
          "state": {
            "_view_name": "StyleView",
            "_model_name": "DescriptionStyleModel",
            "description_width": "",
            "_view_module": "@jupyter-widgets/base",
            "_model_module_version": "1.5.0",
            "_view_count": null,
            "_view_module_version": "1.2.0",
            "_model_module": "@jupyter-widgets/controls"
          }
        },
        "f7b1425d0edd4152b1b7a29001adb946": {
          "model_module": "@jupyter-widgets/base",
          "model_name": "LayoutModel",
          "state": {
            "_view_name": "LayoutView",
            "grid_template_rows": null,
            "right": null,
            "justify_content": null,
            "_view_module": "@jupyter-widgets/base",
            "overflow": null,
            "_model_module_version": "1.2.0",
            "_view_count": null,
            "flex_flow": null,
            "width": null,
            "min_width": null,
            "border": null,
            "align_items": null,
            "bottom": null,
            "_model_module": "@jupyter-widgets/base",
            "top": null,
            "grid_column": null,
            "overflow_y": null,
            "overflow_x": null,
            "grid_auto_flow": null,
            "grid_area": null,
            "grid_template_columns": null,
            "flex": null,
            "_model_name": "LayoutModel",
            "justify_items": null,
            "grid_row": null,
            "max_height": null,
            "align_content": null,
            "visibility": null,
            "align_self": null,
            "height": null,
            "min_height": null,
            "padding": null,
            "grid_auto_rows": null,
            "grid_gap": null,
            "max_width": null,
            "order": null,
            "_view_module_version": "1.2.0",
            "grid_template_areas": null,
            "object_position": null,
            "object_fit": null,
            "grid_auto_columns": null,
            "margin": null,
            "display": null,
            "left": null
          }
        }
      }
    }
  },
  "cells": [
    {
      "cell_type": "code",
      "metadata": {
        "id": "ofjzGWfZxcpb",
        "colab_type": "code",
        "colab": {
          "base_uri": "https://localhost:8080/",
          "height": 638
        },
        "outputId": "3b16213f-85ed-4488-a105-1134a94c1f2a"
      },
      "source": [
        "!pip install transformers==2.4.0"
      ],
      "execution_count": 1,
      "outputs": [
        {
          "output_type": "stream",
          "text": [
            "Collecting transformers==2.4.0\n",
            "\u001b[?25l  Downloading https://files.pythonhosted.org/packages/c6/38/c30b6a4b86705311c428a234ef752f6c4c4ffdd75422a829f1f2766136c3/transformers-2.4.0-py3-none-any.whl (475kB)\n",
            "\r\u001b[K     |▊                               | 10kB 22.0MB/s eta 0:00:01\r\u001b[K     |█▍                              | 20kB 3.0MB/s eta 0:00:01\r\u001b[K     |██                              | 30kB 4.0MB/s eta 0:00:01\r\u001b[K     |██▊                             | 40kB 4.3MB/s eta 0:00:01\r\u001b[K     |███▍                            | 51kB 3.4MB/s eta 0:00:01\r\u001b[K     |████▏                           | 61kB 3.9MB/s eta 0:00:01\r\u001b[K     |████▉                           | 71kB 4.2MB/s eta 0:00:01\r\u001b[K     |█████▌                          | 81kB 4.6MB/s eta 0:00:01\r\u001b[K     |██████▏                         | 92kB 4.9MB/s eta 0:00:01\r\u001b[K     |██████▉                         | 102kB 4.7MB/s eta 0:00:01\r\u001b[K     |███████▋                        | 112kB 4.7MB/s eta 0:00:01\r\u001b[K     |████████▎                       | 122kB 4.7MB/s eta 0:00:01\r\u001b[K     |█████████                       | 133kB 4.7MB/s eta 0:00:01\r\u001b[K     |█████████▋                      | 143kB 4.7MB/s eta 0:00:01\r\u001b[K     |██████████▎                     | 153kB 4.7MB/s eta 0:00:01\r\u001b[K     |███████████                     | 163kB 4.7MB/s eta 0:00:01\r\u001b[K     |███████████▊                    | 174kB 4.7MB/s eta 0:00:01\r\u001b[K     |████████████▍                   | 184kB 4.7MB/s eta 0:00:01\r\u001b[K     |█████████████                   | 194kB 4.7MB/s eta 0:00:01\r\u001b[K     |█████████████▊                  | 204kB 4.7MB/s eta 0:00:01\r\u001b[K     |██████████████▌                 | 215kB 4.7MB/s eta 0:00:01\r\u001b[K     |███████████████▏                | 225kB 4.7MB/s eta 0:00:01\r\u001b[K     |███████████████▉                | 235kB 4.7MB/s eta 0:00:01\r\u001b[K     |████████████████▌               | 245kB 4.7MB/s eta 0:00:01\r\u001b[K     |█████████████████▏              | 256kB 4.7MB/s eta 0:00:01\r\u001b[K     |██████████████████              | 266kB 4.7MB/s eta 0:00:01\r\u001b[K     |██████████████████▋             | 276kB 4.7MB/s eta 0:00:01\r\u001b[K     |███████████████████▎            | 286kB 4.7MB/s eta 0:00:01\r\u001b[K     |████████████████████            | 296kB 4.7MB/s eta 0:00:01\r\u001b[K     |████████████████████▋           | 307kB 4.7MB/s eta 0:00:01\r\u001b[K     |█████████████████████▍          | 317kB 4.7MB/s eta 0:00:01\r\u001b[K     |██████████████████████          | 327kB 4.7MB/s eta 0:00:01\r\u001b[K     |██████████████████████▊         | 337kB 4.7MB/s eta 0:00:01\r\u001b[K     |███████████████████████▍        | 348kB 4.7MB/s eta 0:00:01\r\u001b[K     |████████████████████████        | 358kB 4.7MB/s eta 0:00:01\r\u001b[K     |████████████████████████▉       | 368kB 4.7MB/s eta 0:00:01\r\u001b[K     |█████████████████████████▌      | 378kB 4.7MB/s eta 0:00:01\r\u001b[K     |██████████████████████████▏     | 389kB 4.7MB/s eta 0:00:01\r\u001b[K     |██████████████████████████▉     | 399kB 4.7MB/s eta 0:00:01\r\u001b[K     |███████████████████████████▌    | 409kB 4.7MB/s eta 0:00:01\r\u001b[K     |████████████████████████████▎   | 419kB 4.7MB/s eta 0:00:01\r\u001b[K     |█████████████████████████████   | 430kB 4.7MB/s eta 0:00:01\r\u001b[K     |█████████████████████████████▋  | 440kB 4.7MB/s eta 0:00:01\r\u001b[K     |██████████████████████████████▎ | 450kB 4.7MB/s eta 0:00:01\r\u001b[K     |███████████████████████████████ | 460kB 4.7MB/s eta 0:00:01\r\u001b[K     |███████████████████████████████▊| 471kB 4.7MB/s eta 0:00:01\r\u001b[K     |████████████████████████████████| 481kB 4.7MB/s \n",
            "\u001b[?25hRequirement already satisfied: numpy in /usr/local/lib/python3.6/dist-packages (from transformers==2.4.0) (1.18.5)\n",
            "Requirement already satisfied: tqdm>=4.27 in /usr/local/lib/python3.6/dist-packages (from transformers==2.4.0) (4.41.1)\n",
            "Requirement already satisfied: boto3 in /usr/local/lib/python3.6/dist-packages (from transformers==2.4.0) (1.14.22)\n",
            "Collecting sentencepiece\n",
            "\u001b[?25l  Downloading https://files.pythonhosted.org/packages/d4/a4/d0a884c4300004a78cca907a6ff9a5e9fe4f090f5d95ab341c53d28cbc58/sentencepiece-0.1.91-cp36-cp36m-manylinux1_x86_64.whl (1.1MB)\n",
            "\r\u001b[K     |▎                               | 10kB 24.5MB/s eta 0:00:01\r\u001b[K     |▋                               | 20kB 33.5MB/s eta 0:00:01\r\u001b[K     |█                               | 30kB 41.0MB/s eta 0:00:01\r\u001b[K     |█▏                              | 40kB 37.1MB/s eta 0:00:01\r\u001b[K     |█▌                              | 51kB 23.3MB/s eta 0:00:01\r\u001b[K     |█▉                              | 61kB 26.2MB/s eta 0:00:01\r\u001b[K     |██▏                             | 71kB 22.9MB/s eta 0:00:01\r\u001b[K     |██▍                             | 81kB 24.6MB/s eta 0:00:01\r\u001b[K     |██▊                             | 92kB 22.5MB/s eta 0:00:01\r\u001b[K     |███                             | 102kB 20.2MB/s eta 0:00:01\r\u001b[K     |███▍                            | 112kB 20.2MB/s eta 0:00:01\r\u001b[K     |███▋                            | 122kB 20.2MB/s eta 0:00:01\r\u001b[K     |████                            | 133kB 20.2MB/s eta 0:00:01\r\u001b[K     |████▎                           | 143kB 20.2MB/s eta 0:00:01\r\u001b[K     |████▋                           | 153kB 20.2MB/s eta 0:00:01\r\u001b[K     |████▉                           | 163kB 20.2MB/s eta 0:00:01\r\u001b[K     |█████▏                          | 174kB 20.2MB/s eta 0:00:01\r\u001b[K     |█████▌                          | 184kB 20.2MB/s eta 0:00:01\r\u001b[K     |█████▉                          | 194kB 20.2MB/s eta 0:00:01\r\u001b[K     |██████                          | 204kB 20.2MB/s eta 0:00:01\r\u001b[K     |██████▍                         | 215kB 20.2MB/s eta 0:00:01\r\u001b[K     |██████▊                         | 225kB 20.2MB/s eta 0:00:01\r\u001b[K     |███████                         | 235kB 20.2MB/s eta 0:00:01\r\u001b[K     |███████▎                        | 245kB 20.2MB/s eta 0:00:01\r\u001b[K     |███████▋                        | 256kB 20.2MB/s eta 0:00:01\r\u001b[K     |████████                        | 266kB 20.2MB/s eta 0:00:01\r\u001b[K     |████████▎                       | 276kB 20.2MB/s eta 0:00:01\r\u001b[K     |████████▌                       | 286kB 20.2MB/s eta 0:00:01\r\u001b[K     |████████▉                       | 296kB 20.2MB/s eta 0:00:01\r\u001b[K     |█████████▏                      | 307kB 20.2MB/s eta 0:00:01\r\u001b[K     |█████████▌                      | 317kB 20.2MB/s eta 0:00:01\r\u001b[K     |█████████▊                      | 327kB 20.2MB/s eta 0:00:01\r\u001b[K     |██████████                      | 337kB 20.2MB/s eta 0:00:01\r\u001b[K     |██████████▍                     | 348kB 20.2MB/s eta 0:00:01\r\u001b[K     |██████████▊                     | 358kB 20.2MB/s eta 0:00:01\r\u001b[K     |███████████                     | 368kB 20.2MB/s eta 0:00:01\r\u001b[K     |███████████▎                    | 378kB 20.2MB/s eta 0:00:01\r\u001b[K     |███████████▋                    | 389kB 20.2MB/s eta 0:00:01\r\u001b[K     |████████████                    | 399kB 20.2MB/s eta 0:00:01\r\u001b[K     |████████████▏                   | 409kB 20.2MB/s eta 0:00:01\r\u001b[K     |████████████▌                   | 419kB 20.2MB/s eta 0:00:01\r\u001b[K     |████████████▉                   | 430kB 20.2MB/s eta 0:00:01\r\u001b[K     |█████████████▏                  | 440kB 20.2MB/s eta 0:00:01\r\u001b[K     |█████████████▍                  | 450kB 20.2MB/s eta 0:00:01\r\u001b[K     |█████████████▊                  | 460kB 20.2MB/s eta 0:00:01\r\u001b[K     |██████████████                  | 471kB 20.2MB/s eta 0:00:01\r\u001b[K     |██████████████▍                 | 481kB 20.2MB/s eta 0:00:01\r\u001b[K     |██████████████▋                 | 491kB 20.2MB/s eta 0:00:01\r\u001b[K     |███████████████                 | 501kB 20.2MB/s eta 0:00:01\r\u001b[K     |███████████████▎                | 512kB 20.2MB/s eta 0:00:01\r\u001b[K     |███████████████▋                | 522kB 20.2MB/s eta 0:00:01\r\u001b[K     |███████████████▉                | 532kB 20.2MB/s eta 0:00:01\r\u001b[K     |████████████████▏               | 542kB 20.2MB/s eta 0:00:01\r\u001b[K     |████████████████▌               | 552kB 20.2MB/s eta 0:00:01\r\u001b[K     |████████████████▉               | 563kB 20.2MB/s eta 0:00:01\r\u001b[K     |█████████████████               | 573kB 20.2MB/s eta 0:00:01\r\u001b[K     |█████████████████▍              | 583kB 20.2MB/s eta 0:00:01\r\u001b[K     |█████████████████▊              | 593kB 20.2MB/s eta 0:00:01\r\u001b[K     |██████████████████              | 604kB 20.2MB/s eta 0:00:01\r\u001b[K     |██████████████████▎             | 614kB 20.2MB/s eta 0:00:01\r\u001b[K     |██████████████████▋             | 624kB 20.2MB/s eta 0:00:01\r\u001b[K     |███████████████████             | 634kB 20.2MB/s eta 0:00:01\r\u001b[K     |███████████████████▎            | 645kB 20.2MB/s eta 0:00:01\r\u001b[K     |███████████████████▌            | 655kB 20.2MB/s eta 0:00:01\r\u001b[K     |███████████████████▉            | 665kB 20.2MB/s eta 0:00:01\r\u001b[K     |████████████████████▏           | 675kB 20.2MB/s eta 0:00:01\r\u001b[K     |████████████████████▌           | 686kB 20.2MB/s eta 0:00:01\r\u001b[K     |████████████████████▊           | 696kB 20.2MB/s eta 0:00:01\r\u001b[K     |█████████████████████           | 706kB 20.2MB/s eta 0:00:01\r\u001b[K     |█████████████████████▍          | 716kB 20.2MB/s eta 0:00:01\r\u001b[K     |█████████████████████▋          | 727kB 20.2MB/s eta 0:00:01\r\u001b[K     |██████████████████████          | 737kB 20.2MB/s eta 0:00:01\r\u001b[K     |██████████████████████▎         | 747kB 20.2MB/s eta 0:00:01\r\u001b[K     |██████████████████████▋         | 757kB 20.2MB/s eta 0:00:01\r\u001b[K     |██████████████████████▉         | 768kB 20.2MB/s eta 0:00:01\r\u001b[K     |███████████████████████▏        | 778kB 20.2MB/s eta 0:00:01\r\u001b[K     |███████████████████████▌        | 788kB 20.2MB/s eta 0:00:01\r\u001b[K     |███████████████████████▉        | 798kB 20.2MB/s eta 0:00:01\r\u001b[K     |████████████████████████        | 808kB 20.2MB/s eta 0:00:01\r\u001b[K     |████████████████████████▍       | 819kB 20.2MB/s eta 0:00:01\r\u001b[K     |████████████████████████▊       | 829kB 20.2MB/s eta 0:00:01\r\u001b[K     |█████████████████████████       | 839kB 20.2MB/s eta 0:00:01\r\u001b[K     |█████████████████████████▎      | 849kB 20.2MB/s eta 0:00:01\r\u001b[K     |█████████████████████████▋      | 860kB 20.2MB/s eta 0:00:01\r\u001b[K     |██████████████████████████      | 870kB 20.2MB/s eta 0:00:01\r\u001b[K     |██████████████████████████▎     | 880kB 20.2MB/s eta 0:00:01\r\u001b[K     |██████████████████████████▌     | 890kB 20.2MB/s eta 0:00:01\r\u001b[K     |██████████████████████████▉     | 901kB 20.2MB/s eta 0:00:01\r\u001b[K     |███████████████████████████▏    | 911kB 20.2MB/s eta 0:00:01\r\u001b[K     |███████████████████████████▌    | 921kB 20.2MB/s eta 0:00:01\r\u001b[K     |███████████████████████████▊    | 931kB 20.2MB/s eta 0:00:01\r\u001b[K     |████████████████████████████    | 942kB 20.2MB/s eta 0:00:01\r\u001b[K     |████████████████████████████▍   | 952kB 20.2MB/s eta 0:00:01\r\u001b[K     |████████████████████████████▊   | 962kB 20.2MB/s eta 0:00:01\r\u001b[K     |█████████████████████████████   | 972kB 20.2MB/s eta 0:00:01\r\u001b[K     |█████████████████████████████▎  | 983kB 20.2MB/s eta 0:00:01\r\u001b[K     |█████████████████████████████▋  | 993kB 20.2MB/s eta 0:00:01\r\u001b[K     |██████████████████████████████  | 1.0MB 20.2MB/s eta 0:00:01\r\u001b[K     |██████████████████████████████▏ | 1.0MB 20.2MB/s eta 0:00:01\r\u001b[K     |██████████████████████████████▌ | 1.0MB 20.2MB/s eta 0:00:01\r\u001b[K     |██████████████████████████████▉ | 1.0MB 20.2MB/s eta 0:00:01\r\u001b[K     |███████████████████████████████▏| 1.0MB 20.2MB/s eta 0:00:01\r\u001b[K     |███████████████████████████████▍| 1.1MB 20.2MB/s eta 0:00:01\r\u001b[K     |███████████████████████████████▊| 1.1MB 20.2MB/s eta 0:00:01\r\u001b[K     |████████████████████████████████| 1.1MB 20.2MB/s \n",
            "\u001b[?25hRequirement already satisfied: regex!=2019.12.17 in /usr/local/lib/python3.6/dist-packages (from transformers==2.4.0) (2019.12.20)\n",
            "Requirement already satisfied: filelock in /usr/local/lib/python3.6/dist-packages (from transformers==2.4.0) (3.0.12)\n",
            "Collecting sacremoses\n",
            "\u001b[?25l  Downloading https://files.pythonhosted.org/packages/7d/34/09d19aff26edcc8eb2a01bed8e98f13a1537005d31e95233fd48216eed10/sacremoses-0.0.43.tar.gz (883kB)\n",
            "\u001b[K     |████████████████████████████████| 890kB 31.3MB/s \n",
            "\u001b[?25hCollecting tokenizers==0.0.11\n",
            "\u001b[?25l  Downloading https://files.pythonhosted.org/packages/5e/36/7af38d572c935f8e0462ec7b4f7a46d73a2b3b1a938f50a5e8132d5b2dc5/tokenizers-0.0.11-cp36-cp36m-manylinux1_x86_64.whl (3.1MB)\n",
            "\u001b[K     |████████████████████████████████| 3.1MB 41.2MB/s \n",
            "\u001b[?25hRequirement already satisfied: requests in /usr/local/lib/python3.6/dist-packages (from transformers==2.4.0) (2.23.0)\n",
            "Requirement already satisfied: botocore<1.18.0,>=1.17.22 in /usr/local/lib/python3.6/dist-packages (from boto3->transformers==2.4.0) (1.17.22)\n",
            "Requirement already satisfied: s3transfer<0.4.0,>=0.3.0 in /usr/local/lib/python3.6/dist-packages (from boto3->transformers==2.4.0) (0.3.3)\n",
            "Requirement already satisfied: jmespath<1.0.0,>=0.7.1 in /usr/local/lib/python3.6/dist-packages (from boto3->transformers==2.4.0) (0.10.0)\n",
            "Requirement already satisfied: six in /usr/local/lib/python3.6/dist-packages (from sacremoses->transformers==2.4.0) (1.15.0)\n",
            "Requirement already satisfied: click in /usr/local/lib/python3.6/dist-packages (from sacremoses->transformers==2.4.0) (7.1.2)\n",
            "Requirement already satisfied: joblib in /usr/local/lib/python3.6/dist-packages (from sacremoses->transformers==2.4.0) (0.16.0)\n",
            "Requirement already satisfied: certifi>=2017.4.17 in /usr/local/lib/python3.6/dist-packages (from requests->transformers==2.4.0) (2020.6.20)\n",
            "Requirement already satisfied: urllib3!=1.25.0,!=1.25.1,<1.26,>=1.21.1 in /usr/local/lib/python3.6/dist-packages (from requests->transformers==2.4.0) (1.24.3)\n",
            "Requirement already satisfied: idna<3,>=2.5 in /usr/local/lib/python3.6/dist-packages (from requests->transformers==2.4.0) (2.10)\n",
            "Requirement already satisfied: chardet<4,>=3.0.2 in /usr/local/lib/python3.6/dist-packages (from requests->transformers==2.4.0) (3.0.4)\n",
            "Requirement already satisfied: docutils<0.16,>=0.10 in /usr/local/lib/python3.6/dist-packages (from botocore<1.18.0,>=1.17.22->boto3->transformers==2.4.0) (0.15.2)\n",
            "Requirement already satisfied: python-dateutil<3.0.0,>=2.1 in /usr/local/lib/python3.6/dist-packages (from botocore<1.18.0,>=1.17.22->boto3->transformers==2.4.0) (2.8.1)\n",
            "Building wheels for collected packages: sacremoses\n",
            "  Building wheel for sacremoses (setup.py) ... \u001b[?25l\u001b[?25hdone\n",
            "  Created wheel for sacremoses: filename=sacremoses-0.0.43-cp36-none-any.whl size=893260 sha256=d4a72f560f5508b25e09be0dd35ca8f0f8e085328cfbbba3adbe97d0af2b4773\n",
            "  Stored in directory: /root/.cache/pip/wheels/29/3c/fd/7ce5c3f0666dab31a50123635e6fb5e19ceb42ce38d4e58f45\n",
            "Successfully built sacremoses\n",
            "Installing collected packages: sentencepiece, sacremoses, tokenizers, transformers\n",
            "Successfully installed sacremoses-0.0.43 sentencepiece-0.1.91 tokenizers-0.0.11 transformers-2.4.0\n"
          ],
          "name": "stdout"
        }
      ]
    },
    {
      "cell_type": "code",
      "metadata": {
        "id": "zo-WWUpvxafw",
        "colab_type": "code",
        "colab": {}
      },
      "source": [
        "# importing necessary libraries\n",
        "from typing import List, Tuple\n",
        "import random\n",
        "import html\n",
        "\n",
        "import pandas as pd\n",
        "import numpy as np\n",
        "from sklearn.model_selection import GroupKFold, KFold\n",
        "import matplotlib.pyplot as plt\n",
        "from tqdm.notebook import tqdm\n",
        "import tensorflow as tf\n",
        "import tensorflow.keras.backend as K\n",
        "import os\n",
        "from scipy.stats import spearmanr\n",
        "from scipy.optimize import minimize\n",
        "from math import floor, ceil\n",
        "from transformers import *\n",
        "from tensorflow.keras.layers import Flatten, Dense, Dropout, GlobalAveragePooling1D\n",
        "from tensorflow.keras.models import Model"
      ],
      "execution_count": 2,
      "outputs": []
    },
    {
      "cell_type": "code",
      "metadata": {
        "id": "CLmMEUgxx26B",
        "colab_type": "code",
        "colab": {}
      },
      "source": [
        "# fixing random seeds\n",
        "seed = 13\n",
        "random.seed(seed)\n",
        "os.environ['PYTHONHASHSEED'] = str(seed)\n",
        "np.random.seed(seed)\n",
        "tf.random.set_seed(seed)"
      ],
      "execution_count": 3,
      "outputs": []
    },
    {
      "cell_type": "code",
      "metadata": {
        "id": "k4xfZk07SVN_",
        "colab_type": "code",
        "colab": {
          "base_uri": "https://localhost:8080/",
          "height": 118
        },
        "outputId": "c2f14597-d968-42df-f61e-1a7172119ce3"
      },
      "source": [
        "from google.colab import drive\n",
        "drive.mount('/content/drive')"
      ],
      "execution_count": 6,
      "outputs": [
        {
          "output_type": "stream",
          "text": [
            "Go to this URL in a browser: https://accounts.google.com/o/oauth2/auth?client_id=947318989803-6bn6qk8qdgf4n4g3pfee6491hc0brc4i.apps.googleusercontent.com&redirect_uri=urn%3aietf%3awg%3aoauth%3a2.0%3aoob&response_type=code&scope=email%20https%3a%2f%2fwww.googleapis.com%2fauth%2fdocs.test%20https%3a%2f%2fwww.googleapis.com%2fauth%2fdrive%20https%3a%2f%2fwww.googleapis.com%2fauth%2fdrive.photos.readonly%20https%3a%2f%2fwww.googleapis.com%2fauth%2fpeopleapi.readonly\n",
            "\n",
            "Enter your authorization code:\n",
            "··········\n",
            "Mounted at /content/drive\n"
          ],
          "name": "stdout"
        }
      ]
    },
    {
      "cell_type": "code",
      "metadata": {
        "id": "CcVQirniSYcn",
        "colab_type": "code",
        "colab": {}
      },
      "source": [
        "# reading the data into dataframe using pandas\n",
        "train = pd.read_csv('drive/My Drive/case_study_2/train.csv')\n",
        "test = pd.read_csv('drive/My Drive/case_study_2/test.csv')\n",
        "submission = pd.read_csv('drive/My Drive/case_study_2/sample_submission.csv')"
      ],
      "execution_count": 7,
      "outputs": []
    },
    {
      "cell_type": "code",
      "metadata": {
        "id": "FcYE-rNRDmBu",
        "colab_type": "code",
        "colab": {}
      },
      "source": [
        "# # reading the data into dataframe using pandas\n",
        "# train = pd.read_csv('train.csv')\n",
        "# test = pd.read_csv('test.csv')\n",
        "# submission = pd.read_csv('sample_submission.csv')"
      ],
      "execution_count": 8,
      "outputs": []
    },
    {
      "cell_type": "code",
      "metadata": {
        "id": "tNGA4pJ4VNEM",
        "colab_type": "code",
        "colab": {}
      },
      "source": [
        "# Selecting data for training and testing\n",
        "y = train[train.columns[11:]] # storing the target values in y\n",
        "X = train[['question_title', 'question_body', 'answer']]\n",
        "X_test = test[['question_title', 'question_body', 'answer']]"
      ],
      "execution_count": 9,
      "outputs": []
    },
    {
      "cell_type": "code",
      "metadata": {
        "id": "cigOT9S5xUKj",
        "colab_type": "code",
        "colab": {
          "base_uri": "https://localhost:8080/",
          "height": 115
        },
        "outputId": "42a522b8-a716-4273-9166-d64ea34412f8"
      },
      "source": [
        "# Cleaning the data\n",
        "X.question_body = X.question_body.apply(html.unescape)\n",
        "X.question_title = X.question_title.apply(html.unescape)\n",
        "X.answer = X.answer.apply(html.unescape)\n",
        "\n",
        "X_test.question_body = X_test.question_body.apply(html.unescape)\n",
        "X_test.question_title = X_test.question_title.apply(html.unescape)\n",
        "X_test.answer = X_test.answer.apply(html.unescape)"
      ],
      "execution_count": 10,
      "outputs": [
        {
          "output_type": "stream",
          "text": [
            "/usr/local/lib/python3.6/dist-packages/pandas/core/generic.py:5303: SettingWithCopyWarning: \n",
            "A value is trying to be set on a copy of a slice from a DataFrame.\n",
            "Try using .loc[row_indexer,col_indexer] = value instead\n",
            "\n",
            "See the caveats in the documentation: https://pandas.pydata.org/pandas-docs/stable/user_guide/indexing.html#returning-a-view-versus-a-copy\n",
            "  self[name] = value\n"
          ],
          "name": "stderr"
        }
      ]
    },
    {
      "cell_type": "code",
      "metadata": {
        "id": "7Ud1PUdkxUH5",
        "colab_type": "code",
        "colab": {
          "base_uri": "https://localhost:8080/",
          "height": 65,
          "referenced_widgets": [
            "dcd6cf49e22a4eae8bb625c541b4a3fa",
            "f5ebddd493b84297bfc43324fef64536",
            "5660e919b35a437ea0c46957ed6ee081",
            "c452fbc3de6f4ca4baa38d308161b0e2",
            "6894a1bed59d44dba20a96d9c5671946",
            "f3a4248530f04018813791f5ceaafeac",
            "4644ae4aad124842972d866c6f79da6c",
            "f7b1425d0edd4152b1b7a29001adb946"
          ]
        },
        "outputId": "2171cbb0-e69f-4957-d555-3eaa1ae111e3"
      },
      "source": [
        "tokenizer = XLNetTokenizer.from_pretrained('xlnet-base-cased')\n",
        "MAX_SEQUENCE_LENGTH = 512\n",
        "\n",
        "# this function trims the tokens with length > 512 to match with the bert input.\n",
        "'''\n",
        "In the function below, if the input sentence has the number of tokens > 512, the \n",
        "sentence is trimmed down to 512. To trim the number of tokens, 256 tokens from \n",
        "the start and 256 tokens from the end are kept and the remaining tokens are dropped.\n",
        "Ex. suppose an answer has 700 tokens, to trim this down to 512, 256 tokens from the\n",
        "beginning are taken and 256 tokens from the end are taken and concatenated to make \n",
        "512 tokens. The remaining [700-(256+256) = 288] tokens that are in the middle of the \n",
        "answer are dropped. The logic makes sense because in large texts, the beginning part\n",
        "usually describes what the text is all about and the end part describes the conclusion\n",
        "of the text. This is also closely related to the target features that we need to predict.\n",
        "'''\n",
        "def _trim_input(question_tokens, answer_tokens, max_sequence_length=512, q_max_len=254, a_max_len=254):\n",
        "    q_len = len(question_tokens)\n",
        "    a_len = len(answer_tokens)\n",
        "    if q_len + a_len + 3 > max_sequence_length:\n",
        "        if a_max_len <= a_len and q_max_len <= q_len:\n",
        "            q_new_len_head = q_max_len//2\n",
        "            question_tokens = question_tokens[:q_new_len_head] + question_tokens[-q_new_len_head:]\n",
        "            a_new_len_head = a_max_len//2\n",
        "            answer_tokens = answer_tokens[:a_new_len_head] + answer_tokens[-a_new_len_head:]\n",
        "        elif q_len <= a_len and q_len < q_max_len:\n",
        "            a_max_len = a_max_len + (q_max_len - q_len - 1)\n",
        "            a_new_len_head = a_max_len//2\n",
        "            answer_tokens = answer_tokens[:a_new_len_head] + answer_tokens[-a_new_len_head:]\n",
        "        elif a_len < q_len:\n",
        "            q_max_len = q_max_len + (a_max_len - a_len - 1)\n",
        "            q_new_len_head = q_max_len//2\n",
        "            question_tokens = question_tokens[:q_new_len_head] + question_tokens[-q_new_len_head:]\n",
        "\n",
        "    return question_tokens, answer_tokens"
      ],
      "execution_count": 11,
      "outputs": [
        {
          "output_type": "display_data",
          "data": {
            "application/vnd.jupyter.widget-view+json": {
              "model_id": "dcd6cf49e22a4eae8bb625c541b4a3fa",
              "version_minor": 0,
              "version_major": 2
            },
            "text/plain": [
              "HBox(children=(FloatProgress(value=0.0, description='Downloading', max=798011.0, style=ProgressStyle(descripti…"
            ]
          },
          "metadata": {
            "tags": []
          }
        },
        {
          "output_type": "stream",
          "text": [
            "\n"
          ],
          "name": "stdout"
        }
      ]
    },
    {
      "cell_type": "code",
      "metadata": {
        "id": "hOYKNqYpxUFI",
        "colab_type": "code",
        "colab": {}
      },
      "source": [
        "# function for tokenizing the input data for bert\n",
        "def _convert_to_transformer_inputs(title, question, answer, tokenizer, question_only=False):\n",
        "    question = f\"{title} [SEP] {question}\"\n",
        "    question_tokens = tokenizer.tokenize(question)\n",
        "    if question_only:\n",
        "        answer_tokens = []\n",
        "    else:\n",
        "        answer_tokens = tokenizer.tokenize(answer)\n",
        "    question_tokens, answer_tokens = _trim_input(question_tokens, answer_tokens)\n",
        "    ids = tokenizer.convert_tokens_to_ids([\"[CLS]\"] + question_tokens + [\"[SEP]\"] + answer_tokens + [\"[SEP]\"])\n",
        "    padded_ids = ids + [tokenizer.pad_token_id] * (MAX_SEQUENCE_LENGTH - len(ids))\n",
        "    token_type_ids = [0] * (1 + len(question_tokens) + 1) + [1] * (len(answer_tokens) + 1) + [0] * (MAX_SEQUENCE_LENGTH - len(ids))\n",
        "    attention_mask = [1] * len(ids) + [0] * (MAX_SEQUENCE_LENGTH - len(ids))\n",
        "    return padded_ids, token_type_ids, attention_mask"
      ],
      "execution_count": 12,
      "outputs": []
    },
    {
      "cell_type": "code",
      "metadata": {
        "id": "TjkzpFyC0hPA",
        "colab_type": "code",
        "colab": {}
      },
      "source": [
        "# function for creating the input_ids, masks and segments for the bert input\n",
        "def compute_input_arrays(df, question_only=False):\n",
        "    input_ids, input_token_type_ids, input_attention_masks = [], [], []\n",
        "    for title, body, answer in zip(df[\"question_title\"].values, df[\"question_body\"].values, df[\"answer\"].values):\n",
        "        ids, type_ids, mask = _convert_to_transformer_inputs(title, body, answer, tokenizer, question_only=question_only)\n",
        "        input_ids.append(ids)\n",
        "        input_token_type_ids.append(type_ids)\n",
        "        input_attention_masks.append(mask)\n",
        "    return (\n",
        "        np.asarray(input_ids, dtype=np.int32),\n",
        "        np.asarray(input_attention_masks, dtype=np.int32),\n",
        "        np.asarray(input_token_type_ids, dtype=np.int32)\n",
        "    )\n",
        "\n",
        "\n",
        "def compute_output_arrays(df):\n",
        "    return np.asarray(df[output_categories])"
      ],
      "execution_count": 13,
      "outputs": []
    },
    {
      "cell_type": "code",
      "metadata": {
        "id": "9SrBTPLR8A6b",
        "colab_type": "code",
        "colab": {}
      },
      "source": [
        "# Creating the model\n",
        "K.clear_session()\n",
        "max_seq_length = 512\n",
        "\n",
        "input_tokens = tf.keras.layers.Input(shape=(max_seq_length,), dtype=tf.int32, name=\"input_tokens\")\n",
        "input_mask = tf.keras.layers.Input(shape=(max_seq_length,), dtype=tf.int32, name=\"input_mask\")\n",
        "# input_segment = tf.keras.layers.Input(shape=(max_seq_length,), dtype=tf.int32, name=\"input_segment\")\n",
        "\n",
        "#bert layer\n",
        "xlnet_config = XLNetConfig.from_pretrained('xlnet-base-cased', output_hidden_states=True)\n",
        "xlnet_model = TFXLNetModel.from_pretrained('xlnet-base-cased', config=xlnet_config)\n",
        "\n",
        "sequence_output, hidden_states = xlnet_model([input_tokens, input_mask])\n",
        "\n",
        "# Last 4 hidden layers of bert\n",
        "h12 = tf.reshape(hidden_states[-1][:,0],(-1,1,768))\n",
        "h11 = tf.reshape(hidden_states[-2][:,0],(-1,1,768))\n",
        "h10 = tf.reshape(hidden_states[-3][:,0],(-1,1,768))\n",
        "h09 = tf.reshape(hidden_states[-4][:,0],(-1,1,768))\n",
        "concat_hidden = tf.keras.layers.Concatenate(axis=2)([h12, h11, h10, h09])\n",
        "\n",
        "x = GlobalAveragePooling1D()(concat_hidden)\n",
        "\n",
        "x = Dropout(0.2)(x)\n",
        "\n",
        "output = Dense(9, activation='sigmoid')(x)\n",
        "\n",
        "model_a = Model(inputs=[input_tokens, input_mask], outputs=output)"
      ],
      "execution_count": 21,
      "outputs": []
    },
    {
      "cell_type": "code",
      "metadata": {
        "id": "Za1NkOT3oSsu",
        "colab_type": "code",
        "colab": {
          "base_uri": "https://localhost:8080/",
          "height": 700
        },
        "outputId": "3ab89fcc-8472-4b69-c5df-494eb3fc6a9f"
      },
      "source": [
        "model_a.summary()"
      ],
      "execution_count": 22,
      "outputs": [
        {
          "output_type": "stream",
          "text": [
            "Model: \"model\"\n",
            "__________________________________________________________________________________________________\n",
            "Layer (type)                    Output Shape         Param #     Connected to                     \n",
            "==================================================================================================\n",
            "input_tokens (InputLayer)       [(None, 512)]        0                                            \n",
            "__________________________________________________________________________________________________\n",
            "input_mask (InputLayer)         [(None, 512)]        0                                            \n",
            "__________________________________________________________________________________________________\n",
            "tfxl_net_model (TFXLNetModel)   ((None, 512, 768), ( 116718336   input_tokens[0][0]               \n",
            "                                                                 input_mask[0][0]                 \n",
            "__________________________________________________________________________________________________\n",
            "tf_op_layer_strided_slice (Tens [(None, 768)]        0           tfxl_net_model[2][13]            \n",
            "__________________________________________________________________________________________________\n",
            "tf_op_layer_strided_slice_1 (Te [(None, 768)]        0           tfxl_net_model[2][12]            \n",
            "__________________________________________________________________________________________________\n",
            "tf_op_layer_strided_slice_2 (Te [(None, 768)]        0           tfxl_net_model[2][11]            \n",
            "__________________________________________________________________________________________________\n",
            "tf_op_layer_strided_slice_3 (Te [(None, 768)]        0           tfxl_net_model[2][10]            \n",
            "__________________________________________________________________________________________________\n",
            "tf_op_layer_Reshape (TensorFlow [(None, 1, 768)]     0           tf_op_layer_strided_slice[0][0]  \n",
            "__________________________________________________________________________________________________\n",
            "tf_op_layer_Reshape_1 (TensorFl [(None, 1, 768)]     0           tf_op_layer_strided_slice_1[0][0]\n",
            "__________________________________________________________________________________________________\n",
            "tf_op_layer_Reshape_2 (TensorFl [(None, 1, 768)]     0           tf_op_layer_strided_slice_2[0][0]\n",
            "__________________________________________________________________________________________________\n",
            "tf_op_layer_Reshape_3 (TensorFl [(None, 1, 768)]     0           tf_op_layer_strided_slice_3[0][0]\n",
            "__________________________________________________________________________________________________\n",
            "concatenate (Concatenate)       (None, 1, 3072)      0           tf_op_layer_Reshape[0][0]        \n",
            "                                                                 tf_op_layer_Reshape_1[0][0]      \n",
            "                                                                 tf_op_layer_Reshape_2[0][0]      \n",
            "                                                                 tf_op_layer_Reshape_3[0][0]      \n",
            "__________________________________________________________________________________________________\n",
            "global_average_pooling1d (Globa (None, 3072)         0           concatenate[0][0]                \n",
            "__________________________________________________________________________________________________\n",
            "dropout_37 (Dropout)            (None, 3072)         0           global_average_pooling1d[0][0]   \n",
            "__________________________________________________________________________________________________\n",
            "dense (Dense)                   (None, 9)            27657       dropout_37[0][0]                 \n",
            "==================================================================================================\n",
            "Total params: 116,745,993\n",
            "Trainable params: 116,745,993\n",
            "Non-trainable params: 0\n",
            "__________________________________________________________________________________________________\n"
          ],
          "name": "stdout"
        }
      ]
    },
    {
      "cell_type": "code",
      "metadata": {
        "id": "FxHhK2pEob6X",
        "colab_type": "code",
        "colab": {
          "base_uri": "https://localhost:8080/",
          "height": 387
        },
        "outputId": "61e04e16-f876-4b3c-dcd0-5027595e24e4"
      },
      "source": [
        "tf.keras.utils.plot_model( \n",
        "    model_a, to_file='model.png', \n",
        "    show_shapes=False, \n",
        "    show_layer_names=True, \n",
        "    rankdir='TB', \n",
        "    expand_nested=False, dpi=48\n",
        ")"
      ],
      "execution_count": 23,
      "outputs": [
        {
          "output_type": "execute_result",
          "data": {
            "image/png": "[encoded data removed]",
            "text/plain": [
              "<IPython.core.display.Image object>"
            ]
          },
          "metadata": {
            "tags": []
          },
          "execution_count": 23
        }
      ]
    },
    {
      "cell_type": "code",
      "metadata": {
        "id": "R2q-Og5d8A2q",
        "colab_type": "code",
        "colab": {}
      },
      "source": [
        "# test data\n",
        "tokens, masks, segments = compute_input_arrays(X_test)\n",
        "test_data = {'input_tokens': tokens, \n",
        "             'input_mask': masks} "
      ],
      "execution_count": 24,
      "outputs": []
    },
    {
      "cell_type": "code",
      "metadata": {
        "id": "0ewipbUrF9L0",
        "colab_type": "code",
        "colab": {}
      },
      "source": [
        "# Train data\n",
        "tokens, masks, segments = compute_input_arrays(X)\n",
        "def generate_data(tr, cv):\n",
        "  train_data = {'input_tokens': tokens[tr], \n",
        "                'input_mask': masks[tr]}\n",
        "\n",
        "  cv_data = {'input_tokens': tokens[cv], \n",
        "             'input_mask': masks[cv]}\n",
        "\n",
        "  return train_data, cv_data, y.values[tr, 21:], y.values[cv, 21:]"
      ],
      "execution_count": 25,
      "outputs": []
    },
    {
      "cell_type": "code",
      "metadata": {
        "id": "N1ySGmk28AxB",
        "colab_type": "code",
        "colab": {}
      },
      "source": [
        "# Function to calculate the Spearman's rank correlation coefficient 'rhos' of actual and predicted data.\n",
        "from scipy.stats import spearmanr\n",
        "def compute_spearmanr_ignore_nan(trues, preds):\n",
        "    rhos = []\n",
        "    for tcol, pcol in zip(np.transpose(trues), np.transpose(preds)):\n",
        "        rhos.append(spearmanr(tcol, pcol).correlation)\n",
        "    return np.nanmean(rhos)"
      ],
      "execution_count": 26,
      "outputs": []
    },
    {
      "cell_type": "code",
      "metadata": {
        "id": "JreCSJP3Eqic",
        "colab_type": "code",
        "colab": {}
      },
      "source": [
        "# Making the 'rhos' metric to tensorflow graph compatible.\n",
        "def rhos(y, y_pred):\n",
        "  return tf.py_function(compute_spearmanr_ignore_nan, (y, y_pred), tf.double)\n",
        "metrics = [rhos]"
      ],
      "execution_count": 27,
      "outputs": []
    },
    {
      "cell_type": "code",
      "metadata": {
        "id": "aknu5k4QEsju",
        "colab_type": "code",
        "colab": {
          "base_uri": "https://localhost:8080/",
          "height": 411
        },
        "outputId": "39d93cb0-e24c-455e-fd42-0d7413d34cb3"
      },
      "source": [
        "from sklearn.model_selection import KFold\n",
        "# Compiling and training the model\n",
        "optimizer = tf.keras.optimizers.Adam(learning_rate=0.00002)\n",
        "model_a.compile(loss='binary_crossentropy', optimizer=optimizer, metrics=metrics)\n",
        "kf = KFold(n_splits=5, random_state=42)\n",
        "for tr, cv in kf.split(np.arange(train.shape[0])):\n",
        "  tr_data, cv_data, y_tr, y_cv = generate_data(tr, cv)\n",
        "  model_a.fit(tr_data, y_tr, epochs=1, batch_size=4, validation_data=(cv_data, y_cv))"
      ],
      "execution_count": 28,
      "outputs": [
        {
          "output_type": "stream",
          "text": [
            "/usr/local/lib/python3.6/dist-packages/sklearn/model_selection/_split.py:296: FutureWarning: Setting a random_state has no effect since shuffle is False. This will raise an error in 0.24. You should leave random_state to its default (None), or set shuffle=True.\n",
            "  FutureWarning\n"
          ],
          "name": "stderr"
        },
        {
          "output_type": "stream",
          "text": [
            "WARNING:tensorflow:Gradients do not exist for variables ['tfxl_net_model/transformer/mask_emb:0', 'tfxl_net_model/transformer/layer_._0/rel_attn/r_s_bias:0', 'tfxl_net_model/transformer/layer_._0/rel_attn/seg_embed:0', 'tfxl_net_model/transformer/layer_._1/rel_attn/r_s_bias:0', 'tfxl_net_model/transformer/layer_._1/rel_attn/seg_embed:0', 'tfxl_net_model/transformer/layer_._2/rel_attn/r_s_bias:0', 'tfxl_net_model/transformer/layer_._2/rel_attn/seg_embed:0', 'tfxl_net_model/transformer/layer_._3/rel_attn/r_s_bias:0', 'tfxl_net_model/transformer/layer_._3/rel_attn/seg_embed:0', 'tfxl_net_model/transformer/layer_._4/rel_attn/r_s_bias:0', 'tfxl_net_model/transformer/layer_._4/rel_attn/seg_embed:0', 'tfxl_net_model/transformer/layer_._5/rel_attn/r_s_bias:0', 'tfxl_net_model/transformer/layer_._5/rel_attn/seg_embed:0', 'tfxl_net_model/transformer/layer_._6/rel_attn/r_s_bias:0', 'tfxl_net_model/transformer/layer_._6/rel_attn/seg_embed:0', 'tfxl_net_model/transformer/layer_._7/rel_attn/r_s_bias:0', 'tfxl_net_model/transformer/layer_._7/rel_attn/seg_embed:0', 'tfxl_net_model/transformer/layer_._8/rel_attn/r_s_bias:0', 'tfxl_net_model/transformer/layer_._8/rel_attn/seg_embed:0', 'tfxl_net_model/transformer/layer_._9/rel_attn/r_s_bias:0', 'tfxl_net_model/transformer/layer_._9/rel_attn/seg_embed:0', 'tfxl_net_model/transformer/layer_._10/rel_attn/r_s_bias:0', 'tfxl_net_model/transformer/layer_._10/rel_attn/seg_embed:0', 'tfxl_net_model/transformer/layer_._11/rel_attn/r_s_bias:0', 'tfxl_net_model/transformer/layer_._11/rel_attn/seg_embed:0'] when minimizing the loss.\n",
            "WARNING:tensorflow:Gradients do not exist for variables ['tfxl_net_model/transformer/mask_emb:0', 'tfxl_net_model/transformer/layer_._0/rel_attn/r_s_bias:0', 'tfxl_net_model/transformer/layer_._0/rel_attn/seg_embed:0', 'tfxl_net_model/transformer/layer_._1/rel_attn/r_s_bias:0', 'tfxl_net_model/transformer/layer_._1/rel_attn/seg_embed:0', 'tfxl_net_model/transformer/layer_._2/rel_attn/r_s_bias:0', 'tfxl_net_model/transformer/layer_._2/rel_attn/seg_embed:0', 'tfxl_net_model/transformer/layer_._3/rel_attn/r_s_bias:0', 'tfxl_net_model/transformer/layer_._3/rel_attn/seg_embed:0', 'tfxl_net_model/transformer/layer_._4/rel_attn/r_s_bias:0', 'tfxl_net_model/transformer/layer_._4/rel_attn/seg_embed:0', 'tfxl_net_model/transformer/layer_._5/rel_attn/r_s_bias:0', 'tfxl_net_model/transformer/layer_._5/rel_attn/seg_embed:0', 'tfxl_net_model/transformer/layer_._6/rel_attn/r_s_bias:0', 'tfxl_net_model/transformer/layer_._6/rel_attn/seg_embed:0', 'tfxl_net_model/transformer/layer_._7/rel_attn/r_s_bias:0', 'tfxl_net_model/transformer/layer_._7/rel_attn/seg_embed:0', 'tfxl_net_model/transformer/layer_._8/rel_attn/r_s_bias:0', 'tfxl_net_model/transformer/layer_._8/rel_attn/seg_embed:0', 'tfxl_net_model/transformer/layer_._9/rel_attn/r_s_bias:0', 'tfxl_net_model/transformer/layer_._9/rel_attn/seg_embed:0', 'tfxl_net_model/transformer/layer_._10/rel_attn/r_s_bias:0', 'tfxl_net_model/transformer/layer_._10/rel_attn/seg_embed:0', 'tfxl_net_model/transformer/layer_._11/rel_attn/r_s_bias:0', 'tfxl_net_model/transformer/layer_._11/rel_attn/seg_embed:0'] when minimizing the loss.\n",
            "WARNING:tensorflow:Gradients do not exist for variables ['tfxl_net_model/transformer/mask_emb:0', 'tfxl_net_model/transformer/layer_._0/rel_attn/r_s_bias:0', 'tfxl_net_model/transformer/layer_._0/rel_attn/seg_embed:0', 'tfxl_net_model/transformer/layer_._1/rel_attn/r_s_bias:0', 'tfxl_net_model/transformer/layer_._1/rel_attn/seg_embed:0', 'tfxl_net_model/transformer/layer_._2/rel_attn/r_s_bias:0', 'tfxl_net_model/transformer/layer_._2/rel_attn/seg_embed:0', 'tfxl_net_model/transformer/layer_._3/rel_attn/r_s_bias:0', 'tfxl_net_model/transformer/layer_._3/rel_attn/seg_embed:0', 'tfxl_net_model/transformer/layer_._4/rel_attn/r_s_bias:0', 'tfxl_net_model/transformer/layer_._4/rel_attn/seg_embed:0', 'tfxl_net_model/transformer/layer_._5/rel_attn/r_s_bias:0', 'tfxl_net_model/transformer/layer_._5/rel_attn/seg_embed:0', 'tfxl_net_model/transformer/layer_._6/rel_attn/r_s_bias:0', 'tfxl_net_model/transformer/layer_._6/rel_attn/seg_embed:0', 'tfxl_net_model/transformer/layer_._7/rel_attn/r_s_bias:0', 'tfxl_net_model/transformer/layer_._7/rel_attn/seg_embed:0', 'tfxl_net_model/transformer/layer_._8/rel_attn/r_s_bias:0', 'tfxl_net_model/transformer/layer_._8/rel_attn/seg_embed:0', 'tfxl_net_model/transformer/layer_._9/rel_attn/r_s_bias:0', 'tfxl_net_model/transformer/layer_._9/rel_attn/seg_embed:0', 'tfxl_net_model/transformer/layer_._10/rel_attn/r_s_bias:0', 'tfxl_net_model/transformer/layer_._10/rel_attn/seg_embed:0', 'tfxl_net_model/transformer/layer_._11/rel_attn/r_s_bias:0', 'tfxl_net_model/transformer/layer_._11/rel_attn/seg_embed:0'] when minimizing the loss.\n",
            "WARNING:tensorflow:Gradients do not exist for variables ['tfxl_net_model/transformer/mask_emb:0', 'tfxl_net_model/transformer/layer_._0/rel_attn/r_s_bias:0', 'tfxl_net_model/transformer/layer_._0/rel_attn/seg_embed:0', 'tfxl_net_model/transformer/layer_._1/rel_attn/r_s_bias:0', 'tfxl_net_model/transformer/layer_._1/rel_attn/seg_embed:0', 'tfxl_net_model/transformer/layer_._2/rel_attn/r_s_bias:0', 'tfxl_net_model/transformer/layer_._2/rel_attn/seg_embed:0', 'tfxl_net_model/transformer/layer_._3/rel_attn/r_s_bias:0', 'tfxl_net_model/transformer/layer_._3/rel_attn/seg_embed:0', 'tfxl_net_model/transformer/layer_._4/rel_attn/r_s_bias:0', 'tfxl_net_model/transformer/layer_._4/rel_attn/seg_embed:0', 'tfxl_net_model/transformer/layer_._5/rel_attn/r_s_bias:0', 'tfxl_net_model/transformer/layer_._5/rel_attn/seg_embed:0', 'tfxl_net_model/transformer/layer_._6/rel_attn/r_s_bias:0', 'tfxl_net_model/transformer/layer_._6/rel_attn/seg_embed:0', 'tfxl_net_model/transformer/layer_._7/rel_attn/r_s_bias:0', 'tfxl_net_model/transformer/layer_._7/rel_attn/seg_embed:0', 'tfxl_net_model/transformer/layer_._8/rel_attn/r_s_bias:0', 'tfxl_net_model/transformer/layer_._8/rel_attn/seg_embed:0', 'tfxl_net_model/transformer/layer_._9/rel_attn/r_s_bias:0', 'tfxl_net_model/transformer/layer_._9/rel_attn/seg_embed:0', 'tfxl_net_model/transformer/layer_._10/rel_attn/r_s_bias:0', 'tfxl_net_model/transformer/layer_._10/rel_attn/seg_embed:0', 'tfxl_net_model/transformer/layer_._11/rel_attn/r_s_bias:0', 'tfxl_net_model/transformer/layer_._11/rel_attn/seg_embed:0'] when minimizing the loss.\n",
            "   1/1216 [..............................] - ETA: 0s - loss: 2.1134 - rhos: 0.2241"
          ],
          "name": "stdout"
        },
        {
          "output_type": "stream",
          "text": [
            "/usr/local/lib/python3.6/dist-packages/numpy/lib/function_base.py:2534: RuntimeWarning: invalid value encountered in true_divide\n",
            "  c /= stddev[:, None]\n",
            "/usr/local/lib/python3.6/dist-packages/numpy/lib/function_base.py:2535: RuntimeWarning: invalid value encountered in true_divide\n",
            "  c /= stddev[None, :]\n",
            "/usr/local/lib/python3.6/dist-packages/scipy/stats/_distn_infrastructure.py:903: RuntimeWarning: invalid value encountered in greater\n",
            "  return (a < x) & (x < b)\n",
            "/usr/local/lib/python3.6/dist-packages/scipy/stats/_distn_infrastructure.py:903: RuntimeWarning: invalid value encountered in less\n",
            "  return (a < x) & (x < b)\n",
            "/usr/local/lib/python3.6/dist-packages/scipy/stats/_distn_infrastructure.py:1912: RuntimeWarning: invalid value encountered in less_equal\n",
            "  cond2 = cond0 & (x <= _a)\n"
          ],
          "name": "stderr"
        },
        {
          "output_type": "stream",
          "text": [
            "1216/1216 [==============================] - 762s 627ms/step - loss: 0.4614 - rhos: 0.1533 - val_loss: 0.3878 - val_rhos: 0.2894\n",
            "1216/1216 [==============================] - 761s 626ms/step - loss: 0.4180 - rhos: 0.2099 - val_loss: 0.3663 - val_rhos: 0.3281\n",
            "1216/1216 [==============================] - 761s 626ms/step - loss: 0.3983 - rhos: 0.2542 - val_loss: 0.3518 - val_rhos: 0.4010\n",
            "1216/1216 [==============================] - 761s 625ms/step - loss: 0.3801 - rhos: 0.2857 - val_loss: 0.3416 - val_rhos: 0.4297\n",
            "WARNING:tensorflow:Gradients do not exist for variables ['tfxl_net_model/transformer/mask_emb:0', 'tfxl_net_model/transformer/layer_._0/rel_attn/r_s_bias:0', 'tfxl_net_model/transformer/layer_._0/rel_attn/seg_embed:0', 'tfxl_net_model/transformer/layer_._1/rel_attn/r_s_bias:0', 'tfxl_net_model/transformer/layer_._1/rel_attn/seg_embed:0', 'tfxl_net_model/transformer/layer_._2/rel_attn/r_s_bias:0', 'tfxl_net_model/transformer/layer_._2/rel_attn/seg_embed:0', 'tfxl_net_model/transformer/layer_._3/rel_attn/r_s_bias:0', 'tfxl_net_model/transformer/layer_._3/rel_attn/seg_embed:0', 'tfxl_net_model/transformer/layer_._4/rel_attn/r_s_bias:0', 'tfxl_net_model/transformer/layer_._4/rel_attn/seg_embed:0', 'tfxl_net_model/transformer/layer_._5/rel_attn/r_s_bias:0', 'tfxl_net_model/transformer/layer_._5/rel_attn/seg_embed:0', 'tfxl_net_model/transformer/layer_._6/rel_attn/r_s_bias:0', 'tfxl_net_model/transformer/layer_._6/rel_attn/seg_embed:0', 'tfxl_net_model/transformer/layer_._7/rel_attn/r_s_bias:0', 'tfxl_net_model/transformer/layer_._7/rel_attn/seg_embed:0', 'tfxl_net_model/transformer/layer_._8/rel_attn/r_s_bias:0', 'tfxl_net_model/transformer/layer_._8/rel_attn/seg_embed:0', 'tfxl_net_model/transformer/layer_._9/rel_attn/r_s_bias:0', 'tfxl_net_model/transformer/layer_._9/rel_attn/seg_embed:0', 'tfxl_net_model/transformer/layer_._10/rel_attn/r_s_bias:0', 'tfxl_net_model/transformer/layer_._10/rel_attn/seg_embed:0', 'tfxl_net_model/transformer/layer_._11/rel_attn/r_s_bias:0', 'tfxl_net_model/transformer/layer_._11/rel_attn/seg_embed:0'] when minimizing the loss.\n",
            "WARNING:tensorflow:Gradients do not exist for variables ['tfxl_net_model/transformer/mask_emb:0', 'tfxl_net_model/transformer/layer_._0/rel_attn/r_s_bias:0', 'tfxl_net_model/transformer/layer_._0/rel_attn/seg_embed:0', 'tfxl_net_model/transformer/layer_._1/rel_attn/r_s_bias:0', 'tfxl_net_model/transformer/layer_._1/rel_attn/seg_embed:0', 'tfxl_net_model/transformer/layer_._2/rel_attn/r_s_bias:0', 'tfxl_net_model/transformer/layer_._2/rel_attn/seg_embed:0', 'tfxl_net_model/transformer/layer_._3/rel_attn/r_s_bias:0', 'tfxl_net_model/transformer/layer_._3/rel_attn/seg_embed:0', 'tfxl_net_model/transformer/layer_._4/rel_attn/r_s_bias:0', 'tfxl_net_model/transformer/layer_._4/rel_attn/seg_embed:0', 'tfxl_net_model/transformer/layer_._5/rel_attn/r_s_bias:0', 'tfxl_net_model/transformer/layer_._5/rel_attn/seg_embed:0', 'tfxl_net_model/transformer/layer_._6/rel_attn/r_s_bias:0', 'tfxl_net_model/transformer/layer_._6/rel_attn/seg_embed:0', 'tfxl_net_model/transformer/layer_._7/rel_attn/r_s_bias:0', 'tfxl_net_model/transformer/layer_._7/rel_attn/seg_embed:0', 'tfxl_net_model/transformer/layer_._8/rel_attn/r_s_bias:0', 'tfxl_net_model/transformer/layer_._8/rel_attn/seg_embed:0', 'tfxl_net_model/transformer/layer_._9/rel_attn/r_s_bias:0', 'tfxl_net_model/transformer/layer_._9/rel_attn/seg_embed:0', 'tfxl_net_model/transformer/layer_._10/rel_attn/r_s_bias:0', 'tfxl_net_model/transformer/layer_._10/rel_attn/seg_embed:0', 'tfxl_net_model/transformer/layer_._11/rel_attn/r_s_bias:0', 'tfxl_net_model/transformer/layer_._11/rel_attn/seg_embed:0'] when minimizing the loss.\n",
            "1216/1216 [==============================] - 749s 616ms/step - loss: 0.3611 - rhos: 0.3531 - val_loss: 0.3401 - val_rhos: 0.4702\n"
          ],
          "name": "stdout"
        }
      ]
    },
    {
      "cell_type": "code",
      "metadata": {
        "id": "00xS1Z7vGQYu",
        "colab_type": "code",
        "colab": {}
      },
      "source": [
        "model_a.save_weights(\"drive/My Drive/xlnet_model_a.h5\")"
      ],
      "execution_count": 29,
      "outputs": []
    },
    {
      "cell_type": "code",
      "metadata": {
        "id": "3T6YWUE5klL2",
        "colab_type": "code",
        "colab": {}
      },
      "source": [
        "# train data\n",
        "tokens, masks, segments = compute_input_arrays(X)\n",
        "train_data = {'input_tokens': tokens, \n",
        "             'input_mask': masks} "
      ],
      "execution_count": 30,
      "outputs": []
    },
    {
      "cell_type": "code",
      "metadata": {
        "id": "t41M4h25vcvV",
        "colab_type": "code",
        "colab": {}
      },
      "source": [
        "# Predicting the train and test data labels\n",
        "pred_a_test = model_a.predict(test_data)\n",
        "pred_a_train = model_a.predict(train_data)\n",
        "\n",
        "# saving the predicted labels as dataframes\n",
        "df = pd.DataFrame(pred_a_train, columns=y.columns[21:])\n",
        "df.to_csv('xlnet_pred_a_train.csv', index=False)\n",
        "\n",
        "df = pd.DataFrame(pred_a_test, columns=y.columns[21:])\n",
        "df.to_csv('xlnet_pred_a_test.csv', index=False)"
      ],
      "execution_count": 31,
      "outputs": []
    },
    {
      "cell_type": "code",
      "metadata": {
        "id": "RWFVVCuJvia0",
        "colab_type": "code",
        "colab": {}
      },
      "source": [
        ""
      ],
      "execution_count": null,
      "outputs": []
    }
  ]
}