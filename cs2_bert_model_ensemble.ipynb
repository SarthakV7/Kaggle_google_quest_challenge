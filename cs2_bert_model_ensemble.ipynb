{
  "nbformat": 4,
  "nbformat_minor": 0,
  "metadata": {
    "colab": {
      "name": "cs2_bert_model_ensemble.ipynb",
      "provenance": [],
      "collapsed_sections": []
    },
    "kernelspec": {
      "name": "python3",
      "display_name": "Python 3"
    },
    "accelerator": "GPU",
    "widgets": {
      "application/vnd.jupyter.widget-state+json": {
        "04da0ae2eb714683945c30a4aa51ba82": {
          "model_module": "@jupyter-widgets/controls",
          "model_name": "HBoxModel",
          "state": {
            "_view_name": "HBoxView",
            "_dom_classes": [],
            "_model_name": "HBoxModel",
            "_view_module": "@jupyter-widgets/controls",
            "_model_module_version": "1.5.0",
            "_view_count": null,
            "_view_module_version": "1.5.0",
            "box_style": "",
            "layout": "IPY_MODEL_22e376007729408c8edf826fb5401f12",
            "_model_module": "@jupyter-widgets/controls",
            "children": [
              "IPY_MODEL_f7bba56c1bcf458dace3560ce8f62fb2",
              "IPY_MODEL_63558c902b2245988167434bddcd07fa"
            ]
          }
        },
        "22e376007729408c8edf826fb5401f12": {
          "model_module": "@jupyter-widgets/base",
          "model_name": "LayoutModel",
          "state": {
            "_view_name": "LayoutView",
            "grid_template_rows": null,
            "right": null,
            "justify_content": null,
            "_view_module": "@jupyter-widgets/base",
            "overflow": null,
            "_model_module_version": "1.2.0",
            "_view_count": null,
            "flex_flow": null,
            "width": null,
            "min_width": null,
            "border": null,
            "align_items": null,
            "bottom": null,
            "_model_module": "@jupyter-widgets/base",
            "top": null,
            "grid_column": null,
            "overflow_y": null,
            "overflow_x": null,
            "grid_auto_flow": null,
            "grid_area": null,
            "grid_template_columns": null,
            "flex": null,
            "_model_name": "LayoutModel",
            "justify_items": null,
            "grid_row": null,
            "max_height": null,
            "align_content": null,
            "visibility": null,
            "align_self": null,
            "height": null,
            "min_height": null,
            "padding": null,
            "grid_auto_rows": null,
            "grid_gap": null,
            "max_width": null,
            "order": null,
            "_view_module_version": "1.2.0",
            "grid_template_areas": null,
            "object_position": null,
            "object_fit": null,
            "grid_auto_columns": null,
            "margin": null,
            "display": null,
            "left": null
          }
        },
        "f7bba56c1bcf458dace3560ce8f62fb2": {
          "model_module": "@jupyter-widgets/controls",
          "model_name": "FloatProgressModel",
          "state": {
            "_view_name": "ProgressView",
            "style": "IPY_MODEL_021cf947ee6b42fabb6d58782af12c34",
            "_dom_classes": [],
            "description": "",
            "_model_name": "FloatProgressModel",
            "bar_style": "success",
            "max": 1,
            "_view_module": "@jupyter-widgets/controls",
            "_model_module_version": "1.5.0",
            "value": 1,
            "_view_count": null,
            "_view_module_version": "1.5.0",
            "orientation": "horizontal",
            "min": 0,
            "description_tooltip": null,
            "_model_module": "@jupyter-widgets/controls",
            "layout": "IPY_MODEL_082a645ae86a45de94c250b9fe4af9fc"
          }
        },
        "63558c902b2245988167434bddcd07fa": {
          "model_module": "@jupyter-widgets/controls",
          "model_name": "HTMLModel",
          "state": {
            "_view_name": "HTMLView",
            "style": "IPY_MODEL_2683120425fe4c95a02a27ab4c3c9af5",
            "_dom_classes": [],
            "description": "",
            "_model_name": "HTMLModel",
            "placeholder": "​",
            "_view_module": "@jupyter-widgets/controls",
            "_model_module_version": "1.5.0",
            "value": " 476/? [00:38&lt;00:00, 12.40it/s]",
            "_view_count": null,
            "_view_module_version": "1.5.0",
            "description_tooltip": null,
            "_model_module": "@jupyter-widgets/controls",
            "layout": "IPY_MODEL_5fadaf8bea274a1097d2eb8d3859b44a"
          }
        },
        "021cf947ee6b42fabb6d58782af12c34": {
          "model_module": "@jupyter-widgets/controls",
          "model_name": "ProgressStyleModel",
          "state": {
            "_view_name": "StyleView",
            "_model_name": "ProgressStyleModel",
            "description_width": "initial",
            "_view_module": "@jupyter-widgets/base",
            "_model_module_version": "1.5.0",
            "_view_count": null,
            "_view_module_version": "1.2.0",
            "bar_color": null,
            "_model_module": "@jupyter-widgets/controls"
          }
        },
        "082a645ae86a45de94c250b9fe4af9fc": {
          "model_module": "@jupyter-widgets/base",
          "model_name": "LayoutModel",
          "state": {
            "_view_name": "LayoutView",
            "grid_template_rows": null,
            "right": null,
            "justify_content": null,
            "_view_module": "@jupyter-widgets/base",
            "overflow": null,
            "_model_module_version": "1.2.0",
            "_view_count": null,
            "flex_flow": null,
            "width": null,
            "min_width": null,
            "border": null,
            "align_items": null,
            "bottom": null,
            "_model_module": "@jupyter-widgets/base",
            "top": null,
            "grid_column": null,
            "overflow_y": null,
            "overflow_x": null,
            "grid_auto_flow": null,
            "grid_area": null,
            "grid_template_columns": null,
            "flex": null,
            "_model_name": "LayoutModel",
            "justify_items": null,
            "grid_row": null,
            "max_height": null,
            "align_content": null,
            "visibility": null,
            "align_self": null,
            "height": null,
            "min_height": null,
            "padding": null,
            "grid_auto_rows": null,
            "grid_gap": null,
            "max_width": null,
            "order": null,
            "_view_module_version": "1.2.0",
            "grid_template_areas": null,
            "object_position": null,
            "object_fit": null,
            "grid_auto_columns": null,
            "margin": null,
            "display": null,
            "left": null
          }
        },
        "2683120425fe4c95a02a27ab4c3c9af5": {
          "model_module": "@jupyter-widgets/controls",
          "model_name": "DescriptionStyleModel",
          "state": {
            "_view_name": "StyleView",
            "_model_name": "DescriptionStyleModel",
            "description_width": "",
            "_view_module": "@jupyter-widgets/base",
            "_model_module_version": "1.5.0",
            "_view_count": null,
            "_view_module_version": "1.2.0",
            "_model_module": "@jupyter-widgets/controls"
          }
        },
        "5fadaf8bea274a1097d2eb8d3859b44a": {
          "model_module": "@jupyter-widgets/base",
          "model_name": "LayoutModel",
          "state": {
            "_view_name": "LayoutView",
            "grid_template_rows": null,
            "right": null,
            "justify_content": null,
            "_view_module": "@jupyter-widgets/base",
            "overflow": null,
            "_model_module_version": "1.2.0",
            "_view_count": null,
            "flex_flow": null,
            "width": null,
            "min_width": null,
            "border": null,
            "align_items": null,
            "bottom": null,
            "_model_module": "@jupyter-widgets/base",
            "top": null,
            "grid_column": null,
            "overflow_y": null,
            "overflow_x": null,
            "grid_auto_flow": null,
            "grid_area": null,
            "grid_template_columns": null,
            "flex": null,
            "_model_name": "LayoutModel",
            "justify_items": null,
            "grid_row": null,
            "max_height": null,
            "align_content": null,
            "visibility": null,
            "align_self": null,
            "height": null,
            "min_height": null,
            "padding": null,
            "grid_auto_rows": null,
            "grid_gap": null,
            "max_width": null,
            "order": null,
            "_view_module_version": "1.2.0",
            "grid_template_areas": null,
            "object_position": null,
            "object_fit": null,
            "grid_auto_columns": null,
            "margin": null,
            "display": null,
            "left": null
          }
        },
        "6f1be9cc50574e6f936e7f2166f9abc3": {
          "model_module": "@jupyter-widgets/controls",
          "model_name": "HBoxModel",
          "state": {
            "_view_name": "HBoxView",
            "_dom_classes": [],
            "_model_name": "HBoxModel",
            "_view_module": "@jupyter-widgets/controls",
            "_model_module_version": "1.5.0",
            "_view_count": null,
            "_view_module_version": "1.5.0",
            "box_style": "",
            "layout": "IPY_MODEL_eba887dd849f42feb5f74b1925295575",
            "_model_module": "@jupyter-widgets/controls",
            "children": [
              "IPY_MODEL_6f6fe544637f4865872dff5ff11b747d",
              "IPY_MODEL_695a4b7e45494e80af8ef8f281ba168f"
            ]
          }
        },
        "eba887dd849f42feb5f74b1925295575": {
          "model_module": "@jupyter-widgets/base",
          "model_name": "LayoutModel",
          "state": {
            "_view_name": "LayoutView",
            "grid_template_rows": null,
            "right": null,
            "justify_content": null,
            "_view_module": "@jupyter-widgets/base",
            "overflow": null,
            "_model_module_version": "1.2.0",
            "_view_count": null,
            "flex_flow": null,
            "width": null,
            "min_width": null,
            "border": null,
            "align_items": null,
            "bottom": null,
            "_model_module": "@jupyter-widgets/base",
            "top": null,
            "grid_column": null,
            "overflow_y": null,
            "overflow_x": null,
            "grid_auto_flow": null,
            "grid_area": null,
            "grid_template_columns": null,
            "flex": null,
            "_model_name": "LayoutModel",
            "justify_items": null,
            "grid_row": null,
            "max_height": null,
            "align_content": null,
            "visibility": null,
            "align_self": null,
            "height": null,
            "min_height": null,
            "padding": null,
            "grid_auto_rows": null,
            "grid_gap": null,
            "max_width": null,
            "order": null,
            "_view_module_version": "1.2.0",
            "grid_template_areas": null,
            "object_position": null,
            "object_fit": null,
            "grid_auto_columns": null,
            "margin": null,
            "display": null,
            "left": null
          }
        },
        "6f6fe544637f4865872dff5ff11b747d": {
          "model_module": "@jupyter-widgets/controls",
          "model_name": "FloatProgressModel",
          "state": {
            "_view_name": "ProgressView",
            "style": "IPY_MODEL_4439e387e3b9479fbd7f22301fb134c3",
            "_dom_classes": [],
            "description": "",
            "_model_name": "FloatProgressModel",
            "bar_style": "success",
            "max": 1,
            "_view_module": "@jupyter-widgets/controls",
            "_model_module_version": "1.5.0",
            "value": 1,
            "_view_count": null,
            "_view_module_version": "1.5.0",
            "orientation": "horizontal",
            "min": 0,
            "description_tooltip": null,
            "_model_module": "@jupyter-widgets/controls",
            "layout": "IPY_MODEL_81539474445d4bdda0d3f450c1258c5e"
          }
        },
        "695a4b7e45494e80af8ef8f281ba168f": {
          "model_module": "@jupyter-widgets/controls",
          "model_name": "HTMLModel",
          "state": {
            "_view_name": "HTMLView",
            "style": "IPY_MODEL_d5be1cca2f2b4ee1966a6821ba05e7f4",
            "_dom_classes": [],
            "description": "",
            "_model_name": "HTMLModel",
            "placeholder": "​",
            "_view_module": "@jupyter-widgets/controls",
            "_model_module_version": "1.5.0",
            "value": " 6079/? [00:35&lt;00:00, 170.72it/s]",
            "_view_count": null,
            "_view_module_version": "1.5.0",
            "description_tooltip": null,
            "_model_module": "@jupyter-widgets/controls",
            "layout": "IPY_MODEL_cf55c30f0e6c473b906e8d968d5701b6"
          }
        },
        "4439e387e3b9479fbd7f22301fb134c3": {
          "model_module": "@jupyter-widgets/controls",
          "model_name": "ProgressStyleModel",
          "state": {
            "_view_name": "StyleView",
            "_model_name": "ProgressStyleModel",
            "description_width": "initial",
            "_view_module": "@jupyter-widgets/base",
            "_model_module_version": "1.5.0",
            "_view_count": null,
            "_view_module_version": "1.2.0",
            "bar_color": null,
            "_model_module": "@jupyter-widgets/controls"
          }
        },
        "81539474445d4bdda0d3f450c1258c5e": {
          "model_module": "@jupyter-widgets/base",
          "model_name": "LayoutModel",
          "state": {
            "_view_name": "LayoutView",
            "grid_template_rows": null,
            "right": null,
            "justify_content": null,
            "_view_module": "@jupyter-widgets/base",
            "overflow": null,
            "_model_module_version": "1.2.0",
            "_view_count": null,
            "flex_flow": null,
            "width": null,
            "min_width": null,
            "border": null,
            "align_items": null,
            "bottom": null,
            "_model_module": "@jupyter-widgets/base",
            "top": null,
            "grid_column": null,
            "overflow_y": null,
            "overflow_x": null,
            "grid_auto_flow": null,
            "grid_area": null,
            "grid_template_columns": null,
            "flex": null,
            "_model_name": "LayoutModel",
            "justify_items": null,
            "grid_row": null,
            "max_height": null,
            "align_content": null,
            "visibility": null,
            "align_self": null,
            "height": null,
            "min_height": null,
            "padding": null,
            "grid_auto_rows": null,
            "grid_gap": null,
            "max_width": null,
            "order": null,
            "_view_module_version": "1.2.0",
            "grid_template_areas": null,
            "object_position": null,
            "object_fit": null,
            "grid_auto_columns": null,
            "margin": null,
            "display": null,
            "left": null
          }
        },
        "d5be1cca2f2b4ee1966a6821ba05e7f4": {
          "model_module": "@jupyter-widgets/controls",
          "model_name": "DescriptionStyleModel",
          "state": {
            "_view_name": "StyleView",
            "_model_name": "DescriptionStyleModel",
            "description_width": "",
            "_view_module": "@jupyter-widgets/base",
            "_model_module_version": "1.5.0",
            "_view_count": null,
            "_view_module_version": "1.2.0",
            "_model_module": "@jupyter-widgets/controls"
          }
        },
        "cf55c30f0e6c473b906e8d968d5701b6": {
          "model_module": "@jupyter-widgets/base",
          "model_name": "LayoutModel",
          "state": {
            "_view_name": "LayoutView",
            "grid_template_rows": null,
            "right": null,
            "justify_content": null,
            "_view_module": "@jupyter-widgets/base",
            "overflow": null,
            "_model_module_version": "1.2.0",
            "_view_count": null,
            "flex_flow": null,
            "width": null,
            "min_width": null,
            "border": null,
            "align_items": null,
            "bottom": null,
            "_model_module": "@jupyter-widgets/base",
            "top": null,
            "grid_column": null,
            "overflow_y": null,
            "overflow_x": null,
            "grid_auto_flow": null,
            "grid_area": null,
            "grid_template_columns": null,
            "flex": null,
            "_model_name": "LayoutModel",
            "justify_items": null,
            "grid_row": null,
            "max_height": null,
            "align_content": null,
            "visibility": null,
            "align_self": null,
            "height": null,
            "min_height": null,
            "padding": null,
            "grid_auto_rows": null,
            "grid_gap": null,
            "max_width": null,
            "order": null,
            "_view_module_version": "1.2.0",
            "grid_template_areas": null,
            "object_position": null,
            "object_fit": null,
            "grid_auto_columns": null,
            "margin": null,
            "display": null,
            "left": null
          }
        }
      }
    }
  },
  "cells": [
    {
      "cell_type": "code",
      "metadata": {
        "id": "ofjzGWfZxcpb",
        "colab_type": "code",
        "colab": {}
      },
      "source": [
        "!pip install transformers==2.4.0"
      ],
      "execution_count": null,
      "outputs": []
    },
    {
      "cell_type": "code",
      "metadata": {
        "id": "zo-WWUpvxafw",
        "colab_type": "code",
        "colab": {}
      },
      "source": [
        "# importing necessary libraries\n",
        "from typing import List, Tuple\n",
        "import random\n",
        "import html\n",
        "from sklearn.model_selection import KFold\n",
        "import pandas as pd\n",
        "import numpy as np\n",
        "from sklearn.model_selection import GroupKFold, KFold\n",
        "import matplotlib.pyplot as plt\n",
        "from tqdm.notebook import tqdm\n",
        "import tensorflow as tf\n",
        "import tensorflow.keras.backend as K\n",
        "import os\n",
        "from scipy.stats import spearmanr\n",
        "from scipy.optimize import minimize\n",
        "from math import floor, ceil\n",
        "from transformers import *\n",
        "from tqdm.notebook import tqdm\n",
        "from tensorflow.keras.layers import Flatten, Dense, Dropout, GlobalAveragePooling1D, Input\n",
        "from tensorflow.keras.models import Model"
      ],
      "execution_count": 2,
      "outputs": []
    },
    {
      "cell_type": "code",
      "metadata": {
        "id": "CLmMEUgxx26B",
        "colab_type": "code",
        "colab": {}
      },
      "source": [
        "# fixing random seeds\n",
        "seed = 13\n",
        "random.seed(seed)\n",
        "os.environ['PYTHONHASHSEED'] = str(seed)\n",
        "np.random.seed(seed)\n",
        "tf.random.set_seed(seed)"
      ],
      "execution_count": 3,
      "outputs": []
    },
    {
      "cell_type": "code",
      "metadata": {
        "id": "k4xfZk07SVN_",
        "colab_type": "code",
        "colab": {
          "base_uri": "https://localhost:8080/",
          "height": 35
        },
        "outputId": "c75a9e28-b88e-41f1-d28f-e74e2476bcfb"
      },
      "source": [
        "from google.colab import drive\n",
        "drive.mount('/content/drive')"
      ],
      "execution_count": 4,
      "outputs": [
        {
          "output_type": "stream",
          "text": [
            "Drive already mounted at /content/drive; to attempt to forcibly remount, call drive.mount(\"/content/drive\", force_remount=True).\n"
          ],
          "name": "stdout"
        }
      ]
    },
    {
      "cell_type": "code",
      "metadata": {
        "id": "CcVQirniSYcn",
        "colab_type": "code",
        "colab": {}
      },
      "source": [
        "# reading the data into dataframe using pandas\n",
        "train = pd.read_csv('drive/My Drive/case_study_2/train.csv')\n",
        "test = pd.read_csv('drive/My Drive/case_study_2/test.csv')\n",
        "submission = pd.read_csv('drive/My Drive/case_study_2/sample_submission.csv')\n",
        "q_train = pd.read_csv('pred_q_train.csv')\n",
        "q_test = pd.read_csv('pred_q_test.csv')\n",
        "a_train = pd.read_csv('pred_a_train.csv')\n",
        "a_test = pd.read_csv('pred_a_test.csv')\n",
        "new_features_test = pd.read_csv('drive/My Drive/case_study_2/new_features_test.csv')\n",
        "new_features_train = pd.read_csv('drive/My Drive/case_study_2/new_features_train.csv')"
      ],
      "execution_count": 5,
      "outputs": []
    },
    {
      "cell_type": "code",
      "metadata": {
        "id": "6-QjFdH9vw3I",
        "colab_type": "code",
        "colab": {}
      },
      "source": [
        "# function to convert the upvotes features from string to int\n",
        "def fix_upvotes(x):\n",
        "  try:\n",
        "    return int(x.split('.')[0])\n",
        "  except:\n",
        "    return 0"
      ],
      "execution_count": 6,
      "outputs": []
    },
    {
      "cell_type": "code",
      "metadata": {
        "id": "SvpbzatGvjGZ",
        "colab_type": "code",
        "colab": {}
      },
      "source": [
        "# Standardizing the 'upvotes' feature\n",
        "from sklearn.preprocessing import MinMaxScaler\n",
        "min_max_scaler = MinMaxScaler()\n",
        "\n",
        "upvotes_test = min_max_scaler.fit_transform(new_features_test['upvotes'].apply(lambda x:fix_upvotes(x)).values.reshape(-1,1))\n",
        "upvotes_train = min_max_scaler.transform(new_features_train['upvotes'].apply(lambda x:fix_upvotes(x)).values.reshape(-1,1))"
      ],
      "execution_count": 7,
      "outputs": []
    },
    {
      "cell_type": "code",
      "metadata": {
        "id": "tNGA4pJ4VNEM",
        "colab_type": "code",
        "colab": {}
      },
      "source": [
        "# Selecting data for training and testing\n",
        "y = train[train.columns[11:]] # storing the target values in y\n",
        "X = train[['question_title', 'question_body', 'answer']]\n",
        "X_test = test[['question_title', 'question_body', 'answer']]"
      ],
      "execution_count": 8,
      "outputs": []
    },
    {
      "cell_type": "code",
      "metadata": {
        "id": "cigOT9S5xUKj",
        "colab_type": "code",
        "colab": {
          "base_uri": "https://localhost:8080/",
          "height": 123
        },
        "outputId": "02e09c2d-b062-4351-dba3-6c0de29a1ffc"
      },
      "source": [
        "# Cleaning the data\n",
        "X.question_body = X.question_body.apply(html.unescape)\n",
        "X.question_title = X.question_title.apply(html.unescape)\n",
        "X.answer = X.answer.apply(html.unescape)\n",
        "\n",
        "X_test.question_body = X_test.question_body.apply(html.unescape)\n",
        "X_test.question_title = X_test.question_title.apply(html.unescape)\n",
        "X_test.answer = X_test.answer.apply(html.unescape)"
      ],
      "execution_count": 10,
      "outputs": [
        {
          "output_type": "stream",
          "text": [
            "/usr/local/lib/python3.6/dist-packages/pandas/core/generic.py:5303: SettingWithCopyWarning: \n",
            "A value is trying to be set on a copy of a slice from a DataFrame.\n",
            "Try using .loc[row_indexer,col_indexer] = value instead\n",
            "\n",
            "See the caveats in the documentation: https://pandas.pydata.org/pandas-docs/stable/user_guide/indexing.html#returning-a-view-versus-a-copy\n",
            "  self[name] = value\n"
          ],
          "name": "stderr"
        }
      ]
    },
    {
      "cell_type": "code",
      "metadata": {
        "id": "7Ud1PUdkxUH5",
        "colab_type": "code",
        "colab": {}
      },
      "source": [
        "tokenizer = BertTokenizer.from_pretrained('bert-base-uncased')\n",
        "MAX_SEQUENCE_LENGTH = 512\n",
        "\n",
        "# this function trims the tokens with length > 512 to match with the bert input.\n",
        "'''\n",
        "In the function below, if the input sentence has the number of tokens > 512, the \n",
        "sentence is trimmed down to 512. To trim the number of tokens, 256 tokens from \n",
        "the start and 256 tokens from the end are kept and the remaining tokens are dropped.\n",
        "Ex. suppose an answer has 700 tokens, to trim this down to 512, 256 tokens from the\n",
        "beginning are taken and 256 tokens from the end are taken and concatenated to make \n",
        "512 tokens. The remaining [700-(256+256) = 288] tokens that are in the middle of the \n",
        "answer are dropped. The logic makes sense because in large texts, the beginning part\n",
        "usually describes what the text is all about and the end part describes the conclusion\n",
        "of the text. This is also closely related to the target features that we need to predict.\n",
        "'''\n",
        "def _trim_input(question_tokens, answer_tokens, max_sequence_length=512, q_max_len=254, a_max_len=254):\n",
        "    q_len = len(question_tokens)\n",
        "    a_len = len(answer_tokens)\n",
        "    if q_len + a_len + 3 > max_sequence_length:\n",
        "        if a_max_len <= a_len and q_max_len <= q_len:\n",
        "            q_new_len_head = q_max_len//2\n",
        "            question_tokens = question_tokens[:q_new_len_head] + question_tokens[-q_new_len_head:]\n",
        "            a_new_len_head = a_max_len//2\n",
        "            answer_tokens = answer_tokens[:a_new_len_head] + answer_tokens[-a_new_len_head:]\n",
        "        elif q_len <= a_len and q_len < q_max_len:\n",
        "            a_max_len = a_max_len + (q_max_len - q_len - 1)\n",
        "            a_new_len_head = a_max_len//2\n",
        "            answer_tokens = answer_tokens[:a_new_len_head] + answer_tokens[-a_new_len_head:]\n",
        "        elif a_len < q_len:\n",
        "            q_max_len = q_max_len + (a_max_len - a_len - 1)\n",
        "            q_new_len_head = q_max_len//2\n",
        "            question_tokens = question_tokens[:q_new_len_head] + question_tokens[-q_new_len_head:]\n",
        "\n",
        "    return question_tokens, answer_tokens"
      ],
      "execution_count": 11,
      "outputs": []
    },
    {
      "cell_type": "code",
      "metadata": {
        "id": "hOYKNqYpxUFI",
        "colab_type": "code",
        "colab": {}
      },
      "source": [
        "# function for tokenizing the input data for bert\n",
        "def _convert_to_transformer_inputs(title, question, answer, tokenizer, question_only=False):\n",
        "    MAX_SEQUENCE_LENGTH=512\n",
        "    question = f\"{title} [SEP] {question}\"\n",
        "    question_tokens = tokenizer.tokenize(question)\n",
        "    answer_tokens = tokenizer.tokenize(answer)\n",
        "    question_tokens, answer_tokens = _trim_input(question_tokens, answer_tokens)\n",
        "    ids = tokenizer.convert_tokens_to_ids([\"[CLS]\"] + question_tokens + [\"[SEP]\"] + answer_tokens + [\"[SEP]\"])\n",
        "    padded_ids = ids + [tokenizer.pad_token_id] * (MAX_SEQUENCE_LENGTH - len(ids))\n",
        "    token_type_ids = [0] * (1 + len(question_tokens) + 1) + [1] * (len(answer_tokens) + 1) + [0] * (MAX_SEQUENCE_LENGTH - len(ids))\n",
        "    attention_mask = [1] * len(ids) + [0] * (MAX_SEQUENCE_LENGTH - len(ids))\n",
        "    return padded_ids, token_type_ids, attention_mask"
      ],
      "execution_count": 12,
      "outputs": []
    },
    {
      "cell_type": "code",
      "metadata": {
        "id": "TjkzpFyC0hPA",
        "colab_type": "code",
        "colab": {}
      },
      "source": [
        "# function for creating the input_ids, masks and segments for the bert input\n",
        "def compute_input_arrays(df, question_only=False):\n",
        "    input_ids, input_token_type_ids, input_attention_masks = [], [], []\n",
        "    for title, body, answer in tqdm(zip(df[\"question_title\"].values, df[\"question_body\"].values, df[\"answer\"].values)):\n",
        "        ids, type_ids, mask = _convert_to_transformer_inputs(title, body, answer, tokenizer, question_only=question_only)\n",
        "        input_ids.append(ids)\n",
        "        input_token_type_ids.append(type_ids)\n",
        "        input_attention_masks.append(mask)\n",
        "    return (\n",
        "        np.asarray(input_ids, dtype=np.int32),\n",
        "        np.asarray(input_attention_masks, dtype=np.int32),\n",
        "        np.asarray(input_token_type_ids, dtype=np.int32)\n",
        "    )\n",
        "\n",
        "\n",
        "def compute_output_arrays(df):\n",
        "    return np.asarray(df[output_categories])"
      ],
      "execution_count": 13,
      "outputs": []
    },
    {
      "cell_type": "code",
      "metadata": {
        "id": "mxq0b25BQqVa",
        "colab_type": "code",
        "colab": {}
      },
      "source": [
        "# concatenating the predicted features from model_q and model_a\n",
        "input_train = pd.concat([q_train, a_train], axis=1).values\n",
        "input_test = pd.concat([q_test, a_test], axis=1).values"
      ],
      "execution_count": 15,
      "outputs": []
    },
    {
      "cell_type": "code",
      "metadata": {
        "id": "9SrBTPLR8A6b",
        "colab_type": "code",
        "colab": {}
      },
      "source": [
        "# Creating the model\n",
        "K.clear_session()\n",
        "max_seq_length = 512\n",
        "\n",
        "input_tokens = tf.keras.layers.Input(shape=(max_seq_length,), dtype=tf.int32, name=\"input_tokens\")\n",
        "input_mask = tf.keras.layers.Input(shape=(max_seq_length,), dtype=tf.int32, name=\"input_mask\")\n",
        "input_segment = tf.keras.layers.Input(shape=(max_seq_length,), dtype=tf.int32, name=\"input_segment\")\n",
        "\n",
        "#bert layer\n",
        "bert_config = BertConfig.from_pretrained('bert-base-uncased', output_hidden_states=True)\n",
        "bert_model = TFBertModel.from_pretrained('bert-base-uncased', config=bert_config)\n",
        "\n",
        "sequence_output, pooler_output, hidden_states = bert_model([input_tokens,input_mask, input_segment])\n",
        "\n",
        "# Last 4 hidden layers of bert\n",
        "h12 = tf.reshape(hidden_states[-1][:,0],(-1,1,768))\n",
        "h11 = tf.reshape(hidden_states[-2][:,0],(-1,1,768))\n",
        "h10 = tf.reshape(hidden_states[-3][:,0],(-1,1,768))\n",
        "h09 = tf.reshape(hidden_states[-4][:,0],(-1,1,768))\n",
        "concat_hidden = tf.keras.layers.Concatenate(axis=2)([h12, h11, h10, h09])\n",
        "\n",
        "x_bert = GlobalAveragePooling1D()(concat_hidden)\n",
        "\n",
        "input_1 = Input(shape=30, dtype=tf.float32, name=\"input_1\")\n",
        "input_2 = Input(shape=1, dtype=tf.float32, name=\"input_2\")\n",
        "input = tf.keras.layers.concatenate([x_bert, input_1, input_2])\n",
        "\n",
        "output = Dense(30, activation='sigmoid')(input)\n",
        "\n",
        "model = Model(inputs=[input_tokens, input_mask, input_segment, input_1, input_2], outputs=output)"
      ],
      "execution_count": 18,
      "outputs": []
    },
    {
      "cell_type": "code",
      "metadata": {
        "id": "vtuQG9O7WHnn",
        "colab_type": "code",
        "colab": {
          "base_uri": "https://localhost:8080/",
          "height": 919
        },
        "outputId": "c8d56019-e510-4803-c8ef-7dd796272bc0"
      },
      "source": [
        "model.summary()"
      ],
      "execution_count": 19,
      "outputs": [
        {
          "output_type": "stream",
          "text": [
            "Model: \"model\"\n",
            "__________________________________________________________________________________________________\n",
            "Layer (type)                    Output Shape         Param #     Connected to                     \n",
            "==================================================================================================\n",
            "input_tokens (InputLayer)       [(None, 512)]        0                                            \n",
            "__________________________________________________________________________________________________\n",
            "input_mask (InputLayer)         [(None, 512)]        0                                            \n",
            "__________________________________________________________________________________________________\n",
            "input_segment (InputLayer)      [(None, 512)]        0                                            \n",
            "__________________________________________________________________________________________________\n",
            "tf_bert_model (TFBertModel)     ((None, 512, 768), ( 109482240   input_tokens[0][0]               \n",
            "                                                                 input_mask[0][0]                 \n",
            "                                                                 input_segment[0][0]              \n",
            "__________________________________________________________________________________________________\n",
            "tf_op_layer_strided_slice (Tens [(None, 768)]        0           tf_bert_model[0][14]             \n",
            "__________________________________________________________________________________________________\n",
            "tf_op_layer_strided_slice_1 (Te [(None, 768)]        0           tf_bert_model[0][13]             \n",
            "__________________________________________________________________________________________________\n",
            "tf_op_layer_strided_slice_2 (Te [(None, 768)]        0           tf_bert_model[0][12]             \n",
            "__________________________________________________________________________________________________\n",
            "tf_op_layer_strided_slice_3 (Te [(None, 768)]        0           tf_bert_model[0][11]             \n",
            "__________________________________________________________________________________________________\n",
            "tf_op_layer_Reshape (TensorFlow [(None, 1, 768)]     0           tf_op_layer_strided_slice[0][0]  \n",
            "__________________________________________________________________________________________________\n",
            "tf_op_layer_Reshape_1 (TensorFl [(None, 1, 768)]     0           tf_op_layer_strided_slice_1[0][0]\n",
            "__________________________________________________________________________________________________\n",
            "tf_op_layer_Reshape_2 (TensorFl [(None, 1, 768)]     0           tf_op_layer_strided_slice_2[0][0]\n",
            "__________________________________________________________________________________________________\n",
            "tf_op_layer_Reshape_3 (TensorFl [(None, 1, 768)]     0           tf_op_layer_strided_slice_3[0][0]\n",
            "__________________________________________________________________________________________________\n",
            "concatenate (Concatenate)       (None, 1, 3072)      0           tf_op_layer_Reshape[0][0]        \n",
            "                                                                 tf_op_layer_Reshape_1[0][0]      \n",
            "                                                                 tf_op_layer_Reshape_2[0][0]      \n",
            "                                                                 tf_op_layer_Reshape_3[0][0]      \n",
            "__________________________________________________________________________________________________\n",
            "global_average_pooling1d (Globa (None, 3072)         0           concatenate[0][0]                \n",
            "__________________________________________________________________________________________________\n",
            "input_1 (InputLayer)            [(None, 30)]         0                                            \n",
            "__________________________________________________________________________________________________\n",
            "input_2 (InputLayer)            [(None, 1)]          0                                            \n",
            "__________________________________________________________________________________________________\n",
            "concatenate_1 (Concatenate)     (None, 3103)         0           global_average_pooling1d[0][0]   \n",
            "                                                                 input_1[0][0]                    \n",
            "                                                                 input_2[0][0]                    \n",
            "__________________________________________________________________________________________________\n",
            "dense (Dense)                   (None, 30)           93120       concatenate_1[0][0]              \n",
            "==================================================================================================\n",
            "Total params: 109,575,360\n",
            "Trainable params: 109,575,360\n",
            "Non-trainable params: 0\n",
            "__________________________________________________________________________________________________\n"
          ],
          "name": "stdout"
        }
      ]
    },
    {
      "cell_type": "code",
      "metadata": {
        "id": "lGWLQZo_hJ_x",
        "colab_type": "code",
        "colab": {
          "base_uri": "https://localhost:8080/",
          "height": 388
        },
        "outputId": "ac5025d8-bc2a-4227-bb74-5c23158a3427"
      },
      "source": [
        "tf.keras.utils.plot_model( \n",
        "    model, to_file='model.png', \n",
        "    show_shapes=False, \n",
        "    show_layer_names=True, \n",
        "    rankdir='TB', \n",
        "    expand_nested=False, dpi=48\n",
        ")"
      ],
      "execution_count": 20,
      "outputs": [
        {
          "output_type": "execute_result",
          "data": {
            "image/png": "[encoded data removed]",
            "text/plain": [
              "<IPython.core.display.Image object>"
            ]
          },
          "metadata": {
            "tags": []
          },
          "execution_count": 20
        }
      ]
    },
    {
      "cell_type": "code",
      "metadata": {
        "id": "R2q-Og5d8A2q",
        "colab_type": "code",
        "colab": {
          "base_uri": "https://localhost:8080/",
          "height": 67,
          "referenced_widgets": [
            "04da0ae2eb714683945c30a4aa51ba82",
            "22e376007729408c8edf826fb5401f12",
            "f7bba56c1bcf458dace3560ce8f62fb2",
            "63558c902b2245988167434bddcd07fa",
            "021cf947ee6b42fabb6d58782af12c34",
            "082a645ae86a45de94c250b9fe4af9fc",
            "2683120425fe4c95a02a27ab4c3c9af5",
            "5fadaf8bea274a1097d2eb8d3859b44a"
          ]
        },
        "outputId": "acc1413d-15d7-43ab-cf22-4108628943ca"
      },
      "source": [
        "# Test data\n",
        "tokens, masks, segments = compute_input_arrays(X_test)\n",
        "test_data= {'input_tokens': tokens, \n",
        "             'input_mask': masks, \n",
        "             'input_segment': segments,\n",
        "             'input_1': input_test,\n",
        "             'input_2': upvotes_test}"
      ],
      "execution_count": 21,
      "outputs": [
        {
          "output_type": "display_data",
          "data": {
            "application/vnd.jupyter.widget-view+json": {
              "model_id": "04da0ae2eb714683945c30a4aa51ba82",
              "version_minor": 0,
              "version_major": 2
            },
            "text/plain": [
              "HBox(children=(FloatProgress(value=1.0, bar_style='info', max=1.0), HTML(value='')))"
            ]
          },
          "metadata": {
            "tags": []
          }
        },
        {
          "output_type": "stream",
          "text": [
            "\n"
          ],
          "name": "stdout"
        }
      ]
    },
    {
      "cell_type": "code",
      "metadata": {
        "id": "Uw7VtzH8djNQ",
        "colab_type": "code",
        "colab": {
          "base_uri": "https://localhost:8080/",
          "height": 67,
          "referenced_widgets": [
            "6f1be9cc50574e6f936e7f2166f9abc3",
            "eba887dd849f42feb5f74b1925295575",
            "6f6fe544637f4865872dff5ff11b747d",
            "695a4b7e45494e80af8ef8f281ba168f",
            "4439e387e3b9479fbd7f22301fb134c3",
            "81539474445d4bdda0d3f450c1258c5e",
            "d5be1cca2f2b4ee1966a6821ba05e7f4",
            "cf55c30f0e6c473b906e8d968d5701b6"
          ]
        },
        "outputId": "cfc4293e-ca27-4eea-8aaf-efa213ddbb8f"
      },
      "source": [
        "tokens, masks, segments = compute_input_arrays(X)\n",
        "# function to make the train data comptable with KFold.\n",
        "def generate_data(tr, cv):\n",
        "  train_data = {'input_tokens': tokens[tr], \n",
        "                'input_mask': masks[tr], \n",
        "                'input_segment': segments[tr],\n",
        "                'input_1': input_train[tr],\n",
        "                'input_2': upvotes_train[tr]}\n",
        "\n",
        "  cv_data = {'input_tokens': tokens[cv], \n",
        "                'input_mask': masks[cv], \n",
        "                'input_segment': segments[cv],\n",
        "                'input_1': input_train[cv],\n",
        "                'input_2': upvotes_train[cv]}\n",
        "\n",
        "  return train_data, cv_data, y.values[tr], y.values[cv]"
      ],
      "execution_count": 22,
      "outputs": [
        {
          "output_type": "display_data",
          "data": {
            "application/vnd.jupyter.widget-view+json": {
              "model_id": "6f1be9cc50574e6f936e7f2166f9abc3",
              "version_minor": 0,
              "version_major": 2
            },
            "text/plain": [
              "HBox(children=(FloatProgress(value=1.0, bar_style='info', max=1.0), HTML(value='')))"
            ]
          },
          "metadata": {
            "tags": []
          }
        },
        {
          "output_type": "stream",
          "text": [
            "\n"
          ],
          "name": "stdout"
        }
      ]
    },
    {
      "cell_type": "code",
      "metadata": {
        "id": "N1ySGmk28AxB",
        "colab_type": "code",
        "colab": {}
      },
      "source": [
        "# Function to calculate the Spearman's rank correlation coefficient 'rhos' of actual and predicted data.\n",
        "from scipy.stats import spearmanr\n",
        "def compute_spearmanr_ignore_nan(trues, preds):\n",
        "    rhos = []\n",
        "    for tcol, pcol in zip(np.transpose(trues), np.transpose(preds)):\n",
        "        rhos.append(spearmanr(tcol, pcol).correlation)\n",
        "    return np.nanmean(rhos)"
      ],
      "execution_count": 23,
      "outputs": []
    },
    {
      "cell_type": "code",
      "metadata": {
        "id": "JreCSJP3Eqic",
        "colab_type": "code",
        "colab": {}
      },
      "source": [
        "# Making the 'rhos' metric to tensorflow graph compatible.\n",
        "def rhos(y, y_pred):\n",
        "  return tf.py_function(compute_spearmanr_ignore_nan, (y, y_pred), tf.double)\n",
        "metrics = [rhos]"
      ],
      "execution_count": 24,
      "outputs": []
    },
    {
      "cell_type": "code",
      "metadata": {
        "id": "W3lKbRV8Z_aC",
        "colab_type": "code",
        "colab": {
          "base_uri": "https://localhost:8080/",
          "height": 444
        },
        "outputId": "b46669d6-275d-40fc-d853-23e75e2233bc"
      },
      "source": [
        "# Compiling and training the model\n",
        "optimizer = tf.keras.optimizers.Adam(learning_rate=0.00002)\n",
        "model.compile(loss='binary_crossentropy', optimizer=optimizer, metrics=metrics)\n",
        "kf = KFold(n_splits=5, random_state=42)\n",
        "for tr, cv in kf.split(np.arange(train.shape[0])):\n",
        "    tr_data, cv_data, y_tr, y_cv = generate_data(tr, cv)\n",
        "    model.fit(tr_data, y_tr, epochs=1, batch_size=4, validation_data=(cv_data, y_cv))\n",
        "    model.load_weights(\"drive/My Drive/model_qa.h5\")"
      ],
      "execution_count": 25,
      "outputs": [
        {
          "output_type": "stream",
          "text": [
            "/usr/local/lib/python3.6/dist-packages/sklearn/model_selection/_split.py:296: FutureWarning: Setting a random_state has no effect since shuffle is False. This will raise an error in 0.24. You should leave random_state to its default (None), or set shuffle=True.\n",
            "  FutureWarning\n"
          ],
          "name": "stderr"
        },
        {
          "output_type": "stream",
          "text": [
            "WARNING:tensorflow:Gradients do not exist for variables ['tf_bert_model/bert/pooler/dense/kernel:0', 'tf_bert_model/bert/pooler/dense/bias:0'] when minimizing the loss.\n",
            "WARNING:tensorflow:Gradients do not exist for variables ['tf_bert_model/bert/pooler/dense/kernel:0', 'tf_bert_model/bert/pooler/dense/bias:0'] when minimizing the loss.\n",
            "WARNING:tensorflow:Gradients do not exist for variables ['tf_bert_model/bert/pooler/dense/kernel:0', 'tf_bert_model/bert/pooler/dense/bias:0'] when minimizing the loss.\n",
            "WARNING:tensorflow:Gradients do not exist for variables ['tf_bert_model/bert/pooler/dense/kernel:0', 'tf_bert_model/bert/pooler/dense/bias:0'] when minimizing the loss.\n",
            "   1/1216 [..............................] - ETA: 0s - loss: 0.7439 - rhos: -0.0990"
          ],
          "name": "stdout"
        },
        {
          "output_type": "stream",
          "text": [
            "/usr/local/lib/python3.6/dist-packages/numpy/lib/function_base.py:2534: RuntimeWarning: invalid value encountered in true_divide\n",
            "  c /= stddev[:, None]\n",
            "/usr/local/lib/python3.6/dist-packages/numpy/lib/function_base.py:2535: RuntimeWarning: invalid value encountered in true_divide\n",
            "  c /= stddev[None, :]\n",
            "/usr/local/lib/python3.6/dist-packages/scipy/stats/_distn_infrastructure.py:903: RuntimeWarning: invalid value encountered in greater\n",
            "  return (a < x) & (x < b)\n",
            "/usr/local/lib/python3.6/dist-packages/scipy/stats/_distn_infrastructure.py:903: RuntimeWarning: invalid value encountered in less\n",
            "  return (a < x) & (x < b)\n",
            "/usr/local/lib/python3.6/dist-packages/scipy/stats/_distn_infrastructure.py:1912: RuntimeWarning: invalid value encountered in less_equal\n",
            "  cond2 = cond0 & (x <= _a)\n"
          ],
          "name": "stderr"
        },
        {
          "output_type": "stream",
          "text": [
            "1216/1216 [==============================] - 413s 340ms/step - loss: 0.3881 - rhos: 0.3193 - val_loss: 0.3729 - val_rhos: 0.4066\n",
            "1216/1216 [==============================] - 411s 338ms/step - loss: 0.3631 - rhos: 0.4243 - val_loss: 0.3540 - val_rhos: 0.4473\n",
            "1216/1216 [==============================] - 410s 337ms/step - loss: 0.3506 - rhos: 0.4710 - val_loss: 0.3448 - val_rhos: 0.5116\n",
            "1216/1216 [==============================] - 410s 337ms/step - loss: 0.3400 - rhos: 0.5146 - val_loss: 0.3263 - val_rhos: 0.5588\n",
            "WARNING:tensorflow:Gradients do not exist for variables ['tf_bert_model/bert/pooler/dense/kernel:0', 'tf_bert_model/bert/pooler/dense/bias:0'] when minimizing the loss.\n",
            "WARNING:tensorflow:Gradients do not exist for variables ['tf_bert_model/bert/pooler/dense/kernel:0', 'tf_bert_model/bert/pooler/dense/bias:0'] when minimizing the loss.\n",
            "1216/1216 [==============================] - 394s 324ms/step - loss: 0.3287 - rhos: 0.5511 - val_loss: 0.3166 - val_rhos: 0.6109\n"
          ],
          "name": "stdout"
        }
      ]
    },
    {
      "cell_type": "code",
      "metadata": {
        "id": "0Z-wAdaiTCuk",
        "colab_type": "code",
        "colab": {}
      },
      "source": [
        "# Predicting the train and test data labels\n",
        "pred = model.predict(test_data)\n",
        "# saving the predicted labels as dataframes\n",
        "df = pd.concat([test['qa_id'], pd.DataFrame(pred, columns=submission.columns[1:])], axis=1)\n",
        "df.to_csv('output.csv', index=False)"
      ],
      "execution_count": 27,
      "outputs": []
    },
    {
      "cell_type": "code",
      "metadata": {
        "id": "8pIPyttvjqRC",
        "colab_type": "code",
        "colab": {}
      },
      "source": [
        ""
      ],
      "execution_count": null,
      "outputs": []
    }
  ]
}