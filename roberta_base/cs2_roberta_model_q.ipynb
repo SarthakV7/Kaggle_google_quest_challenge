{
  "nbformat": 4,
  "nbformat_minor": 0,
  "metadata": {
    "colab": {
      "name": "cs2_roberta_model_q.ipynb",
      "provenance": [],
      "collapsed_sections": []
    },
    "kernelspec": {
      "name": "python3",
      "display_name": "Python 3"
    },
    "accelerator": "GPU"
  },
  "cells": [
    {
      "cell_type": "code",
      "metadata": {
        "id": "ofjzGWfZxcpb",
        "colab_type": "code",
        "colab": {
          "base_uri": "https://localhost:8080/",
          "height": 375
        },
        "outputId": "4f90b5eb-8f5b-417f-dcaf-2ccaa86418e3"
      },
      "source": [
        "!pip install transformers==2.4.0"
      ],
      "execution_count": 1,
      "outputs": [
        {
          "output_type": "stream",
          "text": [
            "Requirement already satisfied: transformers==2.4.0 in /usr/local/lib/python3.6/dist-packages (2.4.0)\n",
            "Requirement already satisfied: regex!=2019.12.17 in /usr/local/lib/python3.6/dist-packages (from transformers==2.4.0) (2019.12.20)\n",
            "Requirement already satisfied: sentencepiece in /usr/local/lib/python3.6/dist-packages (from transformers==2.4.0) (0.1.91)\n",
            "Requirement already satisfied: tokenizers==0.0.11 in /usr/local/lib/python3.6/dist-packages (from transformers==2.4.0) (0.0.11)\n",
            "Requirement already satisfied: boto3 in /usr/local/lib/python3.6/dist-packages (from transformers==2.4.0) (1.14.22)\n",
            "Requirement already satisfied: requests in /usr/local/lib/python3.6/dist-packages (from transformers==2.4.0) (2.23.0)\n",
            "Requirement already satisfied: filelock in /usr/local/lib/python3.6/dist-packages (from transformers==2.4.0) (3.0.12)\n",
            "Requirement already satisfied: tqdm>=4.27 in /usr/local/lib/python3.6/dist-packages (from transformers==2.4.0) (4.41.1)\n",
            "Requirement already satisfied: numpy in /usr/local/lib/python3.6/dist-packages (from transformers==2.4.0) (1.18.5)\n",
            "Requirement already satisfied: sacremoses in /usr/local/lib/python3.6/dist-packages (from transformers==2.4.0) (0.0.43)\n",
            "Requirement already satisfied: botocore<1.18.0,>=1.17.22 in /usr/local/lib/python3.6/dist-packages (from boto3->transformers==2.4.0) (1.17.22)\n",
            "Requirement already satisfied: s3transfer<0.4.0,>=0.3.0 in /usr/local/lib/python3.6/dist-packages (from boto3->transformers==2.4.0) (0.3.3)\n",
            "Requirement already satisfied: jmespath<1.0.0,>=0.7.1 in /usr/local/lib/python3.6/dist-packages (from boto3->transformers==2.4.0) (0.10.0)\n",
            "Requirement already satisfied: chardet<4,>=3.0.2 in /usr/local/lib/python3.6/dist-packages (from requests->transformers==2.4.0) (3.0.4)\n",
            "Requirement already satisfied: certifi>=2017.4.17 in /usr/local/lib/python3.6/dist-packages (from requests->transformers==2.4.0) (2020.6.20)\n",
            "Requirement already satisfied: idna<3,>=2.5 in /usr/local/lib/python3.6/dist-packages (from requests->transformers==2.4.0) (2.10)\n",
            "Requirement already satisfied: urllib3!=1.25.0,!=1.25.1,<1.26,>=1.21.1 in /usr/local/lib/python3.6/dist-packages (from requests->transformers==2.4.0) (1.24.3)\n",
            "Requirement already satisfied: six in /usr/local/lib/python3.6/dist-packages (from sacremoses->transformers==2.4.0) (1.15.0)\n",
            "Requirement already satisfied: joblib in /usr/local/lib/python3.6/dist-packages (from sacremoses->transformers==2.4.0) (0.16.0)\n",
            "Requirement already satisfied: click in /usr/local/lib/python3.6/dist-packages (from sacremoses->transformers==2.4.0) (7.1.2)\n",
            "Requirement already satisfied: docutils<0.16,>=0.10 in /usr/local/lib/python3.6/dist-packages (from botocore<1.18.0,>=1.17.22->boto3->transformers==2.4.0) (0.15.2)\n",
            "Requirement already satisfied: python-dateutil<3.0.0,>=2.1 in /usr/local/lib/python3.6/dist-packages (from botocore<1.18.0,>=1.17.22->boto3->transformers==2.4.0) (2.8.1)\n"
          ],
          "name": "stdout"
        }
      ]
    },
    {
      "cell_type": "code",
      "metadata": {
        "id": "zo-WWUpvxafw",
        "colab_type": "code",
        "colab": {}
      },
      "source": [
        "# importing necessary libraries\n",
        "from typing import List, Tuple\n",
        "import random\n",
        "import html\n",
        "\n",
        "import pandas as pd\n",
        "import numpy as np\n",
        "from sklearn.model_selection import GroupKFold, KFold\n",
        "import matplotlib.pyplot as plt\n",
        "from tqdm.notebook import tqdm\n",
        "import tensorflow as tf\n",
        "import tensorflow.keras.backend as K\n",
        "import os\n",
        "from scipy.stats import spearmanr\n",
        "from scipy.optimize import minimize\n",
        "from math import floor, ceil\n",
        "from transformers import *\n",
        "from tensorflow.keras.layers import Flatten, Dense, Dropout, GlobalAveragePooling1D\n",
        "from tensorflow.keras.models import Model"
      ],
      "execution_count": 2,
      "outputs": []
    },
    {
      "cell_type": "code",
      "metadata": {
        "id": "CLmMEUgxx26B",
        "colab_type": "code",
        "colab": {}
      },
      "source": [
        "# fixing random seeds\n",
        "seed = 13\n",
        "random.seed(seed)\n",
        "os.environ['PYTHONHASHSEED'] = str(seed)\n",
        "np.random.seed(seed)\n",
        "tf.random.set_seed(seed)"
      ],
      "execution_count": 3,
      "outputs": []
    },
    {
      "cell_type": "code",
      "metadata": {
        "id": "k4xfZk07SVN_",
        "colab_type": "code",
        "colab": {
          "base_uri": "https://localhost:8080/",
          "height": 33
        },
        "outputId": "7c769650-6e69-4148-d6da-60b12735e9a2"
      },
      "source": [
        "from google.colab import drive\n",
        "drive.mount('/content/drive')"
      ],
      "execution_count": 4,
      "outputs": [
        {
          "output_type": "stream",
          "text": [
            "Drive already mounted at /content/drive; to attempt to forcibly remount, call drive.mount(\"/content/drive\", force_remount=True).\n"
          ],
          "name": "stdout"
        }
      ]
    },
    {
      "cell_type": "code",
      "metadata": {
        "id": "CcVQirniSYcn",
        "colab_type": "code",
        "colab": {}
      },
      "source": [
        "# reading the data into dataframe using pandas\n",
        "train = pd.read_csv('drive/My Drive/case_study_2/train.csv')\n",
        "test = pd.read_csv('drive/My Drive/case_study_2/test.csv')\n",
        "submission = pd.read_csv('drive/My Drive/case_study_2/sample_submission.csv')"
      ],
      "execution_count": 5,
      "outputs": []
    },
    {
      "cell_type": "code",
      "metadata": {
        "id": "tNGA4pJ4VNEM",
        "colab_type": "code",
        "colab": {}
      },
      "source": [
        "# Selecting data for training and testing\n",
        "y = train[train.columns[11:]] # storing the target values in y\n",
        "X = train[['question_title', 'question_body', 'answer']]\n",
        "X_test = test[['question_title', 'question_body', 'answer']]"
      ],
      "execution_count": 6,
      "outputs": []
    },
    {
      "cell_type": "code",
      "metadata": {
        "id": "cigOT9S5xUKj",
        "colab_type": "code",
        "colab": {
          "base_uri": "https://localhost:8080/",
          "height": 115
        },
        "outputId": "3c7c5ac2-d88c-4f3a-d19e-66e471fcdf4a"
      },
      "source": [
        "# Cleaning the data\n",
        "X.question_body = X.question_body.apply(html.unescape)\n",
        "X.question_title = X.question_title.apply(html.unescape)\n",
        "X.answer = X.answer.apply(html.unescape)\n",
        "\n",
        "X_test.question_body = X_test.question_body.apply(html.unescape)\n",
        "X_test.question_title = X_test.question_title.apply(html.unescape)\n",
        "X_test.answer = X_test.answer.apply(html.unescape)"
      ],
      "execution_count": 7,
      "outputs": [
        {
          "output_type": "stream",
          "text": [
            "/usr/local/lib/python3.6/dist-packages/pandas/core/generic.py:5303: SettingWithCopyWarning: \n",
            "A value is trying to be set on a copy of a slice from a DataFrame.\n",
            "Try using .loc[row_indexer,col_indexer] = value instead\n",
            "\n",
            "See the caveats in the documentation: https://pandas.pydata.org/pandas-docs/stable/user_guide/indexing.html#returning-a-view-versus-a-copy\n",
            "  self[name] = value\n"
          ],
          "name": "stderr"
        }
      ]
    },
    {
      "cell_type": "code",
      "metadata": {
        "id": "7Ud1PUdkxUH5",
        "colab_type": "code",
        "colab": {}
      },
      "source": [
        "# this function trims the tokens with length > 512 to match with the bert input.\n",
        "def _trim_input(tokens, max_sequence_length=512):\n",
        "    length = len(tokens)\n",
        "    if length > max_sequence_length:\n",
        "      tokens = tokens[:max_sequence_length-1]\n",
        "    return tokens"
      ],
      "execution_count": 8,
      "outputs": []
    },
    {
      "cell_type": "code",
      "metadata": {
        "id": "hOYKNqYpxUFI",
        "colab_type": "code",
        "colab": {}
      },
      "source": [
        "tokenizer = RobertaTokenizer.from_pretrained('roberta-base')\n",
        "MAX_SEQUENCE_LENGTH = 512\n",
        "\n",
        "# function for tokenizing the input data for bert\n",
        "def _convert_to_transformer_inputs(title, question, answer, tokenizer):\n",
        "    question = f\"{title} [SEP] {question}\"\n",
        "    question_tokens = tokenizer.tokenize(question)\n",
        "    answer_tokens = tokenizer.tokenize(answer)\n",
        "    question_tokens = _trim_input(question_tokens)\n",
        "    answer_tokens = _trim_input(answer_tokens)\n",
        "    ids_q = tokenizer.convert_tokens_to_ids([\"[CLS]\"] + question_tokens)\n",
        "    ids_a = tokenizer.convert_tokens_to_ids([\"[CLS]\"] + answer_tokens)\n",
        "    padded_ids_q = (ids_q + [tokenizer.pad_token_id] * (MAX_SEQUENCE_LENGTH - len(ids_q)))[:MAX_SEQUENCE_LENGTH]\n",
        "    padded_ids_a = (ids_a + [tokenizer.pad_token_id] * (MAX_SEQUENCE_LENGTH - len(ids_a)))[:MAX_SEQUENCE_LENGTH]\n",
        "    token_type_ids_q = ([0] * MAX_SEQUENCE_LENGTH)[:MAX_SEQUENCE_LENGTH]\n",
        "    token_type_ids_a = ([0] * MAX_SEQUENCE_LENGTH)[:MAX_SEQUENCE_LENGTH]\n",
        "    attention_mask_q = ([1] * len(ids_q) + [0] * (MAX_SEQUENCE_LENGTH - len(ids_q)))[:MAX_SEQUENCE_LENGTH]\n",
        "    attention_mask_a = ([1] * len(ids_a) + [0] * (MAX_SEQUENCE_LENGTH - len(ids_a)))[:MAX_SEQUENCE_LENGTH]\n",
        "    \n",
        "    return (padded_ids_q, padded_ids_a, token_type_ids_q, token_type_ids_a, attention_mask_q, attention_mask_a)"
      ],
      "execution_count": 9,
      "outputs": []
    },
    {
      "cell_type": "code",
      "metadata": {
        "id": "TjkzpFyC0hPA",
        "colab_type": "code",
        "colab": {}
      },
      "source": [
        "# function for creating the input_ids, masks and segments for the bert input\n",
        "def compute_input_arrays(df, question_only=False):\n",
        "    input_ids_q, input_token_type_ids_q, input_attention_masks_q = [], [], []\n",
        "    input_ids_a, input_token_type_ids_a, input_attention_masks_a = [], [], []\n",
        "    i=0\n",
        "    for title, body, answer in zip(df[\"question_title\"].values, df[\"question_body\"].values, df[\"answer\"].values):\n",
        "        values = _convert_to_transformer_inputs(title, body, answer, tokenizer)\n",
        "        padded_ids_q, padded_ids_a, token_type_ids_q, token_type_ids_a, attention_mask_q, attention_mask_a = values\n",
        "        input_ids_q.append(padded_ids_q)\n",
        "        input_ids_a.append(padded_ids_a)\n",
        "        input_token_type_ids_q.append(token_type_ids_q)\n",
        "        input_token_type_ids_a.append(token_type_ids_a)\n",
        "        input_attention_masks_q.append(attention_mask_q)\n",
        "        input_attention_masks_a.append(attention_mask_a)\n",
        "        i+=1\n",
        "\n",
        "    return (np.asarray(input_ids_q, dtype=np.int32),\n",
        "            np.asarray(input_ids_a, dtype=np.int32),\n",
        "            np.asarray(input_token_type_ids_q, dtype=np.int32),\n",
        "            np.asarray(input_token_type_ids_a, dtype=np.int32),\n",
        "            np.asarray(input_attention_masks_q, dtype=np.int32),\n",
        "            np.asarray(input_attention_masks_a, dtype=np.int32))\n",
        "\n",
        "def compute_output_arrays(df):\n",
        "    return np.asarray(df[output_categories])"
      ],
      "execution_count": 10,
      "outputs": []
    },
    {
      "cell_type": "code",
      "metadata": {
        "id": "9SrBTPLR8A6b",
        "colab_type": "code",
        "colab": {}
      },
      "source": [
        "# Creating the model\n",
        "K.clear_session()\n",
        "max_seq_length = 512\n",
        "\n",
        "input_tokens = tf.keras.layers.Input(shape=(max_seq_length,), dtype=tf.int32, name=\"input_tokens\")\n",
        "input_mask = tf.keras.layers.Input(shape=(max_seq_length,), dtype=tf.int32, name=\"input_mask\")\n",
        "input_segment = tf.keras.layers.Input(shape=(max_seq_length,), dtype=tf.int32, name=\"input_segment\")\n",
        "\n",
        "#bert layer\n",
        "roberta_config = RobertaConfig.from_pretrained('roberta-base', output_hidden_states=True)\n",
        "roberta_model = TFRobertaModel.from_pretrained('roberta-base', config=roberta_config)\n",
        "\n",
        "sequence_output, pooler_output, hidden_states = roberta_model([input_tokens,input_mask, input_segment])\n",
        "# Last 4 hidden layers of bert\n",
        "h12 = tf.reshape(hidden_states[-1][:,0],(-1,1,768))\n",
        "h11 = tf.reshape(hidden_states[-2][:,0],(-1,1,768))\n",
        "h10 = tf.reshape(hidden_states[-3][:,0],(-1,1,768))\n",
        "h09 = tf.reshape(hidden_states[-4][:,0],(-1,1,768))\n",
        "concat_hidden = tf.keras.layers.Concatenate(axis=2)([h12, h11, h10, h09])\n",
        "\n",
        "x = GlobalAveragePooling1D()(concat_hidden)\n",
        "\n",
        "x = Dropout(0.2)(x)\n",
        "\n",
        "output = Dense(21, activation='sigmoid')(x)\n",
        "\n",
        "model_q = Model(inputs=[input_tokens, input_mask, input_segment], outputs=output)"
      ],
      "execution_count": 11,
      "outputs": []
    },
    {
      "cell_type": "code",
      "metadata": {
        "id": "Jz0tMtwboWHR",
        "colab_type": "code",
        "colab": {
          "base_uri": "https://localhost:8080/",
          "height": 748
        },
        "outputId": "c61dff3e-c95f-4524-f9bc-3e8947082fba"
      },
      "source": [
        "model_q.summary()"
      ],
      "execution_count": 12,
      "outputs": [
        {
          "output_type": "stream",
          "text": [
            "Model: \"model\"\n",
            "__________________________________________________________________________________________________\n",
            "Layer (type)                    Output Shape         Param #     Connected to                     \n",
            "==================================================================================================\n",
            "input_tokens (InputLayer)       [(None, 512)]        0                                            \n",
            "__________________________________________________________________________________________________\n",
            "input_mask (InputLayer)         [(None, 512)]        0                                            \n",
            "__________________________________________________________________________________________________\n",
            "input_segment (InputLayer)      [(None, 512)]        0                                            \n",
            "__________________________________________________________________________________________________\n",
            "tf_roberta_model (TFRobertaMode ((None, 512, 768), ( 124645632   input_tokens[0][0]               \n",
            "                                                                 input_mask[0][0]                 \n",
            "                                                                 input_segment[0][0]              \n",
            "__________________________________________________________________________________________________\n",
            "tf_op_layer_strided_slice (Tens [(None, 768)]        0           tf_roberta_model[0][14]          \n",
            "__________________________________________________________________________________________________\n",
            "tf_op_layer_strided_slice_1 (Te [(None, 768)]        0           tf_roberta_model[0][13]          \n",
            "__________________________________________________________________________________________________\n",
            "tf_op_layer_strided_slice_2 (Te [(None, 768)]        0           tf_roberta_model[0][12]          \n",
            "__________________________________________________________________________________________________\n",
            "tf_op_layer_strided_slice_3 (Te [(None, 768)]        0           tf_roberta_model[0][11]          \n",
            "__________________________________________________________________________________________________\n",
            "tf_op_layer_Reshape (TensorFlow [(None, 1, 768)]     0           tf_op_layer_strided_slice[0][0]  \n",
            "__________________________________________________________________________________________________\n",
            "tf_op_layer_Reshape_1 (TensorFl [(None, 1, 768)]     0           tf_op_layer_strided_slice_1[0][0]\n",
            "__________________________________________________________________________________________________\n",
            "tf_op_layer_Reshape_2 (TensorFl [(None, 1, 768)]     0           tf_op_layer_strided_slice_2[0][0]\n",
            "__________________________________________________________________________________________________\n",
            "tf_op_layer_Reshape_3 (TensorFl [(None, 1, 768)]     0           tf_op_layer_strided_slice_3[0][0]\n",
            "__________________________________________________________________________________________________\n",
            "concatenate (Concatenate)       (None, 1, 3072)      0           tf_op_layer_Reshape[0][0]        \n",
            "                                                                 tf_op_layer_Reshape_1[0][0]      \n",
            "                                                                 tf_op_layer_Reshape_2[0][0]      \n",
            "                                                                 tf_op_layer_Reshape_3[0][0]      \n",
            "__________________________________________________________________________________________________\n",
            "global_average_pooling1d (Globa (None, 3072)         0           concatenate[0][0]                \n",
            "__________________________________________________________________________________________________\n",
            "dropout_38 (Dropout)            (None, 3072)         0           global_average_pooling1d[0][0]   \n",
            "__________________________________________________________________________________________________\n",
            "dense (Dense)                   (None, 21)           64533       dropout_38[0][0]                 \n",
            "==================================================================================================\n",
            "Total params: 124,710,165\n",
            "Trainable params: 124,710,165\n",
            "Non-trainable params: 0\n",
            "__________________________________________________________________________________________________\n"
          ],
          "name": "stdout"
        }
      ]
    },
    {
      "cell_type": "code",
      "metadata": {
        "id": "UTvknekloZaG",
        "colab_type": "code",
        "colab": {
          "base_uri": "https://localhost:8080/",
          "height": 387
        },
        "outputId": "237edda7-27fe-47a3-c9f3-2e39878b3595"
      },
      "source": [
        "tf.keras.utils.plot_model( \n",
        "    model_q, to_file='model.png', \n",
        "    show_shapes=False, \n",
        "    show_layer_names=True, \n",
        "    rankdir='TB', \n",
        "    expand_nested=False, dpi=48\n",
        ")"
      ],
      "execution_count": 13,
      "outputs": [
        {
          "output_type": "execute_result",
          "data": {
            "image/png": "[encoded data removed]",
            "text/plain": [
              "<IPython.core.display.Image object>"
            ]
          },
          "metadata": {
            "tags": []
          },
          "execution_count": 13
        }
      ]
    },
    {
      "cell_type": "code",
      "metadata": {
        "id": "R2q-Og5d8A2q",
        "colab_type": "code",
        "colab": {}
      },
      "source": [
        "# Test data\n",
        "tokens_q, tokens_a, segments_q, segments_a, masks_q, masks_a = compute_input_arrays(X_test)\n",
        "test_data_q = {'input_tokens': tokens_q, \n",
        "             'input_mask': masks_q, \n",
        "             'input_segment': segments_q} "
      ],
      "execution_count": 14,
      "outputs": []
    },
    {
      "cell_type": "code",
      "metadata": {
        "id": "G2ef8wFuteru",
        "colab_type": "code",
        "colab": {}
      },
      "source": [
        "# Train data\n",
        "tokens_q, tokens_a, segments_q, segments_a, masks_q, masks_a = compute_input_arrays(X)\n",
        "def generate_data(tr, cv):\n",
        "  train_data_q = {'input_tokens': tokens_q[tr], \n",
        "                'input_mask': masks_q[tr], \n",
        "                'input_segment': segments_q[tr]}\n",
        "\n",
        "  cv_data_q = {'input_tokens': tokens_q[cv], \n",
        "                'input_mask': masks_q[cv], \n",
        "                'input_segment': segments_q[cv]}\n",
        "\n",
        "  return train_data_q, cv_data_q, y.values[tr,:21], y.values[cv,:21]"
      ],
      "execution_count": 15,
      "outputs": []
    },
    {
      "cell_type": "code",
      "metadata": {
        "id": "N1ySGmk28AxB",
        "colab_type": "code",
        "colab": {}
      },
      "source": [
        "# Function to calculate the Spearman's rank correlation coefficient 'rhos' of actual and predicted data.\n",
        "from scipy.stats import spearmanr\n",
        "def compute_spearmanr_ignore_nan(trues, preds):\n",
        "    rhos = []\n",
        "    for tcol, pcol in zip(np.transpose(trues), np.transpose(preds)):\n",
        "        rhos.append(spearmanr(tcol, pcol).correlation)\n",
        "    return np.nanmean(rhos)"
      ],
      "execution_count": 16,
      "outputs": []
    },
    {
      "cell_type": "code",
      "metadata": {
        "id": "JreCSJP3Eqic",
        "colab_type": "code",
        "colab": {}
      },
      "source": [
        "# Making the 'rhos' metric to tensorflow graph compatible.\n",
        "def rhos(y, y_pred):\n",
        "  return tf.py_function(compute_spearmanr_ignore_nan, (y, y_pred), tf.double)\n",
        "metrics = [rhos]"
      ],
      "execution_count": 17,
      "outputs": []
    },
    {
      "cell_type": "code",
      "metadata": {
        "id": "aknu5k4QEsju",
        "colab_type": "code",
        "colab": {
          "base_uri": "https://localhost:8080/",
          "height": 411
        },
        "outputId": "d3681a81-fa90-45ae-c9f3-c660dcd66a98"
      },
      "source": [
        "from sklearn.model_selection import KFold\n",
        "# Compiling and training the model\n",
        "optimizer = tf.keras.optimizers.Adam(learning_rate=0.00002)\n",
        "model_q.compile(loss='binary_crossentropy', optimizer=optimizer, metrics=metrics)\n",
        "kf = KFold(n_splits=5, random_state=42)\n",
        "for tr, cv in kf.split(np.arange(train.shape[0])):\n",
        "  tr_data, cv_data, y_tr, y_cv = generate_data(tr, cv)\n",
        "  model_q.fit(tr_data, y_tr, epochs=1, batch_size=4, validation_data=(cv_data, y_cv))"
      ],
      "execution_count": 18,
      "outputs": [
        {
          "output_type": "stream",
          "text": [
            "/usr/local/lib/python3.6/dist-packages/sklearn/model_selection/_split.py:296: FutureWarning: Setting a random_state has no effect since shuffle is False. This will raise an error in 0.24. You should leave random_state to its default (None), or set shuffle=True.\n",
            "  FutureWarning\n"
          ],
          "name": "stderr"
        },
        {
          "output_type": "stream",
          "text": [
            "WARNING:tensorflow:Gradients do not exist for variables ['tf_roberta_model/roberta/pooler/dense/kernel:0', 'tf_roberta_model/roberta/pooler/dense/bias:0'] when minimizing the loss.\n",
            "WARNING:tensorflow:Gradients do not exist for variables ['tf_roberta_model/roberta/pooler/dense/kernel:0', 'tf_roberta_model/roberta/pooler/dense/bias:0'] when minimizing the loss.\n",
            "WARNING:tensorflow:Gradients do not exist for variables ['tf_roberta_model/roberta/pooler/dense/kernel:0', 'tf_roberta_model/roberta/pooler/dense/bias:0'] when minimizing the loss.\n",
            "WARNING:tensorflow:Gradients do not exist for variables ['tf_roberta_model/roberta/pooler/dense/kernel:0', 'tf_roberta_model/roberta/pooler/dense/bias:0'] when minimizing the loss.\n"
          ],
          "name": "stdout"
        },
        {
          "output_type": "stream",
          "text": [
            "/usr/local/lib/python3.6/dist-packages/numpy/lib/function_base.py:2534: RuntimeWarning: invalid value encountered in true_divide\n",
            "  c /= stddev[:, None]\n",
            "/usr/local/lib/python3.6/dist-packages/numpy/lib/function_base.py:2535: RuntimeWarning: invalid value encountered in true_divide\n",
            "  c /= stddev[None, :]\n",
            "/usr/local/lib/python3.6/dist-packages/scipy/stats/_distn_infrastructure.py:903: RuntimeWarning: invalid value encountered in greater\n",
            "  return (a < x) & (x < b)\n",
            "/usr/local/lib/python3.6/dist-packages/scipy/stats/_distn_infrastructure.py:903: RuntimeWarning: invalid value encountered in less\n",
            "  return (a < x) & (x < b)\n",
            "/usr/local/lib/python3.6/dist-packages/scipy/stats/_distn_infrastructure.py:1912: RuntimeWarning: invalid value encountered in less_equal\n",
            "  cond2 = cond0 & (x <= _a)\n"
          ],
          "name": "stderr"
        },
        {
          "output_type": "stream",
          "text": [
            "1216/1216 [==============================] - 1342s 1s/step - loss: 0.4150 - rhos: 0.2774 - val_loss: 0.3813 - val_rhos: 0.4324\n",
            "1216/1216 [==============================] - 1338s 1s/step - loss: 0.3815 - rhos: 0.3985 - val_loss: 0.3593 - val_rhos: 0.4781\n",
            "1216/1216 [==============================] - 1341s 1s/step - loss: 0.3688 - rhos: 0.4400 - val_loss: 0.3560 - val_rhos: 0.5170\n",
            "1216/1216 [==============================] - 1340s 1s/step - loss: 0.3615 - rhos: 0.4664 - val_loss: 0.3429 - val_rhos: 0.5349\n",
            "WARNING:tensorflow:Gradients do not exist for variables ['tf_roberta_model/roberta/pooler/dense/kernel:0', 'tf_roberta_model/roberta/pooler/dense/bias:0'] when minimizing the loss.\n",
            "WARNING:tensorflow:Gradients do not exist for variables ['tf_roberta_model/roberta/pooler/dense/kernel:0', 'tf_roberta_model/roberta/pooler/dense/bias:0'] when minimizing the loss.\n",
            "1216/1216 [==============================] - 1329s 1s/step - loss: 0.3542 - rhos: 0.4953 - val_loss: 0.3400 - val_rhos: 0.5674\n"
          ],
          "name": "stdout"
        }
      ]
    },
    {
      "cell_type": "code",
      "metadata": {
        "id": "ZO__zSKAn7po",
        "colab_type": "code",
        "colab": {}
      },
      "source": [
        "model_q.save_weights(\"drive/My Drive/roberta_model_q.h5\")"
      ],
      "execution_count": 26,
      "outputs": []
    },
    {
      "cell_type": "code",
      "metadata": {
        "id": "xNrhssU3KEEd",
        "colab_type": "code",
        "colab": {}
      },
      "source": [
        "# complete train data\n",
        "tokens_q, tokens_a, segments_q, segments_a, masks_q, masks_a = compute_input_arrays(X)\n",
        "train_data_q = {'input_tokens': tokens_q, \n",
        "                'input_mask': masks_q, \n",
        "                'input_segment': segments_q} "
      ],
      "execution_count": 27,
      "outputs": []
    },
    {
      "cell_type": "code",
      "metadata": {
        "id": "00xS1Z7vGQYu",
        "colab_type": "code",
        "colab": {}
      },
      "source": [
        "# Predicting the train and test data labels\n",
        "pred_q_test = model_q.predict(test_data_q)\n",
        "pred_q_train = model_q.predict(train_data_q)\n",
        "\n",
        "# saving the predicted labels as dataframes\n",
        "df = pd.DataFrame(pred_q_train, columns=y.columns[:21])\n",
        "df.to_csv('roberta_pred_q_train.csv', index=False)\n",
        "\n",
        "df = pd.DataFrame(pred_q_test, columns=y.columns[:21])\n",
        "df.to_csv('roberta_pred_q_test.csv', index=False)"
      ],
      "execution_count": 28,
      "outputs": []
    },
    {
      "cell_type": "code",
      "metadata": {
        "id": "8saddTSHGl6w",
        "colab_type": "code",
        "colab": {}
      },
      "source": [
        ""
      ],
      "execution_count": null,
      "outputs": []
    }
  ]
}